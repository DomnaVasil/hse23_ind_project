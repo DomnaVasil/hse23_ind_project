{
  "nbformat": 4,
  "nbformat_minor": 0,
  "metadata": {
    "colab": {
      "provenance": []
    },
    "kernelspec": {
      "name": "python3",
      "display_name": "Python 3"
    },
    "language_info": {
      "name": "python"
    }
  },
  "cells": [
    {
      "cell_type": "code",
      "execution_count": null,
      "metadata": {
        "colab": {
          "base_uri": "https://localhost:8080/"
        },
        "id": "Kmyuwg4tHZ2T",
        "outputId": "9451c1f7-df94-4085-c296-fbcfb64171b8"
      },
      "outputs": [
        {
          "output_type": "stream",
          "name": "stdout",
          "text": [
            "\r0% [Working]\r            \rHit:1 http://ppa.launchpad.net/c2d4u.team/c2d4u4.0+/ubuntu focal InRelease\n",
            "\r0% [Waiting for headers] [Waiting for headers] [Connected to cloud.r-project.or\r                                                                               \rHit:2 http://archive.ubuntu.com/ubuntu focal InRelease\n",
            "\r                                                                               \rGet:3 http://archive.ubuntu.com/ubuntu focal-updates InRelease [114 kB]\n",
            "\r                                                                               \rGet:4 http://security.ubuntu.com/ubuntu focal-security InRelease [114 kB]\n",
            "\r                                                                               \rGet:5 https://cloud.r-project.org/bin/linux/ubuntu focal-cran40/ InRelease [3,622 B]\n",
            "\r                                                                               \rHit:6 http://ppa.launchpad.net/cran/libgit2/ubuntu focal InRelease\n",
            "\r0% [3 InRelease 75.0 kB/114 kB 66%] [Waiting for headers] [Connected to develop\r                                                                               \rGet:7 http://ppa.launchpad.net/deadsnakes/ppa/ubuntu focal InRelease [18.1 kB]\n",
            "\r0% [3 InRelease 107 kB/114 kB 94%] [7 InRelease 14.2 kB/18.1 kB 78%] [Connected\r0% [Waiting for headers] [7 InRelease 14.2 kB/18.1 kB 78%] [Connected to develo\r0% [Waiting for headers] [Connecting to ppa.launchpad.net (185.125.190.52)] [Wa\r                                                                               \rGet:8 http://archive.ubuntu.com/ubuntu focal-backports InRelease [108 kB]\n",
            "\r0% [8 InRelease 15.6 kB/108 kB 14%] [Connecting to ppa.launchpad.net (185.125.1\r                                                                               \r0% [Connecting to ppa.launchpad.net (185.125.190.52)] [Waiting for headers]\r                                                                           \rHit:9 http://ppa.launchpad.net/graphics-drivers/ppa/ubuntu focal InRelease\n",
            "\r0% [Connecting to ppa.launchpad.net (185.125.190.52)] [Waiting for headers]\r                                                                           \rHit:10 http://ppa.launchpad.net/ubuntugis/ppa/ubuntu focal InRelease\n",
            "Hit:11 https://developer.download.nvidia.com/compute/cuda/repos/ubuntu2004/x86_64  InRelease\n",
            "Get:12 http://security.ubuntu.com/ubuntu focal-security/universe amd64 Packages [1,057 kB]\n",
            "Get:13 http://security.ubuntu.com/ubuntu focal-security/main amd64 Packages [2,774 kB]\n",
            "Get:14 http://archive.ubuntu.com/ubuntu focal-updates/main amd64 Packages [3,253 kB]\n",
            "Get:15 http://archive.ubuntu.com/ubuntu focal-updates/universe amd64 Packages [1,353 kB]\n",
            "Get:16 http://ppa.launchpad.net/deadsnakes/ppa/ubuntu focal/main amd64 Packages [29.6 kB]\n",
            "Fetched 8,824 kB in 2s (5,870 kB/s)\n",
            "Reading package lists... Done\n"
          ]
        }
      ],
      "source": [
        "!apt-get update"
      ]
    },
    {
      "cell_type": "code",
      "source": [
        "!apt-get install ncbi-blast+"
      ],
      "metadata": {
        "colab": {
          "base_uri": "https://localhost:8080/"
        },
        "id": "Ar_RpB_qHeNq",
        "outputId": "4bd503d8-d1d7-4522-ad4c-26884d82829c"
      },
      "execution_count": null,
      "outputs": [
        {
          "output_type": "stream",
          "name": "stdout",
          "text": [
            "Reading package lists... Done\n",
            "Building dependency tree       \n",
            "Reading state information... Done\n",
            "The following additional packages will be installed:\n",
            "  ncbi-data\n",
            "The following NEW packages will be installed:\n",
            "  ncbi-blast+ ncbi-data\n",
            "0 upgraded, 2 newly installed, 0 to remove and 48 not upgraded.\n",
            "Need to get 14.6 MB of archives.\n",
            "After this operation, 74.2 MB of additional disk space will be used.\n",
            "Get:1 http://archive.ubuntu.com/ubuntu focal/universe amd64 ncbi-data all 6.1.20170106+dfsg1-8 [3,518 kB]\n",
            "Get:2 http://archive.ubuntu.com/ubuntu focal/universe amd64 ncbi-blast+ amd64 2.9.0-2 [11.1 MB]\n",
            "Fetched 14.6 MB in 0s (47.1 MB/s)\n",
            "Selecting previously unselected package ncbi-data.\n",
            "(Reading database ... 122541 files and directories currently installed.)\n",
            "Preparing to unpack .../ncbi-data_6.1.20170106+dfsg1-8_all.deb ...\n",
            "Unpacking ncbi-data (6.1.20170106+dfsg1-8) ...\n",
            "Selecting previously unselected package ncbi-blast+.\n",
            "Preparing to unpack .../ncbi-blast+_2.9.0-2_amd64.deb ...\n",
            "Unpacking ncbi-blast+ (2.9.0-2) ...\n",
            "Setting up ncbi-data (6.1.20170106+dfsg1-8) ...\n",
            "Setting up ncbi-blast+ (2.9.0-2) ...\n",
            "Processing triggers for man-db (2.9.1-1) ...\n",
            "Processing triggers for hicolor-icon-theme (0.17-2) ...\n"
          ]
        }
      ]
    },
    {
      "cell_type": "code",
      "source": [
        "!makeblastdb  -dbtype prot  -in c.elegans.faa \n",
        "!makeblastdb  -dbtype prot  -in ciliate.faa \n",
        "!makeblastdb  -dbtype prot  -in drosophila.faa\n",
        "!makeblastdb  -dbtype prot  -in e.coli.faa \n",
        "!makeblastdb  -dbtype prot  -in human.faa\n",
        "!makeblastdb  -dbtype prot  -in mouse.faa \n",
        "!makeblastdb  -dbtype prot  -in yeast.faa\n",
        "!makeblastdb  -dbtype prot  -in zebrafish.faa \n",
        "!makeblastdb  -dbtype prot  -in thermococcus.faa \n",
        "!makeblastdb  -dbtype prot  -in tuberculosis.faa \n",
        "!makeblastdb  -dbtype prot  -in methanocaldococcus.faa "
      ],
      "metadata": {
        "colab": {
          "base_uri": "https://localhost:8080/"
        },
        "id": "bbZgg4RMYKke",
        "outputId": "cf2e35dc-c04b-4181-d300-a98cc381f1fc"
      },
      "execution_count": null,
      "outputs": [
        {
          "output_type": "stream",
          "name": "stdout",
          "text": [
            "\n",
            "\n",
            "Building a new DB, current time: 06/07/2023 21:49:06\n",
            "New DB name:   /content/c.elegans.faa\n",
            "New DB title:  c.elegans.faa\n",
            "Sequence type: Protein\n",
            "Keep MBits: T\n",
            "Maximum file size: 1000000000B\n",
            "Adding sequences from FASTA; added 28546 sequences in 0.72025 seconds.\n",
            "\n",
            "\n",
            "Building a new DB, current time: 06/07/2023 21:49:06\n",
            "New DB name:   /content/ciliate.faa\n",
            "New DB title:  ciliate.faa\n",
            "Sequence type: Protein\n",
            "Keep MBits: T\n",
            "Maximum file size: 1000000000B\n",
            "Adding sequences from FASTA; added 26996 sequences in 0.75163 seconds.\n",
            "\n",
            "\n",
            "Building a new DB, current time: 06/07/2023 21:49:07\n",
            "New DB name:   /content/drosophila.faa\n",
            "New DB title:  drosophila.faa\n",
            "Sequence type: Protein\n",
            "Keep MBits: T\n",
            "Maximum file size: 1000000000B\n",
            "Adding sequences from FASTA; added 30799 sequences in 0.874223 seconds.\n",
            "\n",
            "\n",
            "Building a new DB, current time: 06/07/2023 21:49:08\n",
            "New DB name:   /content/e.coli.faa\n",
            "New DB title:  e.coli.faa\n",
            "Sequence type: Protein\n",
            "Keep MBits: T\n",
            "Maximum file size: 1000000000B\n",
            "Adding sequences from FASTA; added 4298 sequences in 0.0954559 seconds.\n",
            "\n",
            "\n",
            "Building a new DB, current time: 06/07/2023 21:49:08\n",
            "New DB name:   /content/human.faa\n",
            "New DB title:  human.faa\n",
            "Sequence type: Protein\n",
            "Keep MBits: T\n",
            "Maximum file size: 1000000000B\n",
            "Adding sequences from FASTA; added 136193 sequences in 4.56534 seconds.\n",
            "\n",
            "\n",
            "Building a new DB, current time: 06/07/2023 21:49:13\n",
            "New DB name:   /content/mouse.faa\n",
            "New DB title:  mouse.faa\n",
            "Sequence type: Protein\n",
            "Keep MBits: T\n",
            "Maximum file size: 1000000000B\n",
            "Adding sequences from FASTA; added 96192 sequences in 2.73306 seconds.\n",
            "\n",
            "\n",
            "Building a new DB, current time: 06/07/2023 21:49:16\n",
            "New DB name:   /content/yeast.faa\n",
            "New DB title:  yeast.faa\n",
            "Sequence type: Protein\n",
            "Keep MBits: T\n",
            "Maximum file size: 1000000000B\n",
            "Adding sequences from FASTA; added 6017 sequences in 0.158977 seconds.\n",
            "\n",
            "\n",
            "Building a new DB, current time: 06/07/2023 21:49:16\n",
            "New DB name:   /content/zebrafish.faa\n",
            "New DB title:  zebrafish.faa\n",
            "Sequence type: Protein\n",
            "Keep MBits: T\n",
            "Maximum file size: 1000000000B\n",
            "Adding sequences from FASTA; added 52829 sequences in 1.522 seconds.\n",
            "\n",
            "\n",
            "Building a new DB, current time: 06/07/2023 21:49:18\n",
            "New DB name:   /content/thermococcus.faa\n",
            "New DB title:  thermococcus.faa\n",
            "Sequence type: Protein\n",
            "Keep MBits: T\n",
            "Maximum file size: 1000000000B\n",
            "Adding sequences from FASTA; added 2284 sequences in 0.0496819 seconds.\n",
            "\n",
            "\n",
            "Building a new DB, current time: 06/07/2023 21:49:18\n",
            "New DB name:   /content/tuberculosis.faa\n",
            "New DB title:  tuberculosis.faa\n",
            "Sequence type: Protein\n",
            "Keep MBits: T\n",
            "Maximum file size: 1000000000B\n",
            "Adding sequences from FASTA; added 3906 sequences in 0.0876811 seconds.\n",
            "\n",
            "\n",
            "Building a new DB, current time: 06/07/2023 21:49:18\n",
            "New DB name:   /content/methanocaldococcus.faa\n",
            "New DB title:  methanocaldococcus.faa\n",
            "Sequence type: Protein\n",
            "Keep MBits: T\n",
            "Maximum file size: 1000000000B\n",
            "Adding sequences from FASTA; added 1595 sequences in 0.0335541 seconds.\n"
          ]
        }
      ]
    },
    {
      "cell_type": "code",
      "source": [
        "!blastp  -query NP_001399526_1.fasta  -db drosophila.faa  -out drosophila.blast  -outfmt 7"
      ],
      "metadata": {
        "id": "ydvDm_TOaz0S"
      },
      "execution_count": null,
      "outputs": []
    },
    {
      "cell_type": "code",
      "source": [
        "!blastp  -query NP_001399526_1.fasta  -db c.elegans.faa  -out c.elegans.blast  -outfmt 7\n",
        "!blastp  -query NP_001399526_1.fasta  -db ciliate.faa  -out ciliate.blast  -outfmt 7\n",
        "!blastp  -query NP_001399526_1.fasta  -db e.coli.faa  -out e.coli.blast  -outfmt 7\n",
        "!blastp  -query NP_001399526_1.fasta  -db human.faa  -out human.blast  -outfmt 7\n",
        "!blastp  -query NP_001399526_1.fasta  -db methanocaldococcus.faa  -out methanocaldococcus.blast  -outfmt 7\n",
        "!blastp  -query NP_001399526_1.fasta  -db mouse.faa  -out mouse.blast  -outfmt 7\n",
        "!blastp  -query NP_001399526_1.fasta  -db thermococcus.faa  -out thermococcus.blast  -outfmt 7\n",
        "!blastp  -query NP_001399526_1.fasta  -db tuberculosis.faa  -out tuberculosis.blast  -outfmt 7\n",
        "!blastp  -query NP_001399526_1.fasta  -db yeast.faa  -out yeast.blast  -outfmt 7\n",
        "!blastp  -query NP_001399526_1.fasta  -db zebrafish.faa  -out zebrafish.blast  -outfmt 7"
      ],
      "metadata": {
        "id": "sUQDlW62bPaL"
      },
      "execution_count": null,
      "outputs": []
    },
    {
      "cell_type": "code",
      "source": [
        "#zebrafish.fasta -- белковые последовательности модельного организма\n",
        "!makeblastdb  -dbtype prot  -in c.elegans.faa  -out c.elegans.proteins\n",
        "!makeblastdb  -dbtype prot  -in ciliate.faa  -out ciliate.proteins\n",
        "!makeblastdb  -dbtype prot  -in e.coli.faa  -out e.coli.proteins\n",
        "!makeblastdb  -dbtype prot  -in human.faa  -out human.proteins\n",
        "!makeblastdb  -dbtype prot  -in methanocaldococcus.faa  -out methanocaldococcus.proteins\n",
        "!makeblastdb  -dbtype prot  -in mouse.faa  -out mouse.proteins\n",
        "!makeblastdb  -dbtype prot  -in thermococcus.faa  -out thermococcus.proteins\n",
        "!makeblastdb  -dbtype prot  -in tuberculosis.faa  -out tuberculosis.proteins\n",
        "!makeblastdb  -dbtype prot  -in drosophila.faa  -out drosophila.proteins\n",
        "!makeblastdb  -dbtype prot  -in yeast.faa  -out yeast.proteins\n",
        "!makeblastdb  -dbtype prot  -in zebrafish.fasta  -out zebrafish.proteins"
      ],
      "metadata": {
        "colab": {
          "base_uri": "https://localhost:8080/"
        },
        "id": "TypiO_q-uMkc",
        "outputId": "bf8631af-045d-4268-e2dd-ea59f589b915"
      },
      "execution_count": null,
      "outputs": [
        {
          "output_type": "stream",
          "name": "stdout",
          "text": [
            "\n",
            "\n",
            "Building a new DB, current time: 06/07/2023 21:38:57\n",
            "New DB name:   /content/c.elegans.proteins\n",
            "New DB title:  c.elegans.faa\n",
            "Sequence type: Protein\n",
            "Keep MBits: T\n",
            "Maximum file size: 1000000000B\n",
            "Adding sequences from FASTA; added 28546 sequences in 0.71311 seconds.\n",
            "\n",
            "\n",
            "Building a new DB, current time: 06/07/2023 21:38:57\n",
            "New DB name:   /content/ciliate.proteins\n",
            "New DB title:  ciliate.faa\n",
            "Sequence type: Protein\n",
            "Keep MBits: T\n",
            "Maximum file size: 1000000000B\n",
            "Adding sequences from FASTA; added 26996 sequences in 0.991682 seconds.\n",
            "\n",
            "\n",
            "Building a new DB, current time: 06/07/2023 21:38:59\n",
            "New DB name:   /content/e.coli.proteins\n",
            "New DB title:  e.coli.faa\n",
            "Sequence type: Protein\n",
            "Keep MBits: T\n",
            "Maximum file size: 1000000000B\n",
            "Adding sequences from FASTA; added 4298 sequences in 0.136763 seconds.\n",
            "\n",
            "\n",
            "Building a new DB, current time: 06/07/2023 21:38:59\n",
            "New DB name:   /content/human.proteins\n",
            "New DB title:  human.faa\n",
            "Sequence type: Protein\n",
            "Keep MBits: T\n",
            "Maximum file size: 1000000000B\n",
            "Adding sequences from FASTA; added 136193 sequences in 4.08485 seconds.\n",
            "\n",
            "\n",
            "Building a new DB, current time: 06/07/2023 21:39:03\n",
            "New DB name:   /content/methanocaldococcus.proteins\n",
            "New DB title:  methanocaldococcus.faa\n",
            "Sequence type: Protein\n",
            "Keep MBits: T\n",
            "Maximum file size: 1000000000B\n",
            "Adding sequences from FASTA; added 1595 sequences in 0.0368109 seconds.\n",
            "\n",
            "\n",
            "Building a new DB, current time: 06/07/2023 21:39:03\n",
            "New DB name:   /content/mouse.proteins\n",
            "New DB title:  mouse.faa\n",
            "Sequence type: Protein\n",
            "Keep MBits: T\n",
            "Maximum file size: 1000000000B\n",
            "Adding sequences from FASTA; added 96192 sequences in 2.71444 seconds.\n",
            "\n",
            "\n",
            "Building a new DB, current time: 06/07/2023 21:39:06\n",
            "New DB name:   /content/thermococcus.proteins\n",
            "New DB title:  thermococcus.faa\n",
            "Sequence type: Protein\n",
            "Keep MBits: T\n",
            "Maximum file size: 1000000000B\n",
            "Adding sequences from FASTA; added 2284 sequences in 0.0486941 seconds.\n",
            "\n",
            "\n",
            "Building a new DB, current time: 06/07/2023 21:39:06\n",
            "New DB name:   /content/tuberculosis.proteins\n",
            "New DB title:  tuberculosis.faa\n",
            "Sequence type: Protein\n",
            "Keep MBits: T\n",
            "Maximum file size: 1000000000B\n",
            "Adding sequences from FASTA; added 3906 sequences in 0.0866561 seconds.\n",
            "\n",
            "\n",
            "Building a new DB, current time: 06/07/2023 21:39:06\n",
            "New DB name:   /content/drosophila.proteins\n",
            "New DB title:  drosophila.faa\n",
            "Sequence type: Protein\n",
            "Keep MBits: T\n",
            "Maximum file size: 1000000000B\n",
            "Adding sequences from FASTA; added 30799 sequences in 0.879209 seconds.\n",
            "\n",
            "\n",
            "Building a new DB, current time: 06/07/2023 21:39:07\n",
            "New DB name:   /content/yeast.proteins\n",
            "New DB title:  yeast.faa\n",
            "Sequence type: Protein\n",
            "Keep MBits: T\n",
            "Maximum file size: 1000000000B\n",
            "Adding sequences from FASTA; added 6017 sequences in 0.154142 seconds.\n",
            "\n",
            "\n",
            "Building a new DB, current time: 06/07/2023 21:39:07\n",
            "New DB name:   /content/zebrafish.proteins\n",
            "New DB title:  zebrafish.fasta\n",
            "Sequence type: Protein\n",
            "Keep MBits: T\n",
            "Maximum file size: 1000000000B\n",
            "BLAST options error: File zebrafish.fasta does not exist\n"
          ]
        }
      ]
    },
    {
      "cell_type": "code",
      "source": [
        "!blastp -help"
      ],
      "metadata": {
        "colab": {
          "base_uri": "https://localhost:8080/"
        },
        "id": "HT-7TGN5MVIQ",
        "outputId": "14bfac57-26b0-451f-d530-52fa5dac2dde"
      },
      "execution_count": null,
      "outputs": [
        {
          "output_type": "stream",
          "name": "stdout",
          "text": [
            "USAGE\n",
            "  blastp [-h] [-help] [-import_search_strategy filename]\n",
            "    [-export_search_strategy filename] [-task task_name] [-db database_name]\n",
            "    [-dbsize num_letters] [-gilist filename] [-seqidlist filename]\n",
            "    [-negative_gilist filename] [-negative_seqidlist filename]\n",
            "    [-taxids taxids] [-negative_taxids taxids] [-taxidlist filename]\n",
            "    [-negative_taxidlist filename] [-ipglist filename]\n",
            "    [-negative_ipglist filename] [-entrez_query entrez_query]\n",
            "    [-db_soft_mask filtering_algorithm] [-db_hard_mask filtering_algorithm]\n",
            "    [-subject subject_input_file] [-subject_loc range] [-query input_file]\n",
            "    [-out output_file] [-evalue evalue] [-word_size int_value]\n",
            "    [-gapopen open_penalty] [-gapextend extend_penalty]\n",
            "    [-qcov_hsp_perc float_value] [-max_hsps int_value]\n",
            "    [-xdrop_ungap float_value] [-xdrop_gap float_value]\n",
            "    [-xdrop_gap_final float_value] [-searchsp int_value] [-seg SEG_options]\n",
            "    [-soft_masking soft_masking] [-matrix matrix_name]\n",
            "    [-threshold float_value] [-culling_limit int_value]\n",
            "    [-best_hit_overhang float_value] [-best_hit_score_edge float_value]\n",
            "    [-subject_besthit] [-window_size int_value] [-lcase_masking]\n",
            "    [-query_loc range] [-parse_deflines] [-outfmt format] [-show_gis]\n",
            "    [-num_descriptions int_value] [-num_alignments int_value]\n",
            "    [-line_length line_length] [-html] [-sorthits sort_hits]\n",
            "    [-sorthsps sort_hsps] [-max_target_seqs num_sequences]\n",
            "    [-num_threads int_value] [-ungapped] [-remote] [-comp_based_stats compo]\n",
            "    [-use_sw_tback] [-version]\n",
            "\n",
            "DESCRIPTION\n",
            "   Protein-Protein BLAST 2.9.0+\n",
            "\n",
            "OPTIONAL ARGUMENTS\n",
            " -h\n",
            "   Print USAGE and DESCRIPTION;  ignore all other parameters\n",
            " -help\n",
            "   Print USAGE, DESCRIPTION and ARGUMENTS; ignore all other parameters\n",
            " -version\n",
            "   Print version number;  ignore other arguments\n",
            "\n",
            " *** Input query options\n",
            " -query <File_In>\n",
            "   Input file name\n",
            "   Default = `-'\n",
            " -query_loc <String>\n",
            "   Location on the query sequence in 1-based offsets (Format: start-stop)\n",
            "\n",
            " *** General search options\n",
            " -task <String, Permissible values: 'blastp' 'blastp-fast' 'blastp-short' >\n",
            "   Task to execute\n",
            "   Default = `blastp'\n",
            " -db <String>\n",
            "   BLAST database name\n",
            "    * Incompatible with:  subject, subject_loc\n",
            " -out <File_Out>\n",
            "   Output file name\n",
            "   Default = `-'\n",
            " -evalue <Real>\n",
            "   Expectation value (E) threshold for saving hits \n",
            "   Default = `10'\n",
            " -word_size <Integer, >=2>\n",
            "   Word size for wordfinder algorithm\n",
            " -gapopen <Integer>\n",
            "   Cost to open a gap\n",
            " -gapextend <Integer>\n",
            "   Cost to extend a gap\n",
            " -matrix <String>\n",
            "   Scoring matrix name (normally BLOSUM62)\n",
            " -threshold <Real, >=0>\n",
            "   Minimum word score such that the word is added to the BLAST lookup table\n",
            " -comp_based_stats <String>\n",
            "   Use composition-based statistics:\n",
            "       D or d: default (equivalent to 2 )\n",
            "       0 or F or f: No composition-based statistics\n",
            "       1: Composition-based statistics as in NAR 29:2994-3005, 2001\n",
            "       2 or T or t : Composition-based score adjustment as in Bioinformatics\n",
            "   21:902-911,\n",
            "       2005, conditioned on sequence properties\n",
            "       3: Composition-based score adjustment as in Bioinformatics 21:902-911,\n",
            "       2005, unconditionally\n",
            "   Default = `2'\n",
            "\n",
            " *** BLAST-2-Sequences options\n",
            " -subject <File_In>\n",
            "   Subject sequence(s) to search\n",
            "    * Incompatible with:  db, gilist, seqidlist, negative_gilist,\n",
            "   negative_seqidlist, taxids, taxidlist, negative_taxids, negative_taxidlist,\n",
            "   ipglist, negative_ipglist, db_soft_mask, db_hard_mask\n",
            " -subject_loc <String>\n",
            "   Location on the subject sequence in 1-based offsets (Format: start-stop)\n",
            "    * Incompatible with:  db, gilist, seqidlist, negative_gilist,\n",
            "   negative_seqidlist, taxids, taxidlist, negative_taxids, negative_taxidlist,\n",
            "   ipglist, negative_ipglist, db_soft_mask, db_hard_mask, remote\n",
            "\n",
            " *** Formatting options\n",
            " -outfmt <String>\n",
            "   alignment view options:\n",
            "     0 = Pairwise,\n",
            "     1 = Query-anchored showing identities,\n",
            "     2 = Query-anchored no identities,\n",
            "     3 = Flat query-anchored showing identities,\n",
            "     4 = Flat query-anchored no identities,\n",
            "     5 = BLAST XML,\n",
            "     6 = Tabular,\n",
            "     7 = Tabular with comment lines,\n",
            "     8 = Seqalign (Text ASN.1),\n",
            "     9 = Seqalign (Binary ASN.1),\n",
            "    10 = Comma-separated values,\n",
            "    11 = BLAST archive (ASN.1),\n",
            "    12 = Seqalign (JSON),\n",
            "    13 = Multiple-file BLAST JSON,\n",
            "    14 = Multiple-file BLAST XML2,\n",
            "    15 = Single-file BLAST JSON,\n",
            "    16 = Single-file BLAST XML2,\n",
            "    18 = Organism Report\n",
            "   \n",
            "   Options 6, 7 and 10 can be additionally configured to produce\n",
            "   a custom format specified by space delimited format specifiers,\n",
            "   or by a token specified by the delim keyword.\n",
            "    E.g.: \"17 delim=@ qacc sacc score\".\n",
            "   The delim keyword must appear after the numeric output format\n",
            "   specification.\n",
            "   The supported format specifiers are:\n",
            "   \t    qseqid means Query Seq-id\n",
            "   \t       qgi means Query GI\n",
            "   \t      qacc means Query accesion\n",
            "   \t   qaccver means Query accesion.version\n",
            "   \t      qlen means Query sequence length\n",
            "   \t    sseqid means Subject Seq-id\n",
            "   \t sallseqid means All subject Seq-id(s), separated by a ';'\n",
            "   \t       sgi means Subject GI\n",
            "   \t    sallgi means All subject GIs\n",
            "   \t      sacc means Subject accession\n",
            "   \t   saccver means Subject accession.version\n",
            "   \t   sallacc means All subject accessions\n",
            "   \t      slen means Subject sequence length\n",
            "   \t    qstart means Start of alignment in query\n",
            "   \t      qend means End of alignment in query\n",
            "   \t    sstart means Start of alignment in subject\n",
            "   \t      send means End of alignment in subject\n",
            "   \t      qseq means Aligned part of query sequence\n",
            "   \t      sseq means Aligned part of subject sequence\n",
            "   \t    evalue means Expect value\n",
            "   \t  bitscore means Bit score\n",
            "   \t     score means Raw score\n",
            "   \t    length means Alignment length\n",
            "   \t    pident means Percentage of identical matches\n",
            "   \t    nident means Number of identical matches\n",
            "   \t  mismatch means Number of mismatches\n",
            "   \t  positive means Number of positive-scoring matches\n",
            "   \t   gapopen means Number of gap openings\n",
            "   \t      gaps means Total number of gaps\n",
            "   \t      ppos means Percentage of positive-scoring matches\n",
            "   \t    frames means Query and subject frames separated by a '/'\n",
            "   \t    qframe means Query frame\n",
            "   \t    sframe means Subject frame\n",
            "   \t      btop means Blast traceback operations (BTOP)\n",
            "   \t    staxid means Subject Taxonomy ID\n",
            "   \t  ssciname means Subject Scientific Name\n",
            "   \t  scomname means Subject Common Name\n",
            "   \tsblastname means Subject Blast Name\n",
            "   \t sskingdom means Subject Super Kingdom\n",
            "   \t   staxids means unique Subject Taxonomy ID(s), separated by a ';'\n",
            "   \t\t\t (in numerical order)\n",
            "   \t sscinames means unique Subject Scientific Name(s), separated by a ';'\n",
            "   \t scomnames means unique Subject Common Name(s), separated by a ';'\n",
            "   \tsblastnames means unique Subject Blast Name(s), separated by a ';'\n",
            "   \t\t\t (in alphabetical order)\n",
            "   \tsskingdoms means unique Subject Super Kingdom(s), separated by a ';'\n",
            "   \t\t\t (in alphabetical order) \n",
            "   \t    stitle means Subject Title\n",
            "   \tsalltitles means All Subject Title(s), separated by a '<>'\n",
            "   \t   sstrand means Subject Strand\n",
            "   \t     qcovs means Query Coverage Per Subject\n",
            "   \t   qcovhsp means Query Coverage Per HSP\n",
            "   \t    qcovus means Query Coverage Per Unique Subject (blastn only)\n",
            "   When not provided, the default value is:\n",
            "   'qaccver saccver pident length mismatch gapopen qstart qend sstart send\n",
            "   evalue bitscore', which is equivalent to the keyword 'std'\n",
            "   Default = `0'\n",
            " -show_gis\n",
            "   Show NCBI GIs in deflines?\n",
            " -num_descriptions <Integer, >=0>\n",
            "   Number of database sequences to show one-line descriptions for\n",
            "   Not applicable for outfmt > 4\n",
            "   Default = `500'\n",
            "    * Incompatible with:  max_target_seqs\n",
            " -num_alignments <Integer, >=0>\n",
            "   Number of database sequences to show alignments for\n",
            "   Default = `250'\n",
            "    * Incompatible with:  max_target_seqs\n",
            " -line_length <Integer, >=1>\n",
            "   Line length for formatting alignments\n",
            "   Not applicable for outfmt > 4\n",
            "   Default = `60'\n",
            " -html\n",
            "   Produce HTML output?\n",
            " -sorthits <Integer, (>=0 and =<4)>\n",
            "   Sorting option for hits:\n",
            "   alignment view options:\n",
            "     0 = Sort by evalue,\n",
            "     1 = Sort by bit score,\n",
            "     2 = Sort by total score,\n",
            "     3 = Sort by percent identity,\n",
            "     4 = Sort by query coverage\n",
            "   Not applicable for outfmt > 4\n",
            " -sorthsps <Integer, (>=0 and =<4)>\n",
            "   Sorting option for hps:\n",
            "     0 = Sort by hsp evalue,\n",
            "     1 = Sort by hsp score,\n",
            "     2 = Sort by hsp query start,\n",
            "     3 = Sort by hsp percent identity,\n",
            "     4 = Sort by hsp subject start\n",
            "   Not applicable for outfmt != 0\n",
            "\n",
            " *** Query filtering options\n",
            " -seg <String>\n",
            "   Filter query sequence with SEG (Format: 'yes', 'window locut hicut', or\n",
            "   'no' to disable)\n",
            "   Default = `no'\n",
            " -soft_masking <Boolean>\n",
            "   Apply filtering locations as soft masks\n",
            "   Default = `false'\n",
            " -lcase_masking\n",
            "   Use lower case filtering in query and subject sequence(s)?\n",
            "\n",
            " *** Restrict search or results\n",
            " -gilist <String>\n",
            "   Restrict search of database to list of GIs\n",
            "    * Incompatible with:  seqidlist, taxids, taxidlist, negative_gilist,\n",
            "   negative_seqidlist, negative_taxids, negative_taxidlist, remote, subject,\n",
            "   subject_loc\n",
            " -seqidlist <String>\n",
            "   Restrict search of database to list of SeqIDs\n",
            "    * Incompatible with:  gilist, taxids, taxidlist, negative_gilist,\n",
            "   negative_seqidlist, negative_taxids, negative_taxidlist, remote, subject,\n",
            "   subject_loc\n",
            " -negative_gilist <String>\n",
            "   Restrict search of database to everything except the specified GIs\n",
            "    * Incompatible with:  gilist, seqidlist, taxids, taxidlist,\n",
            "   negative_seqidlist, negative_taxids, negative_taxidlist, remote, subject,\n",
            "   subject_loc\n",
            " -negative_seqidlist <String>\n",
            "   Restrict search of database to everything except the specified SeqIDs\n",
            "    * Incompatible with:  gilist, seqidlist, taxids, taxidlist,\n",
            "   negative_gilist, negative_taxids, negative_taxidlist, remote, subject,\n",
            "   subject_loc\n",
            " -taxids <String>\n",
            "   Restrict search of database to include only the specified taxonomy IDs\n",
            "   (multiple IDs delimited by ',')\n",
            "    * Incompatible with:  gilist, seqidlist, taxidlist, negative_gilist,\n",
            "   negative_seqidlist, negative_taxids, negative_taxidlist, remote, subject,\n",
            "   subject_loc\n",
            " -negative_taxids <String>\n",
            "   Restrict search of database to everything except the specified taxonomy IDs\n",
            "   (multiple IDs delimited by ',')\n",
            "    * Incompatible with:  gilist, seqidlist, taxids, taxidlist,\n",
            "   negative_gilist, negative_seqidlist, negative_taxidlist, remote, subject,\n",
            "   subject_loc\n",
            " -taxidlist <String>\n",
            "   Restrict search of database to include only the specified taxonomy IDs\n",
            "    * Incompatible with:  gilist, seqidlist, taxids, negative_gilist,\n",
            "   negative_seqidlist, negative_taxids, negative_taxidlist, remote, subject,\n",
            "   subject_loc\n",
            " -negative_taxidlist <String>\n",
            "   Restrict search of database to everything except the specified taxonomy IDs\n",
            "    * Incompatible with:  gilist, seqidlist, taxids, taxidlist,\n",
            "   negative_gilist, negative_seqidlist, negative_taxids, remote, subject,\n",
            "   subject_loc\n",
            " -ipglist <String>\n",
            "   Restrict search of database to list of IPGs\n",
            "    * Incompatible with:  subject, subject_loc\n",
            " -negative_ipglist <String>\n",
            "   Restrict search of database to everything except the specified IPGs\n",
            "    * Incompatible with:  subject, subject_loc\n",
            " -entrez_query <String>\n",
            "   Restrict search with the given Entrez query\n",
            "    * Requires:  remote\n",
            " -db_soft_mask <String>\n",
            "   Filtering algorithm ID to apply to the BLAST database as soft masking\n",
            "    * Incompatible with:  db_hard_mask, subject, subject_loc\n",
            " -db_hard_mask <String>\n",
            "   Filtering algorithm ID to apply to the BLAST database as hard masking\n",
            "    * Incompatible with:  db_soft_mask, subject, subject_loc\n",
            " -qcov_hsp_perc <Real, 0..100>\n",
            "   Percent query coverage per hsp\n",
            " -max_hsps <Integer, >=1>\n",
            "   Set maximum number of HSPs per subject sequence to save for each query\n",
            " -culling_limit <Integer, >=0>\n",
            "   If the query range of a hit is enveloped by that of at least this many\n",
            "   higher-scoring hits, delete the hit\n",
            "    * Incompatible with:  best_hit_overhang, best_hit_score_edge\n",
            " -best_hit_overhang <Real, (>0 and <0.5)>\n",
            "   Best Hit algorithm overhang value (recommended value: 0.1)\n",
            "    * Incompatible with:  culling_limit\n",
            " -best_hit_score_edge <Real, (>0 and <0.5)>\n",
            "   Best Hit algorithm score edge value (recommended value: 0.1)\n",
            "    * Incompatible with:  culling_limit\n",
            " -subject_besthit\n",
            "   Turn on best hit per subject sequence\n",
            " -max_target_seqs <Integer, >=1>\n",
            "   Maximum number of aligned sequences to keep \n",
            "   (value of 5 or more is recommended)\n",
            "   Default = `500'\n",
            "    * Incompatible with:  num_descriptions, num_alignments\n",
            "\n",
            " *** Statistical options\n",
            " -dbsize <Int8>\n",
            "   Effective length of the database \n",
            " -searchsp <Int8, >=0>\n",
            "   Effective length of the search space\n",
            "\n",
            " *** Search strategy options\n",
            " -import_search_strategy <File_In>\n",
            "   Search strategy to use\n",
            "    * Incompatible with:  export_search_strategy\n",
            " -export_search_strategy <File_Out>\n",
            "   File name to record the search strategy used\n",
            "    * Incompatible with:  import_search_strategy\n",
            "\n",
            " *** Extension options\n",
            " -xdrop_ungap <Real>\n",
            "   X-dropoff value (in bits) for ungapped extensions\n",
            " -xdrop_gap <Real>\n",
            "   X-dropoff value (in bits) for preliminary gapped extensions\n",
            " -xdrop_gap_final <Real>\n",
            "   X-dropoff value (in bits) for final gapped alignment\n",
            " -window_size <Integer, >=0>\n",
            "   Multiple hits window size, use 0 to specify 1-hit algorithm\n",
            " -ungapped\n",
            "   Perform ungapped alignment only?\n",
            "\n",
            " *** Miscellaneous options\n",
            " -parse_deflines\n",
            "   Should the query and subject defline(s) be parsed?\n",
            " -num_threads <Integer, >=1>\n",
            "   Number of threads (CPUs) to use in the BLAST search\n",
            "   Default = `1'\n",
            "    * Incompatible with:  remote\n",
            " -remote\n",
            "   Execute search remotely?\n",
            "    * Incompatible with:  gilist, seqidlist, taxids, taxidlist,\n",
            "   negative_gilist, negative_seqidlist, negative_taxids, negative_taxidlist,\n",
            "   subject_loc, num_threads\n",
            " -use_sw_tback\n",
            "   Compute locally optimal Smith-Waterman alignments?\n",
            "\n"
          ]
        }
      ]
    },
    {
      "cell_type": "code",
      "source": [
        "#H2A_one_gene.fasta -- одна из белковых последовательностей гистона H2A\n"
      ],
      "metadata": {
        "id": "t_V8paNwJDeK",
        "colab": {
          "base_uri": "https://localhost:8080/"
        },
        "outputId": "960d4153-d7a4-4d39-c8c4-cfd0c5df910b"
      },
      "execution_count": null,
      "outputs": [
        {
          "output_type": "stream",
          "name": "stdout",
          "text": [
            "BLAST Database error: No alias or index file found for protein database [/content/c.elegans.faa] in search path [/content::]\n"
          ]
        }
      ]
    },
    {
      "cell_type": "code",
      "source": [
        "!blastp  -query H2A_NP_734466.1_H2AC1.fasta  -db c.elegans.faa -outfmt 6  >  gene_H2AC1_c.elegans.txt\n",
        "!blastp  -query H2A_NP_734466.1_H2AC1.fasta  -db ciliate.faa -outfmt 6  >  gene_H2AC1_ciliate.txt\n",
        "!blastp  -query H2A_NP_734466.1_H2AC1.fasta  -db drosophila.faa  -outfmt 6  >  gene_H2AC1_drosophila.txt\n",
        "!blastp  -query H2A_NP_734466.1_H2AC1.fasta  -db e.coli.faa -outfmt 6  >  gene_H2AC1_e.coli.txt\n",
        "!blastp  -query H2A_NP_734466.1_H2AC1.fasta  -db human.faa -outfmt 6  >  gene_H2AC1_human.txt\n",
        "!blastp  -query H2A_NP_734466.1_H2AC1.fasta  -db mouse.faa  -outfmt 6  >  gene_H2AC1_mouse.txt\n",
        "!blastp  -query H2A_NP_734466.1_H2AC1.fasta  -db yeast.faa  -outfmt 6  >  gene_H2AC1_yeast.txt\n",
        "!blastp  -query H2A_NP_734466.1_H2AC1.fasta  -db zebrafish.faa  -outfmt 6  >  gene_H2AC1_zebrafish.txt\n",
        "!blastp  -query H2A_NP_734466.1_H2AC1.fasta  -db methanocaldococcus.faa  -outfmt 6  >  gene_H2AC1_methanocaldococcus.txt\n",
        "!blastp  -query H2A_NP_734466.1_H2AC1.fasta  -db tuberculosis.faa  -outfmt 6  >  gene_H2AC1_tuberculosis.txt\n",
        "!blastp  -query H2A_NP_734466.1_H2AC1.fasta  -db thermococcus.faa  -outfmt 6  >  gene_H2AC1_thermococcus.txt"
      ],
      "metadata": {
        "id": "IsAC4sQ1wuwe"
      },
      "execution_count": null,
      "outputs": []
    },
    {
      "cell_type": "code",
      "source": [
        "!blastp  -query H2B_NP_619790.1_H2BC5.fasta  -db c.elegans.faa -outfmt 6  >  gene_H2BC5_c.elegans.txt\n",
        "!blastp  -query H2B_NP_619790.1_H2BC5.fasta  -db ciliate.faa -outfmt 6  >  gene_H2BC5_ciliate.txt\n",
        "!blastp  -query H2B_NP_619790.1_H2BC5.fasta  -db drosophila.faa  -outfmt 6  >  gene_H2BC5_drosophila.txt\n",
        "!blastp  -query H2B_NP_619790.1_H2BC5.fasta  -db e.coli.faa -outfmt 6  >  gene_H2BC5_e.coli.txt\n",
        "!blastp  -query H2B_NP_619790.1_H2BC5.fasta  -db human.faa -outfmt 6  >  gene_H2BC5_human.txt\n",
        "!blastp  -query H2B_NP_619790.1_H2BC5.fasta  -db mouse.faa  -outfmt 6  >  gene_H2BC5_mouse.txt\n",
        "!blastp  -query H2B_NP_619790.1_H2BC5.fasta  -db yeast.faa  -outfmt 6  >  gene_H2BC5_yeast.txt\n",
        "!blastp  -query H2B_NP_619790.1_H2BC5.fasta  -db zebrafish.faa  -outfmt 6  >  gene_H2BC5_zebrafish.txt\n",
        "!blastp  -query H2B_NP_619790.1_H2BC5.fasta  -db methanocaldococcus.faa  -outfmt 6  >  gene_H2BC5_methanocaldococcus.txt\n",
        "!blastp  -query H2B_NP_619790.1_H2BC5.fasta  -db tuberculosis.faa  -outfmt 6  >  gene_H2BC5_tuberculosis.txt\n",
        "!blastp  -query H2B_NP_619790.1_H2BC5.fasta  -db thermococcus.faa  -outfmt 6  >  gene_H2BC5_thermococcus.txt"
      ],
      "metadata": {
        "id": "NLrJYh_-1wMb"
      },
      "execution_count": null,
      "outputs": []
    },
    {
      "cell_type": "code",
      "source": [
        "!blastp  -query H3_NP_003528.1_H3C2.fasta  -db c.elegans.faa -outfmt 6  >  gene_H3C2_c.elegans.txt\n",
        "!blastp  -query H3_NP_003528.1_H3C2.fasta  -db ciliate.faa -outfmt 6  >  gene_H3C2_ciliate.txt\n",
        "!blastp  -query H3_NP_003528.1_H3C2.fasta  -db drosophila.faa  -outfmt 6  >  gene_H3C2_drosophila.txt\n",
        "!blastp  -query H3_NP_003528.1_H3C2.fasta  -db e.coli.faa -outfmt 6  >  gene_H3C2_e.coli.txt\n",
        "!blastp  -query H3_NP_003528.1_H3C2.fasta  -db human.faa -outfmt 6  >  gene_H3C2_human.txt\n",
        "!blastp  -query H3_NP_003528.1_H3C2.fasta  -db mouse.faa  -outfmt 6  >  gene_H3C2_mouse.txt\n",
        "!blastp  -query H3_NP_003528.1_H3C2.fasta  -db yeast.faa  -outfmt 6  >  gene_H3C2_yeast.txt\n",
        "!blastp  -query H3_NP_003528.1_H3C2.fasta  -db zebrafish.faa  -outfmt 6  >  gene_H3C2_zebrafish.txt\n",
        "!blastp  -query H3_NP_003528.1_H3C2.fasta  -db methanocaldococcus.faa  -outfmt 6  >  gene_H3C2_methanocaldococcus.txt\n",
        "!blastp  -query H3_NP_003528.1_H3C2.fasta  -db tuberculosis.faa  -outfmt 6  >  gene_H3C2_tuberculosis.txt\n",
        "!blastp  -query H3_NP_003528.1_H3C2.fasta  -db thermococcus.faa  -outfmt 6  >  gene_H3C2_thermococcus.txt"
      ],
      "metadata": {
        "id": "BEwdmVfh2vH-"
      },
      "execution_count": null,
      "outputs": []
    },
    {
      "cell_type": "code",
      "source": [
        "!blastp  -query H4_NP_003530.1_H4C4.fasta  -db c.elegans.faa -outfmt 6  >  gene_H4C4_c.elegans.txt\n",
        "!blastp  -query H4_NP_003530.1_H4C4.fasta  -db ciliate.faa -outfmt 6  >  gene_H4C4_ciliate.txt\n",
        "!blastp  -query H4_NP_003530.1_H4C4.fasta  -db drosophila.faa  -outfmt 6  >  gene_H4C4_drosophila.txt\n",
        "!blastp  -query H4_NP_003530.1_H4C4.fasta  -db e.coli.faa -outfmt 6  >  gene_H4C4_e.coli.txt\n",
        "!blastp  -query H4_NP_003530.1_H4C4.fasta  -db human.faa -outfmt 6  >  gene_H4C4_human.txt\n",
        "!blastp  -query H4_NP_003530.1_H4C4.fasta  -db mouse.faa  -outfmt 6  >  gene_H4C4_mouse.txt\n",
        "!blastp  -query H4_NP_003530.1_H4C4.fasta  -db yeast.faa  -outfmt 6  >  gene_H4C4_yeast.txt\n",
        "!blastp  -query H4_NP_003530.1_H4C4.fasta  -db zebrafish.faa  -outfmt 6  >  gene_H4C4_zebrafish.txt\n",
        "!blastp  -query H4_NP_003530.1_H4C4.fasta  -db methanocaldococcus.faa  -outfmt 6  >  gene_H4C4_methanocaldococcus.txt\n",
        "!blastp  -query H4_NP_003530.1_H4C4.fasta  -db tuberculosis.faa  -outfmt 6  >  gene_H4C4_tuberculosis.txt\n",
        "!blastp  -query H4_NP_003530.1_H4C4.fasta  -db thermococcus.faa  -outfmt 6  >  gene_H4C4_thermococcus.txt"
      ],
      "metadata": {
        "id": "HzlOnfCJ3Jmp"
      },
      "execution_count": null,
      "outputs": []
    },
    {
      "cell_type": "code",
      "source": [
        "!blastp  -query KMT2A.FASTA  -db c.elegans.faa -outfmt 6  >  gene_KMT2A_c.elegans.txt\n",
        "!blastp  -query KMT2A.FASTA  -db ciliate.faa -outfmt 6  >  gene_KMT2A_ciliate.txt\n",
        "!blastp  -query KMT2A.FASTA  -db drosophila.faa  -outfmt 6  >  gene_KMT2A_drosophila.txt\n",
        "!blastp  -query KMT2A.FASTA  -db e.coli.faa -outfmt 6  > gene_KMT2A_e.coli.txt\n",
        "!blastp  -query KMT2A.FASTA  -db human.faa -outfmt 6  >  gene_KMT2A_human.txt\n",
        "!blastp  -query KMT2A.FASTA  -db mouse.faa  -outfmt 6  >  gene_KMT2A_mouse.txt\n",
        "!blastp  -query KMT2A.FASTA  -db yeast.faa  -outfmt 6  >  gene_KMT2A_yeast.txt\n",
        "!blastp  -query KMT2A.FASTA  -db zebrafish.faa  -outfmt 6  > gene_KMT2A_zebrafish.txt\n",
        "!blastp  -query KMT2A.FASTA  -db methanocaldococcus.faa  -outfmt 6  >  gene_KMT2A_methanocaldococcus.txt\n",
        "!blastp  -query KMT2A.FASTA  -db tuberculosis.faa  -outfmt 6  >  gene_KMT2A_tuberculosis.txt\n",
        "!blastp  -query KMT2A.FASTA  -db thermococcus.faa  -outfmt 6  >  gene_KMT2A_thermococcus.txt"
      ],
      "metadata": {
        "id": "M17tTtfa4WkW"
      },
      "execution_count": null,
      "outputs": []
    },
    {
      "cell_type": "markdown",
      "source": [
        "# H2A\n"
      ],
      "metadata": {
        "id": "IGFyK86AFCmj"
      }
    },
    {
      "cell_type": "code",
      "source": [
        "!cat gene_H2AC1_c.elegans.txt"
      ],
      "metadata": {
        "colab": {
          "base_uri": "https://localhost:8080/"
        },
        "id": "czW6gfEACz_g",
        "outputId": "375b5e2e-25a7-4a33-ceb3-0297a8f9f9c7"
      },
      "execution_count": null,
      "outputs": [
        {
          "output_type": "stream",
          "name": "stdout",
          "text": [
            "NP_734466.1\tNP_505463.1\t90.476\t105\t10\t0\t17\t121\t18\t122\t6.53e-67\t198\n",
            "NP_734466.1\tNP_507032.1\t90.476\t105\t10\t0\t17\t121\t18\t122\t9.59e-67\t197\n",
            "NP_734466.1\tNP_505296.1\t90.476\t105\t10\t0\t17\t121\t18\t122\t9.59e-67\t197\n",
            "NP_734466.1\tNP_505293.1\t90.476\t105\t10\t0\t17\t121\t18\t122\t9.59e-67\t197\n",
            "NP_734466.1\tNP_505280.1\t90.476\t105\t10\t0\t17\t121\t18\t122\t9.59e-67\t197\n",
            "NP_734466.1\tNP_505277.1\t90.476\t105\t10\t0\t17\t121\t18\t122\t9.59e-67\t197\n",
            "NP_734466.1\tNP_505198.1\t90.476\t105\t10\t0\t17\t121\t18\t122\t9.59e-67\t197\n",
            "NP_734466.1\tNP_502150.1\t90.476\t105\t10\t0\t17\t121\t18\t122\t9.59e-67\t197\n",
            "NP_734466.1\tNP_502141.1\t90.476\t105\t10\t0\t17\t121\t18\t122\t9.59e-67\t197\n",
            "NP_734466.1\tNP_502131.1\t90.476\t105\t10\t0\t17\t121\t18\t122\t9.59e-67\t197\n",
            "NP_734466.1\tNP_501408.1\t90.476\t105\t10\t0\t17\t121\t18\t122\t9.59e-67\t197\n",
            "NP_734466.1\tNP_501404.1\t90.476\t105\t10\t0\t17\t121\t18\t122\t9.59e-67\t197\n",
            "NP_734466.1\tNP_501201.1\t90.476\t105\t10\t0\t17\t121\t18\t122\t9.59e-67\t197\n",
            "NP_734466.1\tNP_496898.1\t90.476\t105\t10\t0\t17\t121\t18\t122\t9.59e-67\t197\n",
            "NP_734466.1\tNP_496891.1\t90.476\t105\t10\t0\t17\t121\t18\t122\t9.59e-67\t197\n",
            "NP_734466.1\tNP_496887.1\t90.476\t105\t10\t0\t17\t121\t18\t122\t9.59e-67\t197\n",
            "NP_734466.1\tNP_492642.1\t90.476\t105\t10\t0\t17\t121\t18\t122\t9.59e-67\t197\n",
            "NP_734466.1\tNP_001263787.1\t90.476\t105\t10\t0\t17\t121\t18\t122\t1.18e-66\t198\n",
            "NP_734466.1\tNP_001263788.1\t90.476\t105\t10\t0\t17\t121\t18\t122\t1.36e-66\t197\n",
            "NP_734466.1\tNP_500569.1\t62.393\t117\t42\t2\t5\t120\t9\t124\t5.15e-42\t135\n",
            "NP_734466.1\tNP_501718.1\t54.808\t104\t45\t2\t17\t118\t29\t132\t2.84e-32\t111\n",
            "NP_734466.1\tNP_001379124.1\t22.500\t80\t60\t1\t18\t97\t60\t137\t0.82\t29.3\n",
            "NP_734466.1\tNP_001379388.1\t23.288\t73\t54\t1\t18\t90\t34\t104\t0.88\t28.9\n",
            "NP_734466.1\tNP_001255501.1\t38.636\t44\t27\t0\t54\t97\t2592\t2635\t1.2\t28.9\n",
            "NP_734466.1\tNP_001023282.1\t38.636\t44\t27\t0\t54\t97\t2601\t2644\t1.2\t28.9\n",
            "NP_734466.1\tNP_001255500.1\t38.636\t44\t27\t0\t54\t97\t2612\t2655\t1.2\t28.9\n",
            "NP_734466.1\tNP_001294007.1\t38.636\t44\t27\t0\t54\t97\t2592\t2635\t1.2\t28.9\n",
            "NP_734466.1\tNP_001023281.1\t38.636\t44\t27\t0\t54\t97\t2601\t2644\t1.2\t28.9\n",
            "NP_734466.1\tNP_001294008.1\t38.636\t44\t27\t0\t54\t97\t2612\t2655\t1.2\t28.9\n",
            "NP_734466.1\tNP_491574.1\t33.333\t69\t40\t2\t24\t92\t890\t952\t2.2\t28.1\n",
            "NP_734466.1\tNP_496979.2\t24.348\t115\t73\t4\t24\t124\t367\t481\t4.1\t26.9\n",
            "NP_734466.1\tNP_501938.1\t40.541\t37\t21\t1\t37\t73\t870\t905\t4.5\t26.9\n",
            "NP_734466.1\tNP_741058.1\t29.545\t44\t31\t0\t81\t124\t453\t496\t5.0\t26.9\n",
            "NP_734466.1\tNP_001293540.1\t29.545\t44\t31\t0\t81\t124\t434\t477\t5.0\t26.9\n"
          ]
        }
      ]
    },
    {
      "cell_type": "code",
      "source": [
        "!cat gene_H2AC1_ciliate.txt\n"
      ],
      "metadata": {
        "colab": {
          "base_uri": "https://localhost:8080/"
        },
        "id": "U8a2JwZ8DSfZ",
        "outputId": "6e3cb8f4-8b39-4cad-ba63-ca3517937d11"
      },
      "execution_count": null,
      "outputs": [
        {
          "output_type": "stream",
          "name": "stdout",
          "text": [
            "NP_734466.1\tXP_001026177.1\t70.248\t121\t33\t1\t13\t130\t17\t137\t2.45e-57\t174\n",
            "NP_734466.1\tXP_001021342.1\t74.545\t110\t28\t0\t13\t122\t17\t126\t2.88e-57\t174\n",
            "NP_734466.1\tXP_001011105.2\t58.621\t116\t46\t2\t16\t130\t28\t142\t3.04e-32\t111\n",
            "NP_734466.1\tXP_001025688.2\t48.000\t100\t51\t1\t9\t107\t328\t427\t2.33e-23\t93.6\n",
            "NP_734466.1\tXP_001026290.3\t22.667\t75\t58\t0\t25\t99\t79\t153\t0.90\t29.3\n",
            "NP_734466.1\tXP_001018148.2\t42.857\t35\t18\t1\t2\t36\t184\t216\t2.3\t28.1\n",
            "NP_734466.1\tXP_001026754.2\t26.562\t64\t46\t1\t3\t65\t162\t225\t2.8\t27.7\n",
            "NP_734466.1\tXP_001018539.1\t33.333\t39\t26\t0\t58\t96\t1264\t1302\t2.8\t28.1\n",
            "NP_734466.1\tXP_001031653.1\t30.909\t55\t35\t1\t23\t77\t161\t212\t6.1\t26.9\n",
            "NP_734466.1\tXP_001014740.2\t32.558\t43\t28\t1\t69\t111\t317\t358\t9.2\t26.6\n"
          ]
        }
      ]
    },
    {
      "cell_type": "code",
      "source": [
        "!cat gene_H2AC1_drosophila.txt\n"
      ],
      "metadata": {
        "colab": {
          "base_uri": "https://localhost:8080/"
        },
        "id": "YOHUudEnDfcS",
        "outputId": "35eeb3f8-4489-4ba3-dc7a-9c5c8f08983e"
      },
      "execution_count": null,
      "outputs": [
        {
          "output_type": "stream",
          "name": "stdout",
          "text": [
            "NP_734466.1\tNP_724343.1\t93.396\t106\t7\t0\t17\t122\t16\t121\t2.34e-69\t204\n",
            "NP_734466.1\tNP_001027386.1\t93.396\t106\t7\t0\t17\t122\t16\t121\t2.34e-69\t204\n",
            "NP_734466.1\tNP_001027381.1\t93.396\t106\t7\t0\t17\t122\t16\t121\t2.34e-69\t204\n",
            "NP_734466.1\tNP_001027361.1\t93.396\t106\t7\t0\t17\t122\t16\t121\t2.34e-69\t204\n",
            "NP_734466.1\tNP_001027356.1\t93.396\t106\t7\t0\t17\t122\t16\t121\t2.34e-69\t204\n",
            "NP_734466.1\tNP_001027351.1\t93.396\t106\t7\t0\t17\t122\t16\t121\t2.34e-69\t204\n",
            "NP_734466.1\tNP_001027346.1\t93.396\t106\t7\t0\t17\t122\t16\t121\t2.34e-69\t204\n",
            "NP_734466.1\tNP_001027341.1\t93.396\t106\t7\t0\t17\t122\t16\t121\t2.34e-69\t204\n",
            "NP_734466.1\tNP_001027336.1\t93.396\t106\t7\t0\t17\t122\t16\t121\t2.34e-69\t204\n",
            "NP_734466.1\tNP_001027331.1\t93.396\t106\t7\t0\t17\t122\t16\t121\t2.34e-69\t204\n",
            "NP_734466.1\tNP_001027326.1\t93.396\t106\t7\t0\t17\t122\t16\t121\t2.34e-69\t204\n",
            "NP_734466.1\tNP_001027321.1\t93.396\t106\t7\t0\t17\t122\t16\t121\t2.34e-69\t204\n",
            "NP_734466.1\tNP_001027316.1\t93.396\t106\t7\t0\t17\t122\t16\t121\t2.34e-69\t204\n",
            "NP_734466.1\tNP_001027311.1\t93.396\t106\t7\t0\t17\t122\t16\t121\t2.34e-69\t204\n",
            "NP_734466.1\tNP_001027306.1\t93.396\t106\t7\t0\t17\t122\t16\t121\t2.34e-69\t204\n",
            "NP_734466.1\tNP_001027301.1\t93.396\t106\t7\t0\t17\t122\t16\t121\t2.34e-69\t204\n",
            "NP_734466.1\tNP_001027292.1\t93.396\t106\t7\t0\t17\t122\t16\t121\t2.34e-69\t204\n",
            "NP_734466.1\tNP_001027376.1\t93.396\t106\t7\t0\t17\t122\t16\t121\t2.64e-69\t204\n",
            "NP_734466.1\tNP_001027371.1\t93.396\t106\t7\t0\t17\t122\t16\t121\t2.64e-69\t204\n",
            "NP_734466.1\tNP_001027366.1\t93.396\t106\t7\t0\t17\t122\t16\t121\t2.64e-69\t204\n",
            "NP_734466.1\tNP_524519.1\t64.167\t120\t41\t2\t5\t123\t7\t125\t1.41e-44\t142\n",
            "NP_734466.1\tNP_001262997.1\t64.167\t120\t41\t2\t5\t123\t7\t125\t1.41e-44\t142\n",
            "NP_734466.1\tNP_476597.2\t27.907\t86\t62\t0\t13\t98\t141\t226\t1.64e-04\t40.4\n",
            "NP_734466.1\tNP_001262185.1\t43.137\t51\t29\t0\t13\t63\t673\t723\t4.26e-04\t39.3\n",
            "NP_734466.1\tNP_996142.1\t43.137\t51\t29\t0\t13\t63\t450\t500\t4.31e-04\t39.3\n",
            "NP_734466.1\tNP_611601.2\t18.519\t81\t66\t0\t17\t97\t3\t83\t1.1\t29.3\n",
            "NP_734466.1\tNP_572354.1\t21.918\t73\t57\t0\t26\t98\t154\t226\t1.9\t28.5\n",
            "NP_734466.1\tNP_001247131.1\t29.412\t34\t24\t0\t16\t49\t1522\t1555\t4.2\t27.7\n",
            "NP_734466.1\tNP_001163627.1\t29.412\t34\t24\t0\t16\t49\t1522\t1555\t4.2\t27.7\n",
            "NP_734466.1\tNP_732105.2\t29.412\t34\t24\t0\t16\t49\t1522\t1555\t4.2\t27.7\n",
            "NP_734466.1\tNP_001247130.1\t29.412\t34\t24\t0\t16\t49\t1554\t1587\t4.3\t27.7\n",
            "NP_734466.1\tNP_001247129.1\t29.412\t34\t24\t0\t16\t49\t1554\t1587\t4.4\t27.7\n"
          ]
        }
      ]
    },
    {
      "cell_type": "code",
      "source": [
        "!cat gene_H2AC1_e.coli.txt\n"
      ],
      "metadata": {
        "colab": {
          "base_uri": "https://localhost:8080/"
        },
        "id": "H4kJU5WbDhIz",
        "outputId": "a5445611-ca5c-44fa-9fef-fb61cd24bd5d"
      },
      "execution_count": null,
      "outputs": [
        {
          "output_type": "stream",
          "name": "stdout",
          "text": [
            "NP_734466.1\tNP_417887.1\t36.364\t44\t24\t1\t19\t58\t302\t345\t1.2\t25.8\n",
            "NP_734466.1\tNP_418632.1\t45.833\t24\t13\t0\t29\t52\t129\t152\t2.6\t24.6\n",
            "NP_734466.1\tNP_415894.4\t31.429\t35\t24\t0\t10\t44\t65\t99\t5.6\t23.5\n",
            "NP_734466.1\tNP_417863.1\t33.333\t39\t26\t0\t93\t131\t300\t338\t7.1\t23.5\n"
          ]
        }
      ]
    },
    {
      "cell_type": "code",
      "source": [
        "!cat gene_H2AC1_human.txt\n"
      ],
      "metadata": {
        "colab": {
          "base_uri": "https://localhost:8080/"
        },
        "id": "Rtt1ThX2Di-0",
        "outputId": "8bb472a9-2797-4fd6-af7b-759268030f21"
      },
      "execution_count": null,
      "outputs": [
        {
          "output_type": "stream",
          "name": "stdout",
          "text": [
            "NP_734466.1\tNP_734466.1\t100.000\t131\t0\t0\t1\t131\t1\t131\t4.94e-91\t261\n",
            "NP_734466.1\tNP_003507.1\t93.130\t131\t8\t1\t1\t131\t1\t130\t6.53e-84\t243\n",
            "NP_734466.1\tNP_001035807.1\t93.130\t131\t8\t1\t1\t131\t1\t130\t6.53e-84\t243\n",
            "NP_734466.1\tNP_003503.1\t93.893\t131\t7\t1\t1\t131\t1\t130\t7.29e-84\t243\n",
            "NP_734466.1\tNP_066544.1\t95.200\t125\t6\t0\t1\t125\t1\t125\t9.07e-84\t243\n",
            "NP_734466.1\tNP_542163.1\t95.200\t125\t6\t0\t1\t125\t1\t125\t9.48e-84\t243\n",
            "NP_734466.1\tNP_066408.1\t93.130\t131\t8\t1\t1\t131\t1\t130\t1.02e-83\t243\n",
            "NP_734466.1\tNP_003505.1\t93.130\t131\t8\t1\t1\t131\t1\t130\t1.02e-83\t243\n",
            "NP_734466.1\tNP_003502.1\t93.130\t131\t8\t1\t1\t131\t1\t130\t1.02e-83\t243\n",
            "NP_734466.1\tNP_003501.1\t93.130\t131\t8\t1\t1\t131\t1\t130\t1.02e-83\t243\n",
            "NP_734466.1\tNP_003500.1\t93.130\t131\t8\t1\t1\t131\t1\t130\t1.02e-83\t243\n",
            "NP_734466.1\tNP_003508.1\t93.130\t131\t7\t1\t1\t131\t1\t129\t1.29e-83\t242\n",
            "NP_734466.1\tNP_778235.1\t95.968\t124\t5\t0\t1\t124\t1\t124\t1.52e-83\t242\n",
            "NP_734466.1\tNP_254280.1\t93.130\t131\t8\t1\t1\t131\t1\t130\t2.05e-83\t242\n",
            "NP_734466.1\tNP_066409.1\t92.366\t131\t9\t1\t1\t131\t1\t130\t2.72e-83\t241\n",
            "NP_734466.1\tNP_066390.1\t92.366\t131\t9\t1\t1\t131\t1\t130\t4.61e-83\t241\n",
            "NP_734466.1\tNP_003504.2\t92.366\t131\t9\t1\t1\t131\t1\t130\t4.61e-83\t241\n",
            "NP_734466.1\tNP_808760.1\t91.473\t129\t11\t0\t1\t129\t1\t129\t2.19e-82\t239\n",
            "NP_734466.1\tNP_002096.1\t93.496\t123\t8\t0\t1\t123\t1\t123\t8.23e-80\t233\n",
            "NP_734466.1\tXP_011542036.1\t66.667\t120\t37\t1\t1\t120\t1\t117\t5.70e-49\t157\n",
            "NP_734466.1\tXP_011542037.1\t66.667\t120\t37\t1\t1\t120\t1\t117\t6.59e-49\t157\n",
            "NP_734466.1\tXP_005272192.1\t66.667\t120\t37\t1\t1\t120\t1\t117\t7.70e-49\t157\n",
            "NP_734466.1\tXP_005272191.1\t66.667\t120\t37\t1\t1\t120\t1\t117\t8.01e-49\t157\n",
            "NP_734466.1\tNP_613075.1\t66.667\t120\t37\t1\t1\t120\t1\t117\t3.11e-47\t157\n",
            "NP_734466.1\tNP_001387332.1\t66.667\t120\t37\t1\t1\t120\t1\t117\t3.53e-47\t157\n",
            "NP_734466.1\tNP_613258.2\t66.667\t120\t37\t1\t1\t120\t1\t117\t3.86e-47\t157\n",
            "NP_734466.1\tNP_001387331.1\t66.667\t120\t37\t1\t1\t120\t1\t117\t3.86e-47\t157\n",
            "NP_734466.1\tNP_001387330.1\t66.667\t120\t37\t1\t1\t120\t1\t117\t3.86e-47\t157\n",
            "NP_734466.1\tXP_011542032.1\t66.667\t120\t37\t1\t1\t120\t1\t117\t4.20e-47\t157\n",
            "NP_734466.1\tNP_004884.1\t66.667\t120\t37\t1\t1\t120\t1\t117\t4.20e-47\t157\n",
            "NP_734466.1\tNP_001035248.1\t66.667\t120\t37\t1\t1\t120\t1\t117\t4.20e-47\t157\n",
            "NP_734466.1\tNP_061119.1\t65.833\t120\t38\t1\t1\t120\t1\t117\t6.04e-46\t154\n",
            "NP_734466.1\tNP_036544.1\t64.957\t117\t39\t2\t5\t120\t7\t122\t4.32e-43\t140\n",
            "NP_734466.1\tNP_002097.1\t64.103\t117\t40\t2\t5\t120\t7\t122\t1.45e-42\t139\n",
            "NP_734466.1\tNP_619541.1\t66.990\t103\t32\t2\t5\t106\t7\t108\t6.09e-38\t126\n",
            "NP_734466.1\tNP_958844.1\t62.887\t97\t34\t2\t25\t120\t1\t96\t9.16e-33\t113\n",
            "NP_734466.1\tNP_542451.1\t47.253\t91\t48\t0\t15\t105\t19\t109\t1.63e-23\t90.1\n",
            "NP_734466.1\tNP_001017991.1\t47.253\t91\t48\t0\t15\t105\t19\t109\t1.63e-23\t90.1\n",
            "NP_734466.1\tNP_001017990.1\t46.154\t91\t49\t0\t15\t105\t19\t109\t2.60e-22\t87.0\n",
            "NP_734466.1\tNP_958925.1\t44.068\t118\t28\t2\t5\t122\t7\t86\t5.65e-19\t77.8\n",
            "NP_734466.1\tNP_001382484.1\t40.816\t98\t57\t1\t1\t98\t1\t97\t2.34e-18\t77.8\n",
            "NP_734466.1\tNP_958924.1\t65.000\t60\t20\t1\t5\t63\t7\t66\t6.60e-18\t74.3\n",
            "NP_734466.1\tNP_001387333.1\t55.882\t68\t27\t1\t1\t68\t1\t65\t6.24e-16\t72.8\n",
            "NP_734466.1\tXP_047301540.1\t34.524\t84\t54\t1\t11\t94\t90\t172\t7.98e-07\t49.3\n",
            "NP_734466.1\tXP_047301539.1\t34.524\t84\t54\t1\t11\t94\t90\t172\t7.98e-07\t49.3\n",
            "NP_734466.1\tXP_047301537.1\t34.524\t84\t54\t1\t11\t94\t83\t165\t1.04e-06\t48.9\n",
            "NP_734466.1\tNP_001369323.1\t34.524\t84\t54\t1\t11\t94\t83\t165\t1.04e-06\t48.9\n",
            "NP_734466.1\tXP_047301538.1\t34.524\t84\t54\t1\t11\t94\t33\t115\t1.07e-06\t48.9\n",
            "NP_734466.1\tXP_011531366.1\t34.524\t84\t54\t1\t11\t94\t33\t115\t1.07e-06\t48.9\n",
            "NP_734466.1\tNP_005624.2\t34.524\t84\t54\t1\t11\t94\t90\t172\t1.07e-06\t48.9\n",
            "NP_734466.1\tNP_001369324.1\t34.524\t84\t54\t1\t11\t94\t90\t172\t1.10e-06\t48.9\n",
            "NP_734466.1\tXP_047287674.1\t29.762\t84\t58\t1\t11\t94\t77\t159\t3.11e-04\t41.6\n",
            "NP_734466.1\tXP_047287679.1\t29.762\t84\t58\t1\t11\t94\t30\t112\t3.28e-04\t41.6\n",
            "NP_734466.1\tXP_047287678.1\t29.762\t84\t58\t1\t11\t94\t30\t112\t3.28e-04\t41.6\n",
            "NP_734466.1\tXP_047287672.1\t29.762\t84\t58\t1\t11\t94\t90\t172\t3.29e-04\t41.6\n",
            "NP_734466.1\tXP_047287669.1\t29.762\t84\t58\t1\t11\t94\t137\t219\t3.67e-04\t41.6\n",
            "NP_734466.1\tXP_047287671.1\t29.762\t84\t58\t1\t11\t94\t137\t219\t4.23e-04\t41.2\n",
            "NP_734466.1\tXP_047287675.1\t29.762\t84\t58\t1\t11\t94\t77\t159\t5.02e-04\t41.2\n",
            "NP_734466.1\tNP_008870.2\t29.762\t84\t58\t1\t11\t94\t90\t172\t5.63e-04\t40.8\n",
            "NP_734466.1\tXP_047287670.1\t29.762\t84\t58\t1\t11\t94\t137\t219\t6.15e-04\t40.8\n",
            "NP_734466.1\tNP_001397949.1\t29.762\t84\t58\t1\t11\t94\t90\t172\t6.19e-04\t40.8\n",
            "NP_734466.1\tXP_047287673.1\t29.762\t84\t58\t1\t11\t94\t137\t219\t6.83e-04\t40.8\n",
            "NP_734466.1\tNP_001334872.1\t39.583\t48\t29\t0\t16\t63\t201\t248\t0.003\t38.9\n",
            "NP_734466.1\tXP_047284257.1\t39.583\t48\t29\t0\t16\t63\t201\t248\t0.003\t38.9\n",
            "NP_734466.1\tNP_001018082.1\t39.583\t48\t29\t0\t16\t63\t201\t248\t0.003\t38.9\n",
            "NP_734466.1\tNP_665803.2\t31.325\t83\t53\t2\t16\t94\t195\t277\t0.055\t35.0\n",
            "NP_734466.1\tNP_006433.2\t20.430\t93\t71\t1\t17\t106\t3\t95\t0.10\t33.9\n",
            "NP_734466.1\tXP_047277346.1\t23.377\t77\t59\t0\t25\t101\t92\t168\t0.32\t32.7\n",
            "NP_734466.1\tXP_006710723.2\t23.377\t77\t59\t0\t25\t101\t42\t118\t0.38\t32.7\n",
            "NP_734466.1\tNP_001136060.1\t23.377\t77\t59\t0\t25\t101\t42\t118\t0.38\t32.7\n",
            "NP_734466.1\tXP_047277347.1\t23.377\t77\t59\t0\t25\t101\t62\t138\t0.38\t32.7\n",
            "NP_734466.1\tNP_001136062.1\t23.377\t77\t59\t0\t25\t101\t42\t118\t0.39\t32.3\n",
            "NP_734466.1\tXP_016856855.1\t23.377\t77\t59\t0\t25\t101\t62\t138\t0.40\t32.3\n",
            "NP_734466.1\tXP_047277340.1\t23.377\t77\t59\t0\t25\t101\t42\t118\t0.40\t32.3\n",
            "NP_734466.1\tXP_024303125.1\t23.377\t77\t59\t0\t25\t101\t42\t118\t0.40\t32.3\n",
            "NP_734466.1\tXP_016856858.1\t23.377\t77\t59\t0\t25\t101\t42\t118\t0.40\t32.3\n",
            "NP_734466.1\tNP_055038.2\t23.377\t77\t59\t0\t25\t101\t42\t118\t0.40\t32.3\n",
            "NP_734466.1\tNP_001136059.1\t23.377\t77\t59\t0\t25\t101\t42\t118\t0.41\t32.3\n",
            "NP_734466.1\tXP_006710721.3\t22.973\t74\t57\t0\t25\t98\t128\t201\t2.7\t30.0\n",
            "NP_734466.1\tXP_024303124.1\t22.973\t74\t57\t0\t25\t98\t112\t185\t3.0\t30.0\n",
            "NP_734466.1\tXP_005270952.4\t22.973\t74\t57\t0\t25\t98\t128\t201\t3.2\t30.0\n",
            "NP_734466.1\tXP_047277312.1\t22.973\t74\t57\t0\t25\t98\t112\t185\t3.2\t30.0\n",
            "NP_734466.1\tXP_047277342.1\t22.973\t74\t57\t0\t25\t98\t42\t115\t3.6\t29.6\n",
            "NP_734466.1\tXP_047277341.1\t22.973\t74\t57\t0\t25\t98\t112\t185\t3.7\t29.6\n",
            "NP_734466.1\tXP_016856853.1\t22.973\t74\t57\t0\t25\t98\t62\t135\t3.7\t29.6\n",
            "NP_734466.1\tXP_047277307.1\t22.973\t74\t57\t0\t25\t98\t42\t115\t3.8\t29.6\n",
            "NP_734466.1\tXP_047277293.1\t22.973\t74\t57\t0\t25\t98\t42\t115\t3.8\t29.6\n",
            "NP_734466.1\tXP_006710724.1\t22.973\t74\t57\t0\t25\t98\t42\t115\t3.8\t29.6\n",
            "NP_734466.1\tNP_001295044.1\t22.973\t74\t57\t0\t25\t98\t42\t115\t3.8\t29.6\n",
            "NP_734466.1\tXP_047277309.1\t22.973\t74\t57\t0\t25\t98\t107\t180\t3.9\t29.6\n",
            "NP_734466.1\tXP_047277304.1\t22.973\t74\t57\t0\t25\t98\t42\t115\t4.3\t29.6\n",
            "NP_734466.1\tXP_047277318.1\t22.973\t74\t57\t0\t25\t98\t62\t135\t4.3\t29.6\n",
            "NP_734466.1\tXP_047277303.1\t22.973\t74\t57\t0\t25\t98\t121\t194\t4.4\t29.6\n",
            "NP_734466.1\tXP_047277332.1\t22.973\t74\t57\t0\t25\t98\t42\t115\t4.5\t29.3\n",
            "NP_734466.1\tXP_047277329.1\t22.973\t74\t57\t0\t25\t98\t42\t115\t4.5\t29.3\n",
            "NP_734466.1\tXP_047277324.1\t22.973\t74\t57\t0\t25\t98\t42\t115\t4.5\t29.3\n",
            "NP_734466.1\tXP_016856854.1\t22.973\t74\t57\t0\t25\t98\t42\t115\t4.5\t29.3\n",
            "NP_734466.1\tNP_001295043.1\t22.973\t74\t57\t0\t25\t98\t42\t115\t4.5\t29.3\n",
            "NP_734466.1\tXP_047277315.1\t22.973\t74\t57\t0\t25\t98\t71\t144\t4.6\t29.3\n",
            "NP_734466.1\tXP_047277314.1\t22.973\t74\t57\t0\t25\t98\t92\t165\t5.0\t29.3\n",
            "NP_734466.1\tXP_047277345.1\t22.973\t74\t57\t0\t25\t98\t92\t165\t5.8\t29.3\n",
            "NP_734466.1\tXP_047277313.1\t22.973\t74\t57\t0\t25\t98\t92\t165\t6.0\t29.3\n",
            "NP_734466.1\tNP_060911.2\t41.860\t43\t22\t2\t56\t98\t52\t91\t7.0\t28.9\n",
            "NP_734466.1\tNP_001307796.1\t29.630\t81\t49\t3\t41\t116\t14\t91\t8.8\t28.5\n",
            "NP_734466.1\tXP_047301063.1\t41.860\t43\t22\t2\t56\t98\t71\t110\t9.2\t28.1\n"
          ]
        }
      ]
    },
    {
      "cell_type": "code",
      "source": [
        "!cat gene_H2AC1_mouse.txt\n"
      ],
      "metadata": {
        "colab": {
          "base_uri": "https://localhost:8080/"
        },
        "id": "gCFtRVKgDlMS",
        "outputId": "f87798a1-6362-4da8-965c-176eb2e7de53"
      },
      "execution_count": null,
      "outputs": [
        {
          "output_type": "stream",
          "name": "stdout",
          "text": [
            "NP_734466.1\tNP_835584.1\t93.130\t131\t8\t1\t1\t131\t1\t130\t4.57e-84\t243\n",
            "NP_734466.1\tNP_038577.1\t93.130\t131\t8\t1\t1\t131\t1\t130\t4.57e-84\t243\n",
            "NP_734466.1\tNP_783593.1\t93.130\t131\t7\t1\t1\t131\t1\t129\t9.02e-84\t242\n",
            "NP_734466.1\tNP_835736.1\t93.130\t131\t8\t1\t1\t131\t1\t130\t1.43e-83\t242\n",
            "NP_734466.1\tNP_835585.3\t95.161\t124\t6\t0\t1\t124\t1\t124\t1.60e-83\t242\n",
            "NP_734466.1\tNP_783590.1\t94.400\t125\t7\t0\t1\t125\t1\t125\t3.12e-83\t241\n",
            "NP_734466.1\tNP_835496.1\t92.366\t131\t9\t1\t1\t131\t1\t130\t3.22e-83\t241\n",
            "NP_734466.1\tNP_835495.1\t92.366\t131\t9\t1\t1\t131\t1\t130\t3.22e-83\t241\n",
            "NP_734466.1\tNP_835494.1\t92.366\t131\t9\t1\t1\t131\t1\t130\t3.22e-83\t241\n",
            "NP_734466.1\tNP_835493.1\t92.366\t131\t9\t1\t1\t131\t1\t130\t3.22e-83\t241\n",
            "NP_734466.1\tNP_835492.1\t92.366\t131\t9\t1\t1\t131\t1\t130\t3.22e-83\t241\n",
            "NP_734466.1\tNP_835491.1\t92.366\t131\t9\t1\t1\t131\t1\t130\t3.22e-83\t241\n",
            "NP_734466.1\tNP_835489.1\t92.366\t131\t9\t1\t1\t131\t1\t130\t3.22e-83\t241\n",
            "NP_734466.1\tNP_783591.2\t92.366\t131\t9\t1\t1\t131\t1\t130\t3.22e-83\t241\n",
            "NP_734466.1\tNP_001171015.1\t92.366\t131\t9\t1\t1\t131\t1\t130\t3.22e-83\t241\n",
            "NP_734466.1\tNP_783592.1\t94.400\t125\t7\t0\t1\t125\t1\t125\t5.00e-83\t240\n",
            "NP_734466.1\tNP_835490.1\t91.603\t131\t10\t1\t1\t131\t1\t130\t7.18e-83\t240\n",
            "NP_734466.1\tNP_808356.1\t91.473\t129\t11\t0\t1\t129\t1\t129\t4.59e-82\t238\n",
            "NP_734466.1\tNP_034566.1\t92.683\t123\t9\t0\t1\t123\t1\t123\t2.01e-79\t232\n",
            "NP_734466.1\tNP_783589.1\t88.550\t131\t13\t1\t1\t131\t1\t129\t1.74e-78\t229\n",
            "NP_734466.1\tXP_006517321.1\t66.667\t120\t37\t1\t1\t120\t1\t117\t4.47e-49\t157\n",
            "NP_734466.1\tXP_006517320.1\t66.667\t120\t37\t1\t1\t120\t1\t117\t5.79e-49\t157\n",
            "NP_734466.1\tNP_001152986.1\t66.667\t120\t37\t1\t1\t120\t1\t117\t1.96e-47\t157\n",
            "NP_734466.1\tNP_001152987.1\t66.667\t120\t37\t1\t1\t120\t1\t117\t2.22e-47\t157\n",
            "NP_734466.1\tNP_036145.1\t66.667\t120\t37\t1\t1\t120\t1\t117\t3.24e-47\t157\n",
            "NP_734466.1\tNP_001152985.1\t66.667\t120\t37\t1\t1\t120\t1\t117\t3.61e-47\t157\n",
            "NP_734466.1\tXP_006513896.1\t65.833\t120\t38\t1\t1\t120\t1\t117\t2.43e-46\t154\n",
            "NP_734466.1\tNP_996883.1\t65.833\t120\t38\t1\t1\t120\t1\t117\t3.80e-46\t154\n",
            "NP_734466.1\tNP_084214.1\t64.957\t117\t39\t2\t5\t120\t7\t122\t3.02e-43\t140\n",
            "NP_734466.1\tNP_058030.1\t64.103\t117\t40\t2\t5\t120\t7\t122\t1.02e-42\t139\n",
            "NP_734466.1\tXP_030102286.1\t55.652\t115\t49\t2\t7\t120\t12\t125\t1.83e-33\t115\n",
            "NP_734466.1\tNP_080903.1\t48.352\t91\t45\t1\t17\t105\t14\t104\t5.39e-26\t95.9\n",
            "NP_734466.1\tNP_001303924.1\t49.573\t117\t34\t3\t5\t120\t7\t99\t1.11e-24\t92.4\n",
            "NP_734466.1\tNP_001333993.1\t44.068\t118\t28\t2\t5\t122\t7\t86\t3.95e-19\t77.8\n",
            "NP_734466.1\tNP_001171040.1\t41.758\t91\t51\t1\t17\t105\t14\t104\t4.72e-18\t75.5\n",
            "NP_734466.1\tNP_001106866.1\t41.758\t91\t51\t1\t17\t105\t14\t104\t4.72e-18\t75.5\n",
            "NP_734466.1\tNP_001108001.1\t40.541\t74\t44\t0\t25\t98\t20\t93\t4.92e-15\t67.8\n",
            "NP_734466.1\tNP_001268459.1\t40.000\t90\t53\t1\t17\t105\t20\t109\t4.11e-13\t63.2\n",
            "NP_734466.1\tXP_036018077.1\t53.521\t71\t30\t2\t50\t120\t49\t116\t1.13e-12\t62.0\n",
            "NP_734466.1\tNP_001268460.1\t41.176\t85\t49\t1\t22\t105\t25\t109\t1.46e-12\t61.6\n",
            "NP_734466.1\tNP_001096135.1\t41.176\t85\t49\t1\t22\t105\t25\t109\t2.98e-12\t60.8\n",
            "NP_734466.1\tNP_001029272.1\t32.530\t83\t54\t1\t25\t105\t20\t102\t1.91e-11\t58.5\n",
            "NP_734466.1\tNP_001229876.1\t34.940\t83\t52\t1\t25\t105\t20\t102\t4.44e-08\t49.7\n",
            "NP_734466.1\tNP_001020431.1\t34.940\t83\t52\t1\t25\t105\t20\t102\t4.54e-08\t49.7\n",
            "NP_734466.1\tNP_001229883.1\t34.940\t83\t52\t1\t25\t105\t20\t102\t5.97e-08\t49.3\n",
            "NP_734466.1\tNP_001229882.1\t34.940\t83\t52\t1\t25\t105\t20\t102\t5.97e-08\t49.3\n",
            "NP_734466.1\tNP_001229881.1\t34.940\t83\t52\t1\t25\t105\t20\t102\t5.97e-08\t49.3\n",
            "NP_734466.1\tNP_001229880.1\t34.940\t83\t52\t1\t25\t105\t20\t102\t5.97e-08\t49.3\n",
            "NP_734466.1\tNP_001229879.1\t34.940\t83\t52\t1\t25\t105\t20\t102\t5.97e-08\t49.3\n",
            "NP_734466.1\tNP_001229878.1\t34.940\t83\t52\t1\t25\t105\t20\t102\t5.97e-08\t49.3\n",
            "NP_734466.1\tNP_001104507.1\t34.940\t83\t52\t1\t25\t105\t20\t102\t5.97e-08\t49.3\n",
            "NP_734466.1\tNP_080372.1\t37.705\t61\t38\t0\t19\t79\t21\t81\t6.62e-08\t49.3\n",
            "NP_734466.1\tNP_001079006.1\t34.940\t83\t52\t1\t25\t105\t20\t102\t7.70e-08\t48.9\n",
            "NP_734466.1\tNP_083864.1\t33.735\t83\t53\t1\t25\t105\t20\t102\t8.21e-08\t48.9\n",
            "NP_734466.1\tNP_033257.2\t35.714\t84\t53\t1\t11\t94\t90\t172\t1.77e-07\t50.4\n",
            "NP_734466.1\tNP_001078986.1\t32.530\t83\t54\t1\t25\t105\t20\t102\t3.32e-07\t47.4\n",
            "NP_734466.1\tNP_083505.1\t32.258\t93\t59\t2\t9\t98\t3\t94\t4.53e-06\t44.7\n",
            "NP_734466.1\tNP_001129031.1\t29.762\t84\t58\t1\t11\t94\t90\t172\t3.54e-04\t41.2\n",
            "NP_734466.1\tXP_006515698.1\t29.762\t84\t58\t1\t11\t94\t90\t172\t3.54e-04\t41.2\n",
            "NP_734466.1\tXP_006514293.1\t39.583\t48\t29\t0\t16\t63\t201\t248\t0.002\t38.9\n",
            "NP_734466.1\tNP_082985.2\t39.583\t48\t29\t0\t16\t63\t201\t248\t0.002\t38.9\n",
            "NP_734466.1\tNP_849221.2\t31.325\t83\t53\t2\t16\t94\t195\t277\t0.030\t35.4\n",
            "NP_734466.1\tNP_001278009.1\t20.430\t93\t71\t1\t17\t106\t3\t95\t0.10\t33.5\n",
            "NP_734466.1\tNP_077138.1\t20.430\t93\t71\t1\t17\t106\t3\t95\t0.11\t33.5\n",
            "NP_734466.1\tXP_036019707.1\t23.377\t77\t59\t0\t25\t101\t42\t118\t0.28\t32.3\n",
            "NP_734466.1\tXP_030109165.1\t23.377\t77\t59\t0\t25\t101\t42\t118\t0.28\t32.3\n",
            "NP_734466.1\tNP_032718.2\t23.377\t77\t59\t0\t25\t101\t42\t118\t0.28\t32.3\n",
            "NP_734466.1\tNP_001344123.1\t23.377\t77\t59\t0\t25\t101\t42\t118\t0.28\t32.3\n",
            "NP_734466.1\tNP_001344122.1\t23.377\t77\t59\t0\t25\t101\t42\t118\t0.28\t32.3\n",
            "NP_734466.1\tNP_001344121.1\t23.377\t77\t59\t0\t25\t101\t42\t118\t0.28\t32.3\n",
            "NP_734466.1\tNP_001041633.1\t23.377\t77\t59\t0\t25\t101\t42\t118\t0.28\t32.3\n",
            "NP_734466.1\tXP_030109166.1\t27.273\t66\t43\t1\t25\t90\t42\t102\t1.5\t30.4\n"
          ]
        }
      ]
    },
    {
      "cell_type": "code",
      "source": [
        "!cat gene_H2AC1_yeast.txt\n"
      ],
      "metadata": {
        "colab": {
          "base_uri": "https://localhost:8080/"
        },
        "id": "uVPBFyegDmjy",
        "outputId": "faf4155e-0977-4540-a294-a7433770deb1"
      },
      "execution_count": null,
      "outputs": [
        {
          "output_type": "stream",
          "name": "stdout",
          "text": [
            "NP_734466.1\tNP_010511.3\t83.962\t106\t17\t0\t16\t121\t17\t122\t8.88e-63\t186\n",
            "NP_734466.1\tNP_009552.1\t83.962\t106\t17\t0\t16\t121\t17\t122\t8.88e-63\t186\n",
            "NP_734466.1\tNP_014631.1\t60.000\t120\t44\t3\t3\t119\t8\t126\t9.11e-37\t120\n",
            "NP_734466.1\tNP_011086.3\t22.826\t92\t71\t0\t20\t111\t47\t138\t1.50e-05\t40.0\n",
            "NP_734466.1\tNP_015003.1\t25.490\t51\t38\t0\t26\t76\t160\t210\t0.23\t28.5\n",
            "NP_734466.1\tNP_012724.1\t31.579\t38\t26\t0\t89\t126\t342\t379\t1.8\t26.2\n",
            "NP_734466.1\tNP_011003.1\t27.143\t70\t39\t1\t62\t119\t343\t412\t2.4\t25.8\n",
            "NP_734466.1\tNP_015068.1\t30.233\t43\t30\t0\t64\t106\t342\t384\t4.4\t25.0\n",
            "NP_734466.1\tNP_013302.1\t21.154\t52\t41\t0\t13\t64\t207\t258\t5.4\t24.6\n",
            "NP_734466.1\tNP_683716.1\t29.412\t34\t24\t0\t64\t97\t288\t321\t6.8\t24.6\n"
          ]
        }
      ]
    },
    {
      "cell_type": "code",
      "source": [
        "!cat gene_H2AC1_zebrafish.txt\n"
      ],
      "metadata": {
        "colab": {
          "base_uri": "https://localhost:8080/"
        },
        "id": "10q-KNcpDomW",
        "outputId": "0e9eb001-29e9-4cf8-9f3d-a25dae9c587b"
      },
      "execution_count": null,
      "outputs": [
        {
          "output_type": "stream",
          "name": "stdout",
          "text": [
            "NP_734466.1\tNP_001005967.1\t95.082\t122\t6\t0\t1\t122\t1\t122\t1.06e-81\t236\n",
            "NP_734466.1\tXP_009301187.1\t91.339\t127\t11\t0\t1\t127\t1\t127\t1.99e-81\t236\n",
            "NP_734466.1\tXP_001920286.4\t91.339\t127\t11\t0\t1\t127\t1\t127\t1.99e-81\t236\n",
            "NP_734466.1\tXP_001337024.1\t91.339\t127\t11\t0\t1\t127\t1\t127\t1.99e-81\t236\n",
            "NP_734466.1\tXP_001335390.1\t91.339\t127\t11\t0\t1\t127\t1\t127\t1.99e-81\t236\n",
            "NP_734466.1\tNP_001136058.2\t91.339\t127\t11\t0\t1\t127\t1\t127\t1.99e-81\t236\n",
            "NP_734466.1\tXP_009301185.1\t91.339\t127\t11\t0\t1\t127\t1\t127\t2.51e-81\t235\n",
            "NP_734466.1\tXP_688798.1\t95.082\t122\t6\t0\t1\t122\t1\t122\t2.51e-81\t235\n",
            "NP_734466.1\tXP_698647.2\t94.262\t122\t7\t0\t1\t122\t1\t122\t2.99e-81\t235\n",
            "NP_734466.1\tXP_689030.3\t94.262\t122\t7\t0\t1\t122\t1\t122\t2.99e-81\t235\n",
            "NP_734466.1\tXP_009301954.1\t94.262\t122\t7\t0\t1\t122\t1\t122\t2.99e-81\t235\n",
            "NP_734466.1\tXP_009296490.1\t94.262\t122\t7\t0\t1\t122\t1\t122\t2.99e-81\t235\n",
            "NP_734466.1\tXP_009296467.1\t94.262\t122\t7\t0\t1\t122\t1\t122\t2.99e-81\t235\n",
            "NP_734466.1\tXP_002666988.1\t94.262\t122\t7\t0\t1\t122\t1\t122\t2.99e-81\t235\n",
            "NP_734466.1\tXP_009296465.1\t94.262\t122\t7\t0\t1\t122\t1\t122\t3.84e-81\t235\n",
            "NP_734466.1\tXP_009296458.1\t94.262\t122\t7\t0\t1\t122\t1\t122\t3.84e-81\t235\n",
            "NP_734466.1\tXP_009296457.1\t94.262\t122\t7\t0\t1\t122\t1\t122\t3.84e-81\t235\n",
            "NP_734466.1\tXP_005163251.1\t94.262\t122\t7\t0\t1\t122\t1\t122\t3.84e-81\t235\n",
            "NP_734466.1\tXP_001338956.1\t94.262\t122\t7\t0\t1\t122\t1\t122\t3.84e-81\t235\n",
            "NP_734466.1\tNP_001096634.1\t94.262\t122\t7\t0\t1\t122\t1\t122\t3.84e-81\t235\n",
            "NP_734466.1\tXP_001334871.1\t90.551\t127\t12\t0\t1\t127\t1\t127\t6.65e-81\t234\n",
            "NP_734466.1\tXP_693579.2\t93.443\t122\t8\t0\t1\t122\t1\t122\t8.11e-81\t234\n",
            "NP_734466.1\tXP_009296461.1\t93.443\t122\t8\t0\t1\t122\t1\t122\t8.11e-81\t234\n",
            "NP_734466.1\tXP_017209638.1\t93.443\t122\t8\t0\t1\t122\t1\t122\t8.95e-81\t234\n",
            "NP_734466.1\tXP_009301180.1\t93.443\t122\t8\t0\t1\t122\t1\t122\t8.95e-81\t234\n",
            "NP_734466.1\tXP_009301166.1\t93.443\t122\t8\t0\t1\t122\t1\t122\t8.95e-81\t234\n",
            "NP_734466.1\tXP_009301165.1\t93.443\t122\t8\t0\t1\t122\t1\t122\t8.95e-81\t234\n",
            "NP_734466.1\tXP_005168861.1\t93.443\t122\t8\t0\t1\t122\t1\t122\t8.95e-81\t234\n",
            "NP_734466.1\tXP_005163253.1\t93.443\t122\t8\t0\t1\t122\t1\t122\t8.95e-81\t234\n",
            "NP_734466.1\tNP_001026996.1\t93.443\t122\t8\t0\t1\t122\t1\t122\t8.95e-81\t234\n",
            "NP_734466.1\tNP_001232892.1\t89.764\t127\t13\t0\t1\t127\t1\t127\t1.50e-80\t233\n",
            "NP_734466.1\tXP_005163276.1\t92.623\t122\t9\t0\t1\t122\t1\t122\t3.20e-80\t233\n",
            "NP_734466.1\tNP_957367.1\t94.215\t121\t7\t0\t1\t121\t1\t121\t6.48e-80\t233\n",
            "NP_734466.1\tXP_002660369.1\t77.778\t126\t24\t2\t1\t123\t1\t125\t3.40e-63\t190\n",
            "NP_734466.1\tXP_009305372.1\t65.833\t120\t38\t1\t1\t120\t1\t117\t4.48e-46\t154\n",
            "NP_734466.1\tNP_001020673.1\t65.833\t120\t38\t1\t1\t120\t1\t117\t4.48e-46\t154\n",
            "NP_734466.1\tXP_021324578.1\t65.854\t123\t39\t1\t1\t123\t1\t120\t4.50e-46\t153\n",
            "NP_734466.1\tNP_001035451.1\t65.854\t123\t39\t1\t1\t123\t1\t120\t4.50e-46\t153\n",
            "NP_734466.1\tNP_705930.1\t64.957\t117\t39\t2\t5\t120\t7\t122\t1.76e-43\t140\n",
            "NP_734466.1\tNP_001036788.1\t64.103\t117\t40\t2\t5\t120\t7\t122\t7.21e-43\t138\n",
            "NP_734466.1\tXP_005165093.1\t66.038\t106\t34\t2\t5\t109\t7\t111\t4.27e-39\t129\n",
            "NP_734466.1\tNP_001076462.1\t35.789\t95\t60\t1\t11\t105\t90\t183\t9.47e-09\t53.5\n",
            "NP_734466.1\tXP_003200483.1\t32.184\t87\t56\t1\t15\t98\t189\t275\t8.19e-06\t45.1\n",
            "NP_734466.1\tXP_021323449.1\t32.184\t87\t56\t1\t15\t98\t189\t275\t8.58e-06\t45.1\n",
            "NP_734466.1\tXP_005164707.1\t33.333\t87\t55\t1\t15\t98\t190\t276\t1.02e-05\t44.7\n",
            "NP_734466.1\tNP_001314771.1\t33.333\t87\t55\t1\t15\t98\t190\t276\t1.05e-05\t44.7\n",
            "NP_734466.1\tNP_001334612.1\t32.558\t86\t57\t1\t9\t94\t84\t168\t1.39e-05\t44.3\n",
            "NP_734466.1\tXP_003200419.2\t24.390\t82\t59\t3\t21\t101\t7\t86\t8.08e-04\t38.5\n",
            "NP_734466.1\tXP_005158954.1\t24.390\t82\t59\t3\t21\t101\t7\t86\t0.001\t38.5\n",
            "NP_734466.1\tXP_021329554.1\t33.333\t81\t52\t1\t16\t94\t188\t268\t0.024\t35.0\n",
            "NP_734466.1\tXP_021329553.1\t33.333\t81\t52\t1\t16\t94\t188\t268\t0.024\t35.0\n",
            "NP_734466.1\tXP_009296329.1\t33.333\t81\t52\t1\t16\t94\t188\t268\t0.024\t35.0\n",
            "NP_734466.1\tXP_001923186.1\t33.333\t81\t52\t1\t16\t94\t188\t268\t0.024\t35.0\n",
            "NP_734466.1\tNP_991104.2\t19.588\t97\t73\t1\t17\t113\t3\t94\t0.036\t34.3\n",
            "NP_734466.1\tXP_687881.4\t29.762\t84\t58\t1\t16\t98\t188\t271\t0.062\t33.9\n",
            "NP_734466.1\tXP_009292656.1\t23.377\t77\t59\t0\t25\t101\t40\t116\t0.15\t32.7\n",
            "NP_734466.1\tXP_009292655.1\t23.377\t77\t59\t0\t25\t101\t40\t116\t0.15\t32.7\n",
            "NP_734466.1\tXP_009292651.1\t23.377\t77\t59\t0\t25\t101\t40\t116\t0.15\t32.7\n",
            "NP_734466.1\tXP_009292650.1\t23.377\t77\t59\t0\t25\t101\t40\t116\t0.15\t32.7\n",
            "NP_734466.1\tXP_009292649.1\t23.377\t77\t59\t0\t25\t101\t40\t116\t0.15\t32.7\n",
            "NP_734466.1\tNP_955933.1\t23.377\t77\t59\t0\t25\t101\t40\t116\t0.15\t32.7\n",
            "NP_734466.1\tXP_021323671.1\t23.377\t77\t59\t0\t25\t101\t39\t115\t0.15\t32.3\n",
            "NP_734466.1\tXP_009292657.1\t23.377\t77\t59\t0\t25\t101\t39\t115\t0.15\t32.3\n",
            "NP_734466.1\tXP_021323670.1\t23.377\t77\t59\t0\t25\t101\t39\t115\t0.16\t32.3\n",
            "NP_734466.1\tXP_009292654.1\t23.377\t77\t59\t0\t25\t101\t39\t115\t0.16\t32.3\n",
            "NP_734466.1\tXP_009292653.1\t23.377\t77\t59\t0\t25\t101\t39\t115\t0.16\t32.3\n",
            "NP_734466.1\tXP_009292652.1\t23.377\t77\t59\t0\t25\t101\t39\t115\t0.16\t32.3\n"
          ]
        }
      ]
    },
    {
      "cell_type": "code",
      "source": [
        "!cat gene_H2AC1_methanocaldococcus.txt\n"
      ],
      "metadata": {
        "colab": {
          "base_uri": "https://localhost:8080/"
        },
        "id": "dvn2mgbmDqnn",
        "outputId": "bf601120-71a2-4991-cc9e-fff8169b4c76"
      },
      "execution_count": null,
      "outputs": [
        {
          "output_type": "stream",
          "name": "stdout",
          "text": [
            "NP_734466.1\tWP_015791414.1\t28.788\t66\t46\t1\t25\t90\t3\t67\t0.001\t31.6\n",
            "NP_734466.1\tWP_015790767.1\t28.788\t66\t46\t1\t25\t90\t3\t67\t0.001\t31.6\n",
            "NP_734466.1\tWP_012794897.1\t26.154\t65\t47\t1\t25\t89\t3\t66\t0.22\t25.0\n",
            "NP_734466.1\tWP_015791331.1\t57.143\t14\t6\t0\t72\t85\t240\t253\t1.6\t23.9\n",
            "NP_734466.1\tWP_015790967.1\t30.508\t59\t36\t3\t62\t115\t173\t231\t1.9\t23.5\n",
            "NP_734466.1\tWP_015791890.1\t28.814\t59\t31\t2\t28\t86\t62\t109\t3.1\t22.7\n",
            "NP_734466.1\tWP_015791148.1\t28.261\t46\t31\t1\t23\t66\t481\t526\t9.7\t21.6\n"
          ]
        }
      ]
    },
    {
      "cell_type": "code",
      "source": [
        "!cat gene_H2AC1_tuberculosis.txt\n"
      ],
      "metadata": {
        "colab": {
          "base_uri": "https://localhost:8080/"
        },
        "id": "5bxNPkh5DsJt",
        "outputId": "822cf850-fea0-4671-eb5e-db6338bc2a84"
      },
      "execution_count": null,
      "outputs": [
        {
          "output_type": "stream",
          "name": "stdout",
          "text": [
            "NP_734466.1\tNP_218411.1\t44.000\t25\t14\t0\t98\t122\t916\t940\t0.40\t27.3\n",
            "NP_734466.1\tNP_214515.1\t32.653\t49\t28\t1\t28\t76\t212\t255\t0.58\t26.6\n",
            "NP_734466.1\tNP_217573.1\t26.667\t60\t44\t0\t43\t102\t183\t242\t1.9\t25.0\n",
            "NP_734466.1\tNP_217831.1\t29.032\t62\t43\t1\t17\t77\t236\t297\t2.1\t25.0\n",
            "NP_734466.1\tNP_217483.1\t76.923\t13\t3\t0\t60\t72\t107\t119\t5.1\t23.9\n",
            "NP_734466.1\tNP_216182.1\t50.000\t22\t10\t1\t20\t41\t391\t411\t6.0\t23.5\n",
            "NP_734466.1\tNP_215167.1\t32.558\t43\t24\t1\t31\t68\t140\t182\t8.5\t23.1\n"
          ]
        }
      ]
    },
    {
      "cell_type": "code",
      "source": [
        "!cat gene_H2AC1_thermococcus.txt"
      ],
      "metadata": {
        "colab": {
          "base_uri": "https://localhost:8080/"
        },
        "id": "fgm5OFfKDto2",
        "outputId": "273437e6-9fdc-4a64-9081-5c5271ce02e7"
      },
      "execution_count": null,
      "outputs": [
        {
          "output_type": "stream",
          "name": "stdout",
          "text": [
            "NP_734466.1\tWP_011249224.1\t26.027\t73\t51\t2\t44\t116\t66\t135\t0.15\t27.3\n",
            "NP_734466.1\tWP_011249885.1\t30.769\t78\t36\t3\t54\t120\t78\t148\t0.26\t26.6\n",
            "NP_734466.1\tWP_232500603.1\t35.000\t60\t33\t3\t45\t98\t23\t82\t2.0\t24.3\n",
            "NP_734466.1\tWP_143598659.1\t35.000\t60\t33\t3\t45\t98\t23\t82\t2.0\t24.3\n",
            "NP_734466.1\tWP_011250342.1\t26.471\t34\t25\t0\t81\t114\t34\t67\t2.2\t23.5\n",
            "NP_734466.1\tWP_011249199.1\t40.000\t25\t15\t0\t74\t98\t267\t291\t2.2\t23.9\n",
            "NP_734466.1\tWP_011250804.1\t30.233\t43\t30\t0\t85\t127\t789\t831\t2.3\t23.9\n",
            "NP_734466.1\tWP_011250970.1\t30.435\t46\t32\t0\t62\t107\t172\t217\t2.4\t23.9\n",
            "NP_734466.1\tWP_011250853.1\t37.037\t27\t17\t0\t97\t123\t72\t98\t3.7\t23.5\n",
            "NP_734466.1\tWP_011249294.1\t36.111\t36\t19\t1\t64\t99\t96\t127\t5.0\t22.3\n",
            "NP_734466.1\tWP_011250775.1\t35.714\t28\t18\t0\t34\t61\t183\t210\t5.9\t22.7\n",
            "NP_734466.1\tWP_011248997.1\t42.105\t19\t11\t0\t89\t107\t182\t200\t7.9\t22.3\n",
            "NP_734466.1\tWP_048053732.1\t29.787\t47\t28\t2\t83\t124\t162\t208\t9.5\t21.9\n"
          ]
        }
      ]
    },
    {
      "cell_type": "markdown",
      "source": [
        "# H2B"
      ],
      "metadata": {
        "id": "jU7kdmMhFOfe"
      }
    },
    {
      "cell_type": "code",
      "source": [
        "\n",
        "!cat gene_H2BC5_c.elegans.txt\n"
      ],
      "metadata": {
        "colab": {
          "base_uri": "https://localhost:8080/"
        },
        "id": "21xj0cQaE9K3",
        "outputId": "8dd910ac-3c1f-4065-ac0a-ad0c7888fcba"
      },
      "execution_count": null,
      "outputs": [
        {
          "output_type": "stream",
          "name": "stdout",
          "text": [
            "NP_619790.1\tNP_505464.1\t86.916\t107\t14\t0\t20\t126\t17\t123\t6.53e-66\t195\n",
            "NP_619790.1\tNP_502149.1\t87.619\t105\t13\t0\t22\t126\t19\t123\t9.27e-66\t194\n",
            "NP_619790.1\tNP_502140.1\t87.619\t105\t13\t0\t22\t126\t19\t123\t9.27e-66\t194\n",
            "NP_619790.1\tNP_502132.1\t87.619\t105\t13\t0\t22\t126\t19\t123\t9.27e-66\t194\n",
            "NP_619790.1\tNP_501202.1\t87.619\t105\t13\t0\t22\t126\t19\t123\t9.27e-66\t194\n",
            "NP_619790.1\tNP_507031.2\t85.981\t107\t15\t0\t20\t126\t17\t123\t1.71e-65\t194\n",
            "NP_619790.1\tNP_505295.1\t85.981\t107\t15\t0\t20\t126\t17\t123\t1.71e-65\t194\n",
            "NP_619790.1\tNP_505294.1\t85.981\t107\t15\t0\t20\t126\t17\t123\t1.71e-65\t194\n",
            "NP_619790.1\tNP_505279.2\t85.981\t107\t15\t0\t20\t126\t17\t123\t1.71e-65\t194\n",
            "NP_619790.1\tNP_505278.2\t85.981\t107\t15\t0\t20\t126\t17\t123\t1.71e-65\t194\n",
            "NP_619790.1\tNP_505197.1\t85.981\t107\t15\t0\t20\t126\t17\t123\t1.71e-65\t194\n",
            "NP_619790.1\tNP_501409.1\t85.981\t107\t15\t0\t20\t126\t16\t122\t2.41e-65\t194\n",
            "NP_619790.1\tNP_501403.1\t85.981\t107\t15\t0\t20\t126\t16\t122\t2.41e-65\t194\n",
            "NP_619790.1\tNP_496897.1\t85.981\t107\t15\t0\t20\t126\t16\t122\t2.41e-65\t194\n",
            "NP_619790.1\tNP_496892.1\t85.981\t107\t15\t0\t20\t126\t16\t122\t2.41e-65\t194\n",
            "NP_619790.1\tNP_496888.1\t85.981\t107\t15\t0\t20\t126\t16\t122\t2.41e-65\t194\n",
            "NP_619790.1\tNP_505201.3\t89.552\t67\t7\t0\t60\t126\t1\t67\t4.79e-40\t128\n",
            "NP_619790.1\tNP_001379209.1\t27.869\t61\t44\t0\t42\t102\t27\t87\t0.001\t36.6\n",
            "NP_619790.1\tNP_510497.1\t31.373\t51\t28\t2\t21\t64\t234\t284\t0.16\t30.8\n",
            "NP_619790.1\tNP_001379445.1\t41.176\t34\t19\t1\t68\t101\t163\t195\t1.2\t28.1\n",
            "NP_619790.1\tNP_001367879.1\t29.508\t61\t35\t3\t10\t67\t223\t278\t2.3\t27.7\n",
            "NP_619790.1\tNP_503837.1\t47.826\t23\t12\t0\t41\t63\t112\t134\t5.2\t26.6\n",
            "NP_619790.1\tNP_499073.1\t23.288\t73\t53\t1\t35\t104\t187\t259\t5.4\t26.6\n",
            "NP_619790.1\tNP_492198.1\t25.806\t31\t23\t0\t28\t58\t303\t333\t7.3\t26.2\n",
            "NP_619790.1\tNP_001021478.1\t41.176\t34\t19\t1\t68\t101\t610\t642\t7.3\t26.2\n",
            "NP_619790.1\tNP_001293208.1\t31.481\t54\t29\t2\t10\t62\t18\t64\t9.8\t25.8\n"
          ]
        }
      ]
    },
    {
      "cell_type": "code",
      "source": [
        "!cat gene_H2BC5_ciliate.txt\n"
      ],
      "metadata": {
        "colab": {
          "base_uri": "https://localhost:8080/"
        },
        "id": "P28tSU_bGVfO",
        "outputId": "917baea5-702e-49ca-b2b6-7658b365f41a"
      },
      "execution_count": null,
      "outputs": [
        {
          "output_type": "stream",
          "name": "stdout",
          "text": [
            "NP_619790.1\tXP_001018174.2\t63.793\t116\t41\t1\t10\t125\t6\t120\t4.57e-51\t157\n",
            "NP_619790.1\tXP_001010074.1\t69.388\t98\t30\t0\t28\t125\t23\t120\t3.51e-50\t155\n",
            "NP_619790.1\tXP_976748.3\t39.394\t33\t20\t0\t55\t87\t814\t846\t2.7\t27.7\n",
            "NP_619790.1\tXP_001030859.2\t23.214\t56\t43\t0\t37\t92\t572\t627\t2.7\t27.7\n",
            "NP_619790.1\tXP_001017243.1\t26.316\t57\t36\t1\t55\t105\t441\t497\t3.2\t27.7\n",
            "NP_619790.1\tXP_012653755.1\t41.667\t24\t14\t0\t44\t67\t97\t120\t6.1\t26.2\n",
            "NP_619790.1\tXP_001014273.2\t39.130\t46\t25\t2\t36\t80\t646\t689\t6.3\t26.9\n",
            "NP_619790.1\tXP_001018117.2\t40.909\t22\t13\t0\t17\t38\t18\t39\t7.0\t26.6\n"
          ]
        }
      ]
    },
    {
      "cell_type": "code",
      "source": [
        "!cat gene_H2BC5_drosophila.txt\n"
      ],
      "metadata": {
        "colab": {
          "base_uri": "https://localhost:8080/"
        },
        "id": "Ztof6mDJGXfc",
        "outputId": "c13ebc42-7550-429a-8d73-9ecc91e25411"
      },
      "execution_count": null,
      "outputs": [
        {
          "output_type": "stream",
          "name": "stdout",
          "text": [
            "NP_619790.1\tNP_724342.1\t94.505\t91\t5\t0\t36\t126\t33\t123\t2.82e-60\t181\n",
            "NP_619790.1\tNP_001027385.1\t94.505\t91\t5\t0\t36\t126\t33\t123\t2.82e-60\t181\n",
            "NP_619790.1\tNP_001027380.1\t94.505\t91\t5\t0\t36\t126\t33\t123\t2.82e-60\t181\n",
            "NP_619790.1\tNP_001027375.1\t94.505\t91\t5\t0\t36\t126\t33\t123\t2.82e-60\t181\n",
            "NP_619790.1\tNP_001027370.1\t94.505\t91\t5\t0\t36\t126\t33\t123\t2.82e-60\t181\n",
            "NP_619790.1\tNP_001027365.1\t94.505\t91\t5\t0\t36\t126\t33\t123\t2.82e-60\t181\n",
            "NP_619790.1\tNP_001027360.1\t94.505\t91\t5\t0\t36\t126\t33\t123\t2.82e-60\t181\n",
            "NP_619790.1\tNP_001027355.1\t94.505\t91\t5\t0\t36\t126\t33\t123\t2.82e-60\t181\n",
            "NP_619790.1\tNP_001027350.1\t94.505\t91\t5\t0\t36\t126\t33\t123\t2.82e-60\t181\n",
            "NP_619790.1\tNP_001027345.1\t94.505\t91\t5\t0\t36\t126\t33\t123\t2.82e-60\t181\n",
            "NP_619790.1\tNP_001027340.1\t94.505\t91\t5\t0\t36\t126\t33\t123\t2.82e-60\t181\n",
            "NP_619790.1\tNP_001027335.1\t94.505\t91\t5\t0\t36\t126\t33\t123\t2.82e-60\t181\n",
            "NP_619790.1\tNP_001027330.1\t94.505\t91\t5\t0\t36\t126\t33\t123\t2.82e-60\t181\n",
            "NP_619790.1\tNP_001027325.1\t94.505\t91\t5\t0\t36\t126\t33\t123\t2.82e-60\t181\n",
            "NP_619790.1\tNP_001027320.1\t94.505\t91\t5\t0\t36\t126\t33\t123\t2.82e-60\t181\n",
            "NP_619790.1\tNP_001027315.1\t94.505\t91\t5\t0\t36\t126\t33\t123\t2.82e-60\t181\n",
            "NP_619790.1\tNP_001027310.1\t94.505\t91\t5\t0\t36\t126\t33\t123\t2.82e-60\t181\n",
            "NP_619790.1\tNP_001027305.1\t94.505\t91\t5\t0\t36\t126\t33\t123\t2.82e-60\t181\n",
            "NP_619790.1\tNP_001027300.1\t94.505\t91\t5\t0\t36\t126\t33\t123\t2.82e-60\t181\n",
            "NP_619790.1\tNP_001027296.1\t94.505\t91\t5\t0\t36\t126\t33\t123\t2.82e-60\t181\n",
            "NP_619790.1\tNP_001027291.1\t94.505\t91\t5\t0\t36\t126\t33\t123\t2.82e-60\t181\n",
            "NP_619790.1\tNP_001027287.1\t94.505\t91\t5\t0\t36\t126\t33\t123\t2.82e-60\t181\n",
            "NP_619790.1\tNP_001027283.1\t94.505\t91\t5\t0\t36\t126\t33\t123\t2.82e-60\t181\n",
            "NP_619790.1\tNP_725260.1\t34.483\t58\t36\t1\t16\t73\t15\t70\t3.7\t27.7\n",
            "NP_619790.1\tNP_476904.1\t34.483\t58\t36\t1\t16\t73\t15\t70\t3.7\t27.7\n"
          ]
        }
      ]
    },
    {
      "cell_type": "code",
      "source": [
        "!cat gene_H2BC5_e.coli.txt\n"
      ],
      "metadata": {
        "colab": {
          "base_uri": "https://localhost:8080/"
        },
        "id": "xe7fo4WqGZHS",
        "outputId": "34fb1805-ddf7-49f6-856b-78a6f6add35a"
      },
      "execution_count": null,
      "outputs": [
        {
          "output_type": "stream",
          "name": "stdout",
          "text": [
            "NP_619790.1\tNP_417479.1\t28.947\t38\t23\t1\t30\t67\t124\t157\t1.6\t25.0\n",
            "NP_619790.1\tNP_417441.1\t35.185\t54\t30\t2\t12\t64\t76\t125\t2.3\t24.6\n",
            "NP_619790.1\tNP_415107.1\t37.500\t40\t23\t1\t87\t126\t292\t329\t5.0\t23.9\n",
            "NP_619790.1\tNP_415248.1\t33.333\t48\t27\t2\t43\t86\t352\t398\t5.7\t23.5\n",
            "NP_619790.1\tNP_418449.1\t29.310\t58\t32\t3\t41\t89\t188\t245\t7.0\t23.5\n",
            "NP_619790.1\tNP_418140.4\t25.862\t58\t42\t1\t52\t108\t279\t336\t9.3\t23.1\n",
            "NP_619790.1\tNP_417299.1\t29.091\t55\t34\t2\t65\t116\t67\t119\t9.8\t23.1\n"
          ]
        }
      ]
    },
    {
      "cell_type": "code",
      "source": [
        "!cat gene_H2BC5_human.txt\n"
      ],
      "metadata": {
        "colab": {
          "base_uri": "https://localhost:8080/"
        },
        "id": "NOPiFpR_GadE",
        "outputId": "2beffcfa-f4f0-48da-ab8e-20e2c3bbc3e3"
      },
      "execution_count": null,
      "outputs": [
        {
          "output_type": "stream",
          "name": "stdout",
          "text": [
            "NP_619790.1\tXP_005249096.2\t100.000\t126\t0\t0\t1\t126\t1\t126\t2.52e-88\t254\n",
            "NP_619790.1\tNP_619790.1\t100.000\t126\t0\t0\t1\t126\t1\t126\t2.52e-88\t254\n",
            "NP_619790.1\tNP_066407.1\t100.000\t126\t0\t0\t1\t126\t1\t126\t2.52e-88\t254\n",
            "NP_619790.1\tNP_003511.1\t99.206\t126\t1\t0\t1\t126\t1\t126\t8.43e-88\t253\n",
            "NP_619790.1\tNP_003517.2\t99.206\t126\t1\t0\t1\t126\t1\t126\t1.43e-87\t252\n",
            "NP_619790.1\tNP_003516.1\t99.206\t126\t1\t0\t1\t126\t1\t126\t1.43e-87\t252\n",
            "NP_619790.1\tNP_003514.2\t99.206\t126\t1\t0\t1\t126\t1\t126\t1.43e-87\t252\n",
            "NP_619790.1\tNP_003513.1\t99.206\t126\t1\t0\t1\t126\t1\t126\t1.43e-87\t252\n",
            "NP_619790.1\tNP_003509.1\t99.206\t126\t1\t0\t1\t126\t1\t126\t1.43e-87\t252\n",
            "NP_619790.1\tNP_001368918.1\t99.206\t126\t1\t0\t1\t126\t1\t126\t1.43e-87\t252\n",
            "NP_619790.1\tNP_066406.1\t97.619\t126\t3\t0\t1\t126\t1\t126\t2.14e-87\t251\n",
            "NP_619790.1\tNP_003519.1\t98.413\t126\t2\t0\t1\t126\t1\t126\t2.17e-87\t251\n",
            "NP_619790.1\tNP_003515.1\t98.413\t126\t2\t0\t1\t126\t1\t126\t3.51e-87\t251\n",
            "NP_619790.1\tNP_542160.1\t98.413\t126\t2\t0\t1\t126\t1\t126\t3.59e-87\t251\n",
            "NP_619790.1\tNP_001299582.1\t98.413\t126\t2\t0\t1\t126\t1\t126\t3.59e-87\t251\n",
            "NP_619790.1\tNP_066402.2\t97.619\t126\t3\t0\t1\t126\t1\t126\t5.82e-87\t250\n",
            "NP_619790.1\tNP_003518.2\t97.619\t126\t3\t0\t1\t126\t1\t126\t7.33e-87\t250\n",
            "NP_619790.1\tNP_001019770.1\t97.619\t126\t3\t0\t1\t126\t1\t126\t1.93e-86\t249\n",
            "NP_619790.1\tNP_001154806.1\t97.619\t126\t3\t0\t1\t126\t1\t126\t4.40e-86\t248\n",
            "NP_619790.1\tNP_003512.1\t96.825\t126\t4\t0\t1\t126\t1\t126\t5.06e-86\t248\n",
            "NP_619790.1\tXP_006723981.1\t96.825\t126\t4\t0\t1\t126\t1\t126\t8.02e-86\t248\n",
            "NP_619790.1\tNP_059141.1\t96.825\t126\t4\t0\t1\t126\t1\t126\t8.02e-86\t248\n",
            "NP_619790.1\tNP_003510.1\t97.619\t126\t3\t0\t1\t126\t1\t126\t3.16e-85\t246\n",
            "NP_619790.1\tNP_778225.1\t95.238\t126\t6\t0\t1\t126\t1\t126\t1.15e-75\t222\n",
            "NP_619790.1\tNP_733759.1\t85.039\t127\t18\t1\t1\t126\t1\t127\t7.54e-73\t215\n",
            "NP_619790.1\tNP_001356054.2\t82.418\t91\t16\t0\t36\t126\t32\t122\t1.46e-52\t163\n",
            "NP_619790.1\tNP_001375393.1\t43.077\t130\t60\t2\t3\t121\t11\t137\t2.52e-27\t100\n",
            "NP_619790.1\tNP_001157888.2\t43.077\t130\t60\t2\t3\t121\t11\t137\t2.52e-27\t100\n",
            "NP_619790.1\tXP_011529224.1\t43.077\t130\t60\t2\t3\t121\t17\t143\t3.06e-27\t100\n",
            "NP_619790.1\tNP_001002916.4\t45.299\t117\t53\t1\t16\t121\t20\t136\t5.07e-26\t97.1\n",
            "NP_619790.1\tNP_001388269.1\t42.647\t68\t33\t2\t36\t100\t46\t110\t1.38e-08\t51.6\n",
            "NP_619790.1\tNP_001342187.1\t26.389\t72\t45\t2\t34\t101\t64\t131\t0.33\t32.0\n",
            "NP_619790.1\tNP_001358848.1\t26.389\t72\t45\t2\t34\t101\t64\t131\t0.44\t31.6\n",
            "NP_619790.1\tNP_665803.2\t30.000\t70\t47\t1\t56\t125\t121\t188\t3.1\t30.0\n"
          ]
        }
      ]
    },
    {
      "cell_type": "code",
      "source": [
        "!cat gene_H2BC5_mouse.txt\n"
      ],
      "metadata": {
        "colab": {
          "base_uri": "https://localhost:8080/"
        },
        "id": "phZQBlowGbxc",
        "outputId": "030a0917-441e-4d79-a3d2-8ea0686153de"
      },
      "execution_count": null,
      "outputs": [
        {
          "output_type": "stream",
          "name": "stdout",
          "text": [
            "NP_619790.1\tNP_835507.1\t100.000\t126\t0\t0\t1\t126\t1\t126\t1.76e-88\t254\n",
            "NP_619790.1\tNP_835503.1\t99.206\t126\t1\t0\t1\t126\t1\t126\t9.99e-88\t252\n",
            "NP_619790.1\tNP_835501.1\t99.206\t126\t1\t0\t1\t126\t1\t126\t9.99e-88\t252\n",
            "NP_619790.1\tNP_075911.2\t99.206\t126\t1\t0\t1\t126\t1\t126\t9.99e-88\t252\n",
            "NP_619790.1\tNP_001277459.1\t99.206\t126\t1\t0\t1\t126\t1\t126\t9.99e-88\t252\n",
            "NP_619790.1\tNP_001277309.1\t99.206\t126\t1\t0\t1\t126\t1\t126\t9.99e-88\t252\n",
            "NP_619790.1\tNP_001171124.1\t99.206\t126\t1\t0\t1\t126\t1\t126\t9.99e-88\t252\n",
            "NP_619790.1\tNP_835504.1\t98.413\t126\t2\t0\t1\t126\t1\t126\t3.00e-87\t251\n",
            "NP_619790.1\tNP_835508.1\t98.413\t126\t2\t0\t1\t126\t1\t126\t6.82e-87\t250\n",
            "NP_619790.1\tNP_835506.1\t98.413\t126\t2\t0\t1\t126\t1\t126\t6.82e-87\t250\n",
            "NP_619790.1\tNP_835505.1\t98.413\t126\t2\t0\t1\t126\t1\t126\t6.82e-87\t250\n",
            "NP_619790.1\tNP_835502.1\t98.413\t126\t2\t0\t1\t126\t1\t126\t6.82e-87\t250\n",
            "NP_619790.1\tNP_001300809.1\t98.413\t126\t2\t0\t1\t126\t1\t126\t6.82e-87\t250\n",
            "NP_619790.1\tNP_001300807.1\t98.413\t126\t2\t0\t1\t126\t1\t126\t6.82e-87\t250\n",
            "NP_619790.1\tNP_783597.2\t97.619\t126\t3\t0\t1\t126\t1\t126\t1.35e-86\t249\n",
            "NP_619790.1\tNP_783596.1\t97.619\t126\t3\t0\t1\t126\t1\t126\t1.79e-86\t249\n",
            "NP_619790.1\tNP_783595.1\t96.825\t126\t4\t0\t1\t126\t1\t126\t2.18e-86\t248\n",
            "NP_619790.1\tNP_001104025.1\t98.400\t125\t2\t0\t1\t125\t1\t125\t2.53e-86\t249\n",
            "NP_619790.1\tNP_001091448.2\t98.400\t125\t2\t0\t1\t125\t1\t125\t2.53e-86\t249\n",
            "NP_619790.1\tXP_006516753.1\t97.619\t126\t3\t0\t1\t126\t1\t126\t2.55e-86\t248\n",
            "NP_619790.1\tNP_001277395.1\t97.619\t126\t3\t0\t1\t126\t1\t126\t2.55e-86\t248\n",
            "NP_619790.1\tNP_835509.2\t97.619\t126\t3\t0\t1\t126\t1\t126\t7.11e-86\t248\n",
            "NP_619790.1\tNP_835586.2\t95.238\t126\t6\t0\t1\t126\t1\t126\t2.67e-84\t243\n",
            "NP_619790.1\tNP_001380452.1\t95.238\t126\t6\t0\t1\t126\t1\t126\t8.06e-76\t222\n",
            "NP_619790.1\tNP_084358.1\t93.651\t126\t8\t0\t1\t126\t1\t126\t4.18e-75\t220\n",
            "NP_619790.1\tNP_783594.1\t86.614\t127\t16\t1\t1\t126\t1\t127\t1.74e-74\t218\n",
            "NP_619790.1\tNP_081343.1\t55.435\t92\t41\t0\t35\t126\t133\t224\t5.78e-31\t111\n",
            "NP_619790.1\tNP_081340.1\t49.515\t103\t45\t1\t30\t125\t21\t123\t1.00e-24\t92.8\n",
            "NP_619790.1\tNP_849221.2\t30.000\t70\t47\t1\t56\t125\t121\t188\t2.4\t29.6\n",
            "NP_619790.1\tXP_006539796.1\t26.804\t97\t55\t4\t21\t114\t170\t253\t6.2\t28.5\n",
            "NP_619790.1\tNP_035810.1\t26.804\t97\t55\t4\t21\t114\t237\t320\t6.8\t28.5\n",
            "NP_619790.1\tXP_006523990.1\t50.000\t20\t10\t0\t51\t70\t679\t698\t9.0\t28.1\n",
            "NP_619790.1\tXP_006523989.1\t50.000\t20\t10\t0\t51\t70\t680\t699\t9.0\t28.1\n",
            "NP_619790.1\tXP_006523988.1\t50.000\t20\t10\t0\t51\t70\t680\t699\t9.0\t28.1\n",
            "NP_619790.1\tXP_006523987.1\t50.000\t20\t10\t0\t51\t70\t680\t699\t9.0\t28.1\n",
            "NP_619790.1\tNP_001344565.1\t50.000\t20\t10\t0\t51\t70\t680\t699\t9.0\t28.1\n",
            "NP_619790.1\tNP_001344566.1\t50.000\t20\t10\t0\t51\t70\t647\t666\t9.2\t28.1\n",
            "NP_619790.1\tNP_033148.2\t50.000\t20\t10\t0\t51\t70\t648\t667\t9.2\t28.1\n",
            "NP_619790.1\tNP_001344567.1\t50.000\t20\t10\t0\t51\t70\t648\t667\t9.2\t28.1\n",
            "NP_619790.1\tNP_001157104.1\t50.000\t20\t10\t0\t51\t70\t648\t667\t9.2\t28.1\n",
            "NP_619790.1\tNP_001157103.1\t50.000\t20\t10\t0\t51\t70\t648\t667\t9.2\t28.1\n",
            "NP_619790.1\tNP_001157102.1\t50.000\t20\t10\t0\t51\t70\t648\t667\t9.2\t28.1\n"
          ]
        }
      ]
    },
    {
      "cell_type": "code",
      "source": [
        "!cat gene_H2BC5_yeast.txt\n"
      ],
      "metadata": {
        "colab": {
          "base_uri": "https://localhost:8080/"
        },
        "id": "paP5Km6fGdL6",
        "outputId": "b15af7a1-1aaf-4691-af36-469e89f8a741"
      },
      "execution_count": null,
      "outputs": [
        {
          "output_type": "stream",
          "name": "stdout",
          "text": [
            "NP_619790.1\tNP_010510.3\t71.311\t122\t33\t1\t4\t125\t9\t128\t5.40e-60\t179\n",
            "NP_619790.1\tNP_009553.1\t72.358\t123\t30\t2\t4\t125\t9\t128\t2.35e-59\t177\n",
            "NP_619790.1\tNP_014036.1\t26.923\t52\t38\t0\t20\t71\t1428\t1479\t1.1\t26.9\n",
            "NP_619790.1\tNP_009532.1\t25.806\t62\t45\t1\t42\t102\t47\t108\t3.3\t25.0\n",
            "NP_619790.1\tNP_009589.1\t34.286\t35\t23\t0\t4\t38\t91\t125\t4.4\t25.0\n",
            "NP_619790.1\tNP_013931.1\t30.435\t69\t25\t3\t5\t70\t54\t102\t4.8\t24.6\n",
            "NP_619790.1\tNP_014660.1\t25.000\t64\t41\t2\t68\t126\t496\t557\t6.2\t24.6\n",
            "NP_619790.1\tNP_012707.1\t26.733\t101\t64\t3\t2\t102\t150\t240\t7.8\t24.3\n",
            "NP_619790.1\tNP_012753.2\t27.273\t55\t40\t0\t16\t70\t327\t381\t8.9\t24.3\n",
            "NP_619790.1\tNP_010511.3\t33.333\t39\t22\t2\t62\t100\t56\t90\t8.9\t23.5\n",
            "NP_619790.1\tNP_009552.1\t33.333\t39\t22\t2\t62\t100\t56\t90\t8.9\t23.5\n",
            "NP_619790.1\tNP_013630.1\t31.481\t54\t35\t1\t4\t57\t149\t200\t9.9\t23.9\n"
          ]
        }
      ]
    },
    {
      "cell_type": "code",
      "source": [
        "!cat gene_H2BC5_zebrafish.txt\n"
      ],
      "metadata": {
        "colab": {
          "base_uri": "https://localhost:8080/"
        },
        "id": "9aPAiK-fGeiK",
        "outputId": "cae2636b-3b15-4973-c433-5df5a694fa48"
      },
      "execution_count": null,
      "outputs": [
        {
          "output_type": "stream",
          "name": "stdout",
          "text": [
            "NP_619790.1\tNP_956411.1\t92.857\t126\t9\t0\t1\t126\t1\t126\t9.04e-83\t239\n",
            "NP_619790.1\tXP_689245.2\t92.063\t126\t8\t1\t1\t126\t1\t124\t1.08e-79\t231\n",
            "NP_619790.1\tXP_017209765.1\t92.063\t126\t8\t1\t1\t126\t1\t124\t1.08e-79\t231\n",
            "NP_619790.1\tXP_001922605.1\t92.063\t126\t8\t1\t1\t126\t1\t124\t1.11e-79\t231\n",
            "NP_619790.1\tXP_017209712.1\t91.270\t126\t9\t1\t1\t126\t1\t124\t2.88e-79\t230\n",
            "NP_619790.1\tXP_005163278.1\t91.270\t126\t9\t1\t1\t126\t1\t124\t3.83e-79\t229\n",
            "NP_619790.1\tXP_005172216.1\t91.270\t126\t9\t1\t1\t126\t1\t124\t3.92e-79\t229\n",
            "NP_619790.1\tXP_691943.2\t92.063\t126\t8\t1\t1\t126\t38\t161\t4.14e-79\t231\n",
            "NP_619790.1\tNP_001122231.1\t90.476\t126\t10\t1\t1\t126\t1\t124\t5.27e-79\t229\n",
            "NP_619790.1\tXP_692972.1\t91.270\t126\t9\t1\t1\t126\t1\t124\t5.50e-79\t229\n",
            "NP_619790.1\tXP_021333351.1\t91.270\t126\t9\t1\t1\t126\t1\t124\t5.50e-79\t229\n",
            "NP_619790.1\tXP_017212444.1\t91.270\t126\t9\t1\t1\t126\t1\t124\t5.50e-79\t229\n",
            "NP_619790.1\tXP_009301182.1\t91.270\t126\t9\t1\t1\t126\t1\t124\t5.50e-79\t229\n",
            "NP_619790.1\tXP_009301169.1\t91.270\t126\t9\t1\t1\t126\t1\t124\t5.50e-79\t229\n",
            "NP_619790.1\tXP_005170787.1\t91.270\t126\t9\t1\t1\t126\t1\t124\t5.50e-79\t229\n",
            "NP_619790.1\tXP_005168860.1\t91.270\t126\t9\t1\t1\t126\t1\t124\t5.50e-79\t229\n",
            "NP_619790.1\tXP_003198935.1\t91.270\t126\t9\t1\t1\t126\t1\t124\t5.50e-79\t229\n",
            "NP_619790.1\tXP_002667787.1\t91.270\t126\t9\t1\t1\t126\t1\t124\t5.50e-79\t229\n",
            "NP_619790.1\tXP_001335214.1\t91.270\t126\t9\t1\t1\t126\t1\t124\t5.50e-79\t229\n",
            "NP_619790.1\tXP_017212661.1\t91.270\t126\t9\t1\t1\t126\t1\t124\t6.01e-79\t229\n",
            "NP_619790.1\tXP_017209639.1\t91.270\t126\t9\t1\t1\t126\t1\t124\t6.01e-79\t229\n",
            "NP_619790.1\tXP_009301957.1\t91.270\t126\t9\t1\t1\t126\t1\t124\t6.01e-79\t229\n",
            "NP_619790.1\tXP_005172456.1\t91.270\t126\t9\t1\t1\t126\t1\t124\t6.01e-79\t229\n",
            "NP_619790.1\tXP_005170789.1\t91.270\t126\t9\t1\t1\t126\t1\t124\t6.01e-79\t229\n",
            "NP_619790.1\tXP_005163256.1\t91.270\t126\t9\t1\t1\t126\t1\t124\t6.01e-79\t229\n",
            "NP_619790.1\tXP_002666990.1\t91.270\t126\t9\t1\t1\t126\t1\t124\t6.01e-79\t229\n",
            "NP_619790.1\tXP_017209640.1\t90.476\t126\t10\t1\t1\t126\t1\t124\t9.52e-79\t229\n",
            "NP_619790.1\tXP_005163255.1\t90.476\t126\t10\t1\t1\t126\t1\t124\t9.52e-79\t229\n",
            "NP_619790.1\tXP_002666976.1\t90.476\t126\t10\t1\t1\t126\t1\t124\t1.40e-78\t228\n",
            "NP_619790.1\tNP_001103305.1\t90.476\t126\t10\t1\t1\t126\t1\t124\t1.99e-78\t228\n",
            "NP_619790.1\tNP_001096102.1\t90.476\t126\t10\t1\t1\t126\t1\t124\t7.33e-78\t226\n",
            "NP_619790.1\tXP_001923636.1\t90.476\t126\t10\t1\t1\t126\t1\t124\t9.75e-78\t226\n",
            "NP_619790.1\tNP_001103306.1\t90.476\t126\t10\t1\t1\t126\t1\t124\t1.01e-77\t226\n",
            "NP_619790.1\tNP_001002724.1\t91.209\t91\t8\t0\t36\t126\t27\t117\t1.80e-58\t177\n",
            "NP_619790.1\tXP_021333785.1\t72.414\t87\t5\t1\t32\t118\t5\t72\t2.11e-36\t120\n",
            "NP_619790.1\tXP_021329554.1\t35.714\t70\t43\t1\t56\t125\t114\t181\t3.17e-04\t40.4\n",
            "NP_619790.1\tXP_021329553.1\t35.714\t70\t43\t1\t56\t125\t114\t181\t3.17e-04\t40.4\n",
            "NP_619790.1\tXP_009296329.1\t35.714\t70\t43\t1\t56\t125\t114\t181\t3.17e-04\t40.4\n",
            "NP_619790.1\tXP_001923186.1\t35.714\t70\t43\t1\t56\t125\t114\t181\t3.17e-04\t40.4\n",
            "NP_619790.1\tNP_001314754.1\t37.500\t40\t22\t1\t6\t45\t883\t919\t8.7\t27.3\n",
            "NP_619790.1\tXP_021325280.1\t25.581\t43\t32\t0\t43\t85\t257\t299\t9.5\t27.3\n",
            "NP_619790.1\tXP_003201135.2\t25.581\t43\t32\t0\t43\t85\t257\t299\t9.5\t27.3\n"
          ]
        }
      ]
    },
    {
      "cell_type": "code",
      "source": [
        "!cat gene_H2BC5_methanocaldococcus.txt\n"
      ],
      "metadata": {
        "colab": {
          "base_uri": "https://localhost:8080/"
        },
        "id": "ckgOeKsLGgDF",
        "outputId": "cc797d62-f92d-49ec-ddff-35c211a8d87d"
      },
      "execution_count": null,
      "outputs": [
        {
          "output_type": "stream",
          "name": "stdout",
          "text": [
            "NP_619790.1\tWP_012794925.1\t30.435\t23\t16\t0\t68\t90\t70\t92\t1.8\t23.5\n",
            "NP_619790.1\tWP_015790856.1\t57.895\t19\t8\t0\t24\t42\t834\t852\t5.9\t22.3\n",
            "NP_619790.1\tWP_015791028.1\t32.353\t34\t18\t1\t36\t64\t434\t467\t6.3\t21.9\n",
            "NP_619790.1\tWP_015791807.1\t39.394\t33\t18\t1\t86\t116\t368\t400\t6.9\t21.9\n",
            "NP_619790.1\tWP_048056308.1\t40.000\t25\t14\t1\t102\t126\t381\t404\t7.2\t21.9\n"
          ]
        }
      ]
    },
    {
      "cell_type": "code",
      "source": [
        "!cat gene_H2BC5_tuberculosis.txt\n"
      ],
      "metadata": {
        "colab": {
          "base_uri": "https://localhost:8080/"
        },
        "id": "FKu1suhWGh6u",
        "outputId": "d91e777c-09e7-4bd9-e17c-6cdc2364f8b8"
      },
      "execution_count": null,
      "outputs": [
        {
          "output_type": "stream",
          "name": "stdout",
          "text": [
            "NP_619790.1\tNP_215939.1\t30.769\t39\t27\t0\t17\t55\t40\t78\t2.2\t24.6\n",
            "NP_619790.1\tNP_216692.1\t34.091\t44\t29\t0\t14\t57\t180\t223\t2.6\t24.6\n",
            "NP_619790.1\tNP_215864.1\t47.059\t17\t9\t0\t2\t18\t263\t279\t2.6\t24.6\n",
            "NP_619790.1\tNP_216831.1\t34.146\t41\t25\t1\t73\t111\t41\t81\t4.9\t23.9\n",
            "NP_619790.1\tNP_215602.1\t59.091\t22\t9\t0\t93\t114\t162\t183\t5.8\t23.5\n"
          ]
        }
      ]
    },
    {
      "cell_type": "code",
      "source": [
        "!cat gene_H2BC5_thermococcus.txt"
      ],
      "metadata": {
        "colab": {
          "base_uri": "https://localhost:8080/"
        },
        "id": "ti58-mGxGjWg",
        "outputId": "44055e0a-4aff-4f7a-8530-65d4703f962d"
      },
      "execution_count": null,
      "outputs": [
        {
          "output_type": "stream",
          "name": "stdout",
          "text": [
            "NP_619790.1\tWP_011250518.1\t35.714\t70\t25\t3\t67\t120\t284\t349\t1.2\t24.6\n",
            "NP_619790.1\tWP_011250518.1\t25.275\t91\t58\t2\t24\t109\t793\t878\t9.6\t21.9\n",
            "NP_619790.1\tWP_011249223.1\t29.851\t67\t37\t3\t35\t99\t216\t274\t3.0\t23.5\n",
            "NP_619790.1\tWP_011249212.1\t52.000\t25\t12\t0\t54\t78\t230\t254\t3.1\t23.5\n",
            "NP_619790.1\tWP_011250524.1\t50.000\t16\t8\t0\t28\t43\t15\t30\t6.8\t22.3\n",
            "NP_619790.1\tWP_011249899.1\t39.130\t23\t14\t0\t85\t107\t6\t28\t7.7\t22.3\n"
          ]
        }
      ]
    },
    {
      "cell_type": "markdown",
      "source": [
        "# H3"
      ],
      "metadata": {
        "id": "alp_xFngGMlP"
      }
    },
    {
      "cell_type": "code",
      "source": [
        "!cat gene_H3C2_c.elegans.txt"
      ],
      "metadata": {
        "colab": {
          "base_uri": "https://localhost:8080/"
        },
        "id": "allJL4jYE9ih",
        "outputId": "1428a9a8-9365-4a51-a436-181ffdf63230"
      },
      "execution_count": null,
      "outputs": [
        {
          "output_type": "stream",
          "name": "stdout",
          "text": [
            "NP_003528.1\tNP_507033.1\t97.059\t136\t4\t0\t1\t136\t1\t136\t4.46e-94\t267\n",
            "NP_003528.1\tNP_505297.1\t97.059\t136\t4\t0\t1\t136\t1\t136\t4.46e-94\t267\n",
            "NP_003528.1\tNP_505292.1\t97.059\t136\t4\t0\t1\t136\t1\t136\t4.46e-94\t267\n",
            "NP_003528.1\tNP_505276.1\t97.059\t136\t4\t0\t1\t136\t1\t136\t4.46e-94\t267\n",
            "NP_003528.1\tNP_505199.1\t97.059\t136\t4\t0\t1\t136\t1\t136\t4.46e-94\t267\n",
            "NP_003528.1\tNP_502153.1\t97.059\t136\t4\t0\t1\t136\t1\t136\t4.46e-94\t267\n",
            "NP_003528.1\tNP_502138.1\t97.059\t136\t4\t0\t1\t136\t1\t136\t4.46e-94\t267\n",
            "NP_003528.1\tNP_502134.1\t97.059\t136\t4\t0\t1\t136\t1\t136\t4.46e-94\t267\n",
            "NP_003528.1\tNP_501407.1\t97.059\t136\t4\t0\t1\t136\t1\t136\t4.46e-94\t267\n",
            "NP_003528.1\tNP_501204.1\t97.059\t136\t4\t0\t1\t136\t1\t136\t4.46e-94\t267\n",
            "NP_003528.1\tNP_496895.1\t97.059\t136\t4\t0\t1\t136\t1\t136\t4.46e-94\t267\n",
            "NP_003528.1\tNP_496894.1\t97.059\t136\t4\t0\t1\t136\t1\t136\t4.46e-94\t267\n",
            "NP_003528.1\tNP_496890.1\t97.059\t136\t4\t0\t1\t136\t1\t136\t4.46e-94\t267\n",
            "NP_003528.1\tNP_001366884.1\t97.059\t136\t4\t0\t1\t136\t1\t136\t4.46e-94\t267\n",
            "NP_003528.1\tNP_001263958.1\t97.059\t136\t4\t0\t1\t136\t1\t136\t4.46e-94\t267\n",
            "NP_003528.1\tNP_509344.1\t96.324\t136\t5\t0\t1\t136\t1\t136\t4.99e-93\t265\n",
            "NP_003528.1\tNP_001255163.1\t95.588\t136\t6\t0\t1\t136\t1\t136\t1.45e-92\t263\n",
            "NP_003528.1\tNP_506164.1\t90.441\t136\t13\t0\t1\t136\t1\t136\t9.76e-87\t248\n",
            "NP_003528.1\tNP_497811.1\t86.179\t123\t17\t0\t13\t135\t4\t126\t6.45e-75\t218\n",
            "NP_003528.1\tNP_497812.2\t77.206\t136\t29\t1\t1\t136\t1\t134\t5.60e-72\t211\n",
            "NP_003528.1\tNP_505106.1\t58.763\t97\t40\t0\t38\t134\t20\t116\t6.93e-32\t109\n",
            "NP_003528.1\tNP_499128.1\t58.586\t99\t38\t1\t36\t131\t185\t283\t2.81e-31\t112\n",
            "NP_003528.1\tNP_499073.1\t53.535\t99\t43\t1\t36\t131\t158\t256\t8.65e-29\t105\n",
            "NP_003528.1\tNP_001366902.1\t95.652\t46\t2\t0\t91\t136\t1\t46\t3.75e-26\t92.8\n",
            "NP_003528.1\tNP_502432.1\t34.000\t50\t29\t2\t36\t81\t721\t770\t1.9\t28.5\n",
            "NP_003528.1\tNP_001293920.1\t33.333\t39\t24\t1\t45\t81\t248\t286\t2.1\t28.1\n",
            "NP_003528.1\tNP_001024155.1\t43.750\t32\t16\t1\t52\t81\t35\t66\t3.2\t27.3\n",
            "NP_003528.1\tNP_497958.1\t28.395\t81\t48\t1\t32\t112\t243\t313\t7.5\t26.6\n",
            "NP_003528.1\tNP_001362169.1\t36.364\t55\t30\t3\t3\t52\t361\t415\t8.0\t26.6\n",
            "NP_003528.1\tNP_001362170.1\t36.364\t55\t30\t3\t3\t52\t361\t415\t8.0\t26.6\n"
          ]
        }
      ]
    },
    {
      "cell_type": "code",
      "source": [
        "\n",
        "!cat gene_H3C2_ciliate.txt"
      ],
      "metadata": {
        "colab": {
          "base_uri": "https://localhost:8080/"
        },
        "id": "FD0HikOcIYbO",
        "outputId": "65b30233-3cae-4aed-8d6a-9d3cea24fd11"
      },
      "execution_count": null,
      "outputs": [
        {
          "output_type": "stream",
          "name": "stdout",
          "text": [
            "NP_003528.1\tXP_012655226.1\t88.148\t135\t16\t0\t1\t135\t1\t135\t8.41e-86\t246\n",
            "NP_003528.1\tXP_001016594.3\t88.148\t135\t16\t0\t1\t135\t1\t135\t8.41e-86\t246\n",
            "NP_003528.1\tXP_001008397.1\t83.704\t135\t22\t0\t1\t135\t1\t135\t7.75e-82\t236\n",
            "NP_003528.1\tXP_001008400.1\t81.481\t135\t25\t0\t1\t135\t1\t135\t1.26e-79\t231\n",
            "NP_003528.1\tXP_001011273.1\t53.608\t97\t43\t1\t41\t135\t80\t176\t5.75e-32\t112\n",
            "NP_003528.1\tXP_001007069.1\t52.632\t38\t16\t1\t4\t39\t667\t704\t0.003\t36.6\n",
            "NP_003528.1\tXP_001012405.3\t37.500\t32\t20\t0\t49\t80\t11\t42\t0.16\t31.6\n",
            "NP_003528.1\tXP_001027748.2\t33.333\t33\t22\t0\t45\t77\t259\t291\t6.0\t26.9\n",
            "NP_003528.1\tXP_001013908.2\t40.741\t27\t16\t0\t84\t110\t721\t747\t8.9\t26.6\n"
          ]
        }
      ]
    },
    {
      "cell_type": "code",
      "source": [
        "\n",
        "!cat gene_H3C2_drosophila.txt"
      ],
      "metadata": {
        "colab": {
          "base_uri": "https://localhost:8080/"
        },
        "id": "7yY8FTFtIZtq",
        "outputId": "18e89709-9d86-4be3-f8ec-94de795874db"
      },
      "execution_count": null,
      "outputs": [
        {
          "output_type": "stream",
          "name": "stdout",
          "text": [
            "NP_003528.1\tNP_724345.1\t99.265\t136\t1\t0\t1\t136\t1\t136\t9.39e-96\t272\n",
            "NP_003528.1\tNP_001027387.1\t99.265\t136\t1\t0\t1\t136\t1\t136\t9.39e-96\t272\n",
            "NP_003528.1\tNP_001027383.1\t99.265\t136\t1\t0\t1\t136\t1\t136\t9.39e-96\t272\n",
            "NP_003528.1\tNP_001027378.1\t99.265\t136\t1\t0\t1\t136\t1\t136\t9.39e-96\t272\n",
            "NP_003528.1\tNP_001027373.1\t99.265\t136\t1\t0\t1\t136\t1\t136\t9.39e-96\t272\n",
            "NP_003528.1\tNP_001027368.1\t99.265\t136\t1\t0\t1\t136\t1\t136\t9.39e-96\t272\n",
            "NP_003528.1\tNP_001027363.1\t99.265\t136\t1\t0\t1\t136\t1\t136\t9.39e-96\t272\n",
            "NP_003528.1\tNP_001027358.1\t99.265\t136\t1\t0\t1\t136\t1\t136\t9.39e-96\t272\n",
            "NP_003528.1\tNP_001027353.1\t99.265\t136\t1\t0\t1\t136\t1\t136\t9.39e-96\t272\n",
            "NP_003528.1\tNP_001027348.1\t99.265\t136\t1\t0\t1\t136\t1\t136\t9.39e-96\t272\n",
            "NP_003528.1\tNP_001027343.1\t99.265\t136\t1\t0\t1\t136\t1\t136\t9.39e-96\t272\n",
            "NP_003528.1\tNP_001027338.1\t99.265\t136\t1\t0\t1\t136\t1\t136\t9.39e-96\t272\n",
            "NP_003528.1\tNP_001027333.1\t99.265\t136\t1\t0\t1\t136\t1\t136\t9.39e-96\t272\n",
            "NP_003528.1\tNP_001027328.1\t99.265\t136\t1\t0\t1\t136\t1\t136\t9.39e-96\t272\n",
            "NP_003528.1\tNP_001027323.1\t99.265\t136\t1\t0\t1\t136\t1\t136\t9.39e-96\t272\n",
            "NP_003528.1\tNP_001027318.1\t99.265\t136\t1\t0\t1\t136\t1\t136\t9.39e-96\t272\n",
            "NP_003528.1\tNP_001027313.1\t99.265\t136\t1\t0\t1\t136\t1\t136\t9.39e-96\t272\n",
            "NP_003528.1\tNP_001027308.1\t99.265\t136\t1\t0\t1\t136\t1\t136\t9.39e-96\t272\n",
            "NP_003528.1\tNP_001027303.1\t99.265\t136\t1\t0\t1\t136\t1\t136\t9.39e-96\t272\n",
            "NP_003528.1\tNP_001027298.1\t99.265\t136\t1\t0\t1\t136\t1\t136\t9.39e-96\t272\n",
            "NP_003528.1\tNP_001027294.1\t99.265\t136\t1\t0\t1\t136\t1\t136\t9.39e-96\t272\n",
            "NP_003528.1\tNP_001027289.1\t99.265\t136\t1\t0\t1\t136\t1\t136\t9.39e-96\t272\n",
            "NP_003528.1\tNP_001027285.1\t99.265\t136\t1\t0\t1\t136\t1\t136\t9.39e-96\t272\n",
            "NP_003528.1\tNP_788892.1\t96.324\t136\t5\t0\t1\t136\t1\t136\t4.02e-93\t265\n",
            "NP_003528.1\tNP_727314.1\t96.324\t136\t5\t0\t1\t136\t1\t136\t4.02e-93\t265\n",
            "NP_003528.1\tNP_723056.2\t96.324\t136\t5\t0\t1\t136\t1\t136\t4.02e-93\t265\n",
            "NP_003528.1\tNP_523479.1\t96.324\t136\t5\t0\t1\t136\t1\t136\t4.02e-93\t265\n",
            "NP_003528.1\tNP_511095.1\t96.324\t136\t5\t0\t1\t136\t1\t136\t4.02e-93\t265\n",
            "NP_003528.1\tNP_001260082.1\t96.324\t136\t5\t0\t1\t136\t1\t136\t4.02e-93\t265\n",
            "NP_003528.1\tNP_001259374.1\t96.324\t136\t5\t0\t1\t136\t1\t136\t4.02e-93\t265\n",
            "NP_003528.1\tNP_523730.2\t43.750\t80\t43\t1\t50\t127\t135\t214\t1.99e-13\t65.1\n",
            "NP_003528.1\tNP_001285964.1\t28.000\t50\t36\t0\t49\t98\t60\t109\t3.4\t28.1\n",
            "NP_003528.1\tNP_001285963.1\t28.000\t50\t36\t0\t49\t98\t60\t109\t3.4\t28.1\n",
            "NP_003528.1\tNP_001260467.2\t28.000\t50\t36\t0\t49\t98\t60\t109\t3.4\t28.1\n",
            "NP_003528.1\tNP_001260466.2\t28.000\t50\t36\t0\t49\t98\t60\t109\t3.4\t28.1\n",
            "NP_003528.1\tNP_001097164.2\t28.000\t50\t36\t0\t49\t98\t60\t109\t3.4\t28.1\n",
            "NP_003528.1\tNP_001097163.3\t28.000\t50\t36\t0\t49\t98\t60\t109\t3.4\t28.1\n",
            "NP_003528.1\tNP_001285962.1\t28.000\t50\t36\t0\t49\t98\t60\t109\t3.4\t28.1\n",
            "NP_003528.1\tNP_001188817.2\t28.000\t50\t36\t0\t49\t98\t60\t109\t3.4\t28.1\n",
            "NP_003528.1\tNP_610101.3\t33.333\t42\t18\t1\t2\t43\t2098\t2129\t5.0\t27.7\n",
            "NP_003528.1\tNP_001286123.1\t33.333\t42\t18\t1\t2\t43\t2098\t2129\t5.0\t27.7\n",
            "NP_003528.1\tNP_787994.1\t24.779\t113\t68\t4\t1\t111\t40\t137\t5.5\t27.3\n",
            "NP_003528.1\tNP_001285729.1\t24.779\t113\t68\t4\t1\t111\t40\t137\t5.5\t27.3\n",
            "NP_003528.1\tNP_648337.1\t44.000\t25\t14\t0\t56\t80\t782\t806\t9.6\t26.6\n"
          ]
        }
      ]
    },
    {
      "cell_type": "code",
      "source": [
        "\n",
        "!cat gene_H3C2_e.coli.txt"
      ],
      "metadata": {
        "colab": {
          "base_uri": "https://localhost:8080/"
        },
        "id": "iAEZG7olIapd",
        "outputId": "bb141562-beb5-4981-b13a-8c2c1c2950d7"
      },
      "execution_count": null,
      "outputs": [
        {
          "output_type": "stream",
          "name": "stdout",
          "text": [
            "NP_003528.1\tNP_416349.2\t34.091\t44\t29\t0\t50\t93\t362\t405\t0.90\t26.2\n",
            "NP_003528.1\tNP_415118.1\t34.211\t38\t25\t0\t47\t84\t125\t162\t3.9\t24.3\n",
            "NP_003528.1\tNP_416867.1\t34.375\t32\t21\t0\t47\t78\t20\t51\t5.2\t23.9\n",
            "NP_003528.1\tNP_415134.1\t43.478\t23\t13\t0\t39\t61\t60\t82\t9.5\t23.1\n",
            "NP_003528.1\tNP_418105.1\t47.619\t21\t10\t1\t114\t133\t117\t137\t9.7\t22.7\n"
          ]
        }
      ]
    },
    {
      "cell_type": "code",
      "source": [
        "\n",
        "!cat gene_H3C2_human.txt"
      ],
      "metadata": {
        "colab": {
          "base_uri": "https://localhost:8080/"
        },
        "id": "vCOysGqnIbWu",
        "outputId": "be97b815-17d8-4aae-bf1a-84ba05b8060d"
      },
      "execution_count": null,
      "outputs": [
        {
          "output_type": "stream",
          "name": "stdout",
          "text": [
            "NP_003528.1\tNP_066298.1\t100.000\t136\t0\t0\t1\t136\t1\t136\t2.19e-96\t275\n",
            "NP_003528.1\tNP_003528.1\t100.000\t136\t0\t0\t1\t136\t1\t136\t2.19e-96\t275\n",
            "NP_003528.1\tNP_003527.1\t100.000\t136\t0\t0\t1\t136\t1\t136\t2.19e-96\t275\n",
            "NP_003528.1\tNP_003526.1\t100.000\t136\t0\t0\t1\t136\t1\t136\t2.19e-96\t275\n",
            "NP_003528.1\tNP_003525.1\t100.000\t136\t0\t0\t1\t136\t1\t136\t2.19e-96\t275\n",
            "NP_003528.1\tNP_003524.1\t100.000\t136\t0\t0\t1\t136\t1\t136\t2.19e-96\t275\n",
            "NP_003528.1\tNP_003523.1\t100.000\t136\t0\t0\t1\t136\t1\t136\t2.19e-96\t275\n",
            "NP_003528.1\tNP_003522.1\t100.000\t136\t0\t0\t1\t136\t1\t136\t2.19e-96\t275\n",
            "NP_003528.1\tNP_003521.2\t100.000\t136\t0\t0\t1\t136\t1\t136\t2.19e-96\t275\n",
            "NP_003528.1\tNP_003520.1\t100.000\t136\t0\t0\t1\t136\t1\t136\t2.19e-96\t275\n",
            "NP_003528.1\tNP_001368928.1\t100.000\t136\t0\t0\t1\t136\t1\t136\t2.19e-96\t275\n",
            "NP_003528.1\tNP_001363866.1\t100.000\t136\t0\t0\t1\t136\t1\t136\t2.19e-96\t275\n",
            "NP_003528.1\tNP_066403.2\t99.265\t136\t1\t0\t1\t136\t1\t136\t4.34e-95\t272\n",
            "NP_003528.1\tNP_001116847.1\t99.265\t136\t1\t0\t1\t136\t1\t136\t4.34e-95\t272\n",
            "NP_003528.1\tNP_001005464.1\t99.265\t136\t1\t0\t1\t136\t1\t136\t4.34e-95\t272\n",
            "NP_003528.1\tNP_003484.1\t97.059\t136\t4\t0\t1\t136\t1\t136\t2.54e-94\t270\n",
            "NP_003528.1\tNP_001359034.1\t97.059\t136\t4\t0\t1\t136\t1\t136\t1.74e-92\t265\n",
            "NP_003528.1\tNP_001342338.1\t97.059\t136\t4\t0\t1\t136\t1\t136\t1.74e-92\t265\n",
            "NP_003528.1\tNP_005315.1\t96.324\t136\t5\t0\t1\t136\t1\t136\t1.86e-92\t265\n",
            "NP_003528.1\tNP_002098.1\t96.324\t136\t5\t0\t1\t136\t1\t136\t1.86e-92\t265\n",
            "NP_003528.1\tNP_001365976.1\t96.324\t136\t5\t0\t1\t136\t1\t136\t1.86e-92\t265\n",
            "NP_003528.1\tNP_001365975.1\t96.324\t136\t5\t0\t1\t136\t1\t136\t1.86e-92\t265\n",
            "NP_003528.1\tNP_001365974.1\t96.324\t136\t5\t0\t1\t136\t1\t136\t1.86e-92\t265\n",
            "NP_003528.1\tNP_001365972.1\t96.324\t136\t5\t0\t1\t136\t1\t136\t1.86e-92\t265\n",
            "NP_003528.1\tNP_001013721.2\t93.382\t136\t8\t1\t1\t136\t1\t135\t1.44e-86\t250\n",
            "NP_003528.1\tNP_001358848.1\t79.412\t136\t28\t0\t1\t136\t1\t136\t1.49e-74\t220\n",
            "NP_003528.1\tNP_001342187.1\t79.104\t134\t28\t0\t1\t134\t1\t134\t3.42e-73\t216\n",
            "NP_003528.1\tNP_001800.1\t50.000\t132\t57\t4\t9\t133\t5\t134\t7.40e-32\t112\n",
            "NP_003528.1\tNP_001035891.1\t42.308\t130\t44\t4\t9\t133\t5\t108\t1.02e-19\t80.5\n",
            "NP_003528.1\tXP_047290642.1\t27.273\t55\t40\t0\t79\t133\t469\t523\t1.3\t31.2\n",
            "NP_003528.1\tNP_079358.3\t27.273\t55\t40\t0\t79\t133\t469\t523\t1.3\t31.2\n",
            "NP_003528.1\tXP_024306224.1\t27.273\t55\t40\t0\t79\t133\t366\t420\t1.3\t31.2\n",
            "NP_003528.1\tXP_024306223.1\t27.273\t55\t40\t0\t79\t133\t366\t420\t1.3\t31.2\n",
            "NP_003528.1\tXP_016879206.1\t27.273\t55\t40\t0\t79\t133\t222\t276\t1.4\t30.8\n",
            "NP_003528.1\tXP_047285892.1\t37.500\t32\t20\t0\t50\t81\t799\t830\t4.0\t29.6\n",
            "NP_003528.1\tXP_016875770.1\t37.500\t32\t20\t0\t50\t81\t799\t830\t4.0\t29.6\n",
            "NP_003528.1\tNP_057280.2\t37.500\t32\t20\t0\t50\t81\t823\t854\t4.2\t29.6\n",
            "NP_003528.1\tNP_001140171.1\t37.500\t32\t20\t0\t50\t81\t823\t854\t4.2\t29.6\n",
            "NP_003528.1\tNP_001140170.1\t37.500\t32\t20\t0\t50\t81\t823\t854\t4.2\t29.6\n"
          ]
        }
      ]
    },
    {
      "cell_type": "code",
      "source": [
        "\n",
        "!cat gene_H3C2_mouse.txt"
      ],
      "metadata": {
        "colab": {
          "base_uri": "https://localhost:8080/"
        },
        "id": "tBr0tGcSIb_O",
        "outputId": "db45ff60-564d-4714-c4d6-bece05594c67"
      },
      "execution_count": null,
      "outputs": [
        {
          "output_type": "stream",
          "name": "stdout",
          "text": [
            "NP_003528.1\tNP_835514.1\t100.000\t136\t0\t0\t1\t136\t1\t136\t1.54e-96\t275\n",
            "NP_003528.1\tNP_835513.1\t100.000\t136\t0\t0\t1\t136\t1\t136\t1.54e-96\t275\n",
            "NP_003528.1\tNP_659539.1\t100.000\t136\t0\t0\t1\t136\t1\t136\t1.54e-96\t275\n",
            "NP_003528.1\tNP_038578.2\t100.000\t136\t0\t0\t1\t136\t1\t136\t1.54e-96\t275\n",
            "NP_003528.1\tNP_835734.2\t99.265\t136\t1\t0\t1\t136\t1\t136\t3.04e-95\t272\n",
            "NP_003528.1\tNP_835587.1\t99.265\t136\t1\t0\t1\t136\t1\t136\t3.04e-95\t272\n",
            "NP_003528.1\tNP_835512.1\t99.265\t136\t1\t0\t1\t136\t1\t136\t3.04e-95\t272\n",
            "NP_003528.1\tNP_835511.1\t99.265\t136\t1\t0\t1\t136\t1\t136\t3.04e-95\t272\n",
            "NP_003528.1\tNP_835510.1\t99.265\t136\t1\t0\t1\t136\t1\t136\t3.04e-95\t272\n",
            "NP_003528.1\tNP_783584.1\t99.265\t136\t1\t0\t1\t136\t1\t136\t3.04e-95\t272\n",
            "NP_003528.1\tNP_473386.1\t99.265\t136\t1\t0\t1\t136\t1\t136\t3.04e-95\t272\n",
            "NP_003528.1\tNP_038576.1\t99.265\t136\t1\t0\t1\t136\t1\t136\t3.04e-95\t272\n",
            "NP_003528.1\tNP_001304932.1\t97.794\t136\t3\t0\t1\t136\t1\t136\t7.73e-95\t271\n",
            "NP_003528.1\tXP_006532311.1\t96.324\t136\t5\t0\t1\t136\t1\t136\t1.30e-92\t265\n",
            "NP_003528.1\tNP_032237.1\t96.324\t136\t5\t0\t1\t136\t1\t136\t1.30e-92\t265\n",
            "NP_003528.1\tNP_032236.1\t96.324\t136\t5\t0\t1\t136\t1\t136\t1.30e-92\t265\n",
            "NP_003528.1\tNP_001357860.1\t94.853\t136\t7\t0\t1\t136\t1\t136\t6.91e-91\t261\n",
            "NP_003528.1\tNP_001074488.1\t93.382\t136\t9\t0\t1\t136\t1\t136\t5.32e-90\t258\n",
            "NP_003528.1\tXP_017177364.1\t89.630\t135\t14\t0\t2\t136\t8\t142\t1.16e-83\t243\n",
            "NP_003528.1\tXP_030111550.1\t88.971\t136\t15\t0\t1\t136\t14\t149\t2.55e-82\t239\n",
            "NP_003528.1\tXP_030103341.1\t89.313\t131\t14\t0\t1\t131\t1\t131\t5.91e-80\t233\n",
            "NP_003528.1\tNP_031707.1\t47.244\t127\t58\t2\t16\t133\t2\t128\t1.67e-30\t108\n",
            "NP_003528.1\tXP_036020655.1\t54.737\t95\t41\t1\t41\t133\t8\t102\t6.03e-29\t103\n",
            "NP_003528.1\tNP_001289060.1\t54.737\t95\t41\t1\t41\t133\t8\t102\t6.03e-29\t103\n",
            "NP_003528.1\tNP_001289059.1\t54.737\t95\t41\t1\t41\t133\t8\t102\t6.03e-29\t103\n",
            "NP_003528.1\tNP_001289058.1\t54.737\t95\t41\t1\t41\t133\t8\t102\t6.03e-29\t103\n",
            "NP_003528.1\tXP_011239001.1\t43.165\t139\t58\t2\t16\t133\t2\t140\t2.21e-28\t103\n",
            "NP_003528.1\tNP_001289061.1\t36.111\t108\t56\t3\t16\t114\t2\t105\t7.05e-11\t57.4\n",
            "NP_003528.1\tNP_001013836.1\t48.387\t31\t13\t2\t39\t68\t366\t394\t6.6\t28.5\n",
            "NP_003528.1\tXP_011241196.1\t48.387\t31\t13\t2\t39\t68\t168\t196\t7.1\t28.1\n"
          ]
        }
      ]
    },
    {
      "cell_type": "code",
      "source": [
        "\n",
        "!cat gene_H3C2_yeast.txt"
      ],
      "metadata": {
        "colab": {
          "base_uri": "https://localhost:8080/"
        },
        "id": "NpHAMQzIITwx",
        "outputId": "474bfe7e-9b49-41a9-e45a-c4c219d52590"
      },
      "execution_count": null,
      "outputs": [
        {
          "output_type": "stream",
          "name": "stdout",
          "text": [
            "NP_003528.1\tNP_014367.1\t88.971\t136\t15\t0\t1\t136\t1\t136\t3.31e-87\t248\n",
            "NP_003528.1\tNP_009564.1\t88.971\t136\t15\t0\t1\t136\t1\t136\t3.31e-87\t248\n",
            "NP_003528.1\tNP_012875.2\t65.979\t97\t30\t1\t41\t134\t131\t227\t7.40e-42\t136\n",
            "NP_003528.1\tNP_012405.2\t26.966\t89\t42\t3\t50\t117\t921\t1007\t0.20\t29.3\n",
            "NP_003528.1\tNP_010868.1\t32.692\t52\t33\t1\t74\t123\t257\t308\t2.0\t26.2\n",
            "NP_003528.1\tNP_010354.3\t39.286\t28\t17\t0\t85\t112\t651\t678\t2.3\t26.2\n",
            "NP_003528.1\tNP_009713.1\t52.941\t17\t8\t0\t29\t45\t3\t19\t4.9\t25.0\n",
            "NP_003528.1\tNP_013132.1\t33.333\t36\t24\t0\t68\t103\t675\t710\t6.6\t24.6\n",
            "NP_003528.1\tNP_014262.3\t20.833\t72\t57\t0\t10\t81\t159\t230\t7.1\t24.6\n",
            "NP_003528.1\tNP_010883.3\t48.000\t25\t13\t0\t37\t61\t562\t586\t7.6\t24.6\n"
          ]
        }
      ]
    },
    {
      "cell_type": "code",
      "source": [
        "\n",
        "!cat gene_H3C2_zebrafish.txt"
      ],
      "metadata": {
        "colab": {
          "base_uri": "https://localhost:8080/"
        },
        "id": "zvPGndUsIcqN",
        "outputId": "cfc27a7b-7cc8-4d3f-c1de-528e561ac8c0"
      },
      "execution_count": null,
      "outputs": [
        {
          "output_type": "stream",
          "name": "stdout",
          "text": [
            "NP_003528.1\tXP_017209710.1\t99.265\t136\t1\t0\t1\t136\t1\t136\t1.77e-95\t272\n",
            "NP_003528.1\tXP_017209523.1\t99.265\t136\t1\t0\t1\t136\t1\t136\t1.77e-95\t272\n",
            "NP_003528.1\tXP_009296462.1\t99.265\t136\t1\t0\t1\t136\t1\t136\t1.77e-95\t272\n",
            "NP_003528.1\tXP_002666951.1\t99.265\t136\t1\t0\t1\t136\t1\t136\t1.77e-95\t272\n",
            "NP_003528.1\tNP_001093643.1\t99.265\t136\t1\t0\t1\t136\t1\t136\t1.77e-95\t272\n",
            "NP_003528.1\tXP_017212660.1\t98.529\t136\t2\t0\t1\t136\t1\t136\t3.82e-95\t271\n",
            "NP_003528.1\tXP_017212659.1\t98.529\t136\t2\t0\t1\t136\t1\t136\t3.82e-95\t271\n",
            "NP_003528.1\tXP_009301184.1\t98.529\t136\t2\t0\t1\t136\t1\t136\t3.82e-95\t271\n",
            "NP_003528.1\tXP_009296488.1\t98.529\t136\t2\t0\t1\t136\t1\t136\t3.82e-95\t271\n",
            "NP_003528.1\tXP_009301168.1\t98.529\t136\t2\t0\t1\t136\t1\t136\t1.72e-94\t269\n",
            "NP_003528.1\tXP_017212446.1\t99.265\t136\t1\t0\t1\t136\t107\t242\t1.77e-94\t273\n",
            "NP_003528.1\tNP_001020347.2\t98.529\t136\t2\t0\t1\t136\t1\t136\t1.96e-94\t269\n",
            "NP_003528.1\tNP_001020342.1\t98.529\t136\t2\t0\t1\t136\t1\t136\t2.55e-94\t269\n",
            "NP_003528.1\tXP_017209248.1\t96.324\t136\t5\t0\t1\t136\t1\t136\t7.58e-93\t265\n",
            "NP_003528.1\tXP_009290278.1\t96.324\t136\t5\t0\t1\t136\t1\t136\t7.58e-93\t265\n",
            "NP_003528.1\tXP_002664801.1\t96.324\t136\t5\t0\t1\t136\t1\t136\t7.58e-93\t265\n",
            "NP_003528.1\tNP_957395.1\t96.324\t136\t5\t0\t1\t136\t1\t136\t7.58e-93\t265\n",
            "NP_003528.1\tNP_956297.1\t96.324\t136\t5\t0\t1\t136\t1\t136\t7.58e-93\t265\n",
            "NP_003528.1\tNP_001017599.1\t96.324\t136\t5\t0\t1\t136\t1\t136\t7.58e-93\t265\n",
            "NP_003528.1\tNP_998161.1\t95.588\t136\t6\t0\t1\t136\t1\t136\t7.93e-92\t263\n",
            "NP_003528.1\tXP_009301181.2\t99.123\t114\t1\t0\t1\t114\t32\t145\t2.10e-77\t230\n",
            "NP_003528.1\tXP_017212441.1\t92.500\t120\t9\t0\t1\t120\t111\t230\t4.18e-74\t225\n",
            "NP_003528.1\tNP_001157712.1\t60.177\t113\t44\t1\t22\t133\t29\t141\t2.38e-43\t140\n",
            "NP_003528.1\tNP_001037860.2\t25.000\t52\t39\t0\t85\t136\t26\t77\t6.8\t27.7\n",
            "NP_003528.1\tNP_997856.1\t30.000\t70\t45\t3\t60\t127\t188\t255\t9.5\t27.3\n"
          ]
        }
      ]
    },
    {
      "cell_type": "code",
      "source": [
        "\n",
        "!cat gene_H3C2_methanocaldococcus.txt"
      ],
      "metadata": {
        "colab": {
          "base_uri": "https://localhost:8080/"
        },
        "id": "u31YSEADIdiH",
        "outputId": "8ad3dfb7-1832-4b0e-a22b-e166ede24acd"
      },
      "execution_count": null,
      "outputs": [
        {
          "output_type": "stream",
          "name": "stdout",
          "text": [
            "NP_003528.1\tWP_015790767.1\t30.645\t62\t38\t1\t67\t128\t8\t64\t0.034\t27.3\n",
            "NP_003528.1\tWP_015791414.1\t30.645\t62\t38\t1\t67\t128\t8\t64\t0.043\t26.9\n",
            "NP_003528.1\tWP_015791078.1\t50.000\t22\t11\t0\t47\t68\t105\t126\t0.59\t25.0\n",
            "NP_003528.1\tWP_015791149.1\t50.000\t16\t8\t0\t111\t126\t48\t63\t1.0\t24.6\n",
            "NP_003528.1\tWP_015791783.1\t34.884\t43\t18\t2\t63\t105\t322\t354\t4.4\t22.7\n",
            "NP_003528.1\tWP_015791973.1\t25.000\t36\t27\t0\t75\t110\t279\t314\t6.1\t22.3\n",
            "NP_003528.1\tWP_015791106.1\t27.692\t65\t43\t1\t69\t133\t354\t414\t6.5\t22.3\n",
            "NP_003528.1\tWP_015792050.1\t61.538\t13\t5\t0\t55\t67\t219\t231\t6.7\t21.9\n",
            "NP_003528.1\tWP_015791743.1\t27.660\t47\t31\t1\t55\t98\t143\t189\t9.9\t21.6\n"
          ]
        }
      ]
    },
    {
      "cell_type": "code",
      "source": [
        "\n",
        "!cat gene_H3C2_tuberculosis.txt"
      ],
      "metadata": {
        "colab": {
          "base_uri": "https://localhost:8080/"
        },
        "id": "s-arTjhiIP_n",
        "outputId": "08b3b6b5-1482-48b6-f9b3-017c5d7aad75"
      },
      "execution_count": null,
      "outputs": [
        {
          "output_type": "stream",
          "name": "stdout",
          "text": [
            "NP_003528.1\tNP_214529.1\t57.895\t19\t8\t0\t23\t41\t313\t331\t4.6\t23.9\n"
          ]
        }
      ]
    },
    {
      "cell_type": "code",
      "source": [
        "\n",
        "!cat gene_H3C2_thermococcus.txt"
      ],
      "metadata": {
        "colab": {
          "base_uri": "https://localhost:8080/"
        },
        "id": "_1wqYjhuIea3",
        "outputId": "b22545dc-e287-459c-c8cd-82fb670f260e"
      },
      "execution_count": null,
      "outputs": [
        {
          "output_type": "stream",
          "name": "stdout",
          "text": [
            "NP_003528.1\tWP_011250364.1\t32.258\t62\t37\t1\t67\t128\t8\t64\t0.057\t27.3\n",
            "NP_003528.1\tWP_011249235.1\t26.562\t64\t39\t3\t68\t123\t173\t236\t0.25\t26.9\n",
            "NP_003528.1\tWP_011250447.1\t22.500\t40\t31\t0\t24\t63\t77\t116\t5.3\t22.7\n",
            "NP_003528.1\tWP_011249740.1\t40.541\t37\t11\t2\t100\t134\t165\t192\t6.4\t22.7\n"
          ]
        }
      ]
    },
    {
      "cell_type": "markdown",
      "source": [
        "# H4\n"
      ],
      "metadata": {
        "id": "3nFCj563GPTf"
      }
    },
    {
      "cell_type": "code",
      "source": [
        "!cat gene_H4C4_c.elegans.txt"
      ],
      "metadata": {
        "colab": {
          "base_uri": "https://localhost:8080/"
        },
        "id": "7swsrhzWF7wK",
        "outputId": "3a789b67-3b1b-431f-94e1-af789aaec365"
      },
      "execution_count": null,
      "outputs": [
        {
          "output_type": "stream",
          "name": "stdout",
          "text": [
            "NP_003530.1\tNP_509231.1\t99.029\t103\t1\t0\t1\t103\t1\t103\t6.15e-68\t198\n",
            "NP_003530.1\tNP_507034.1\t99.029\t103\t1\t0\t1\t103\t1\t103\t6.15e-68\t198\n",
            "NP_003530.1\tNP_505466.1\t99.029\t103\t1\t0\t1\t103\t1\t103\t6.15e-68\t198\n",
            "NP_003530.1\tNP_505298.1\t99.029\t103\t1\t0\t1\t103\t1\t103\t6.15e-68\t198\n",
            "NP_003530.1\tNP_505291.1\t99.029\t103\t1\t0\t1\t103\t1\t103\t6.15e-68\t198\n",
            "NP_003530.1\tNP_505275.1\t99.029\t103\t1\t0\t1\t103\t1\t103\t6.15e-68\t198\n",
            "NP_003530.1\tNP_505200.1\t99.029\t103\t1\t0\t1\t103\t1\t103\t6.15e-68\t198\n",
            "NP_003530.1\tNP_502154.1\t99.029\t103\t1\t0\t1\t103\t1\t103\t6.15e-68\t198\n",
            "NP_003530.1\tNP_502139.1\t99.029\t103\t1\t0\t1\t103\t1\t103\t6.15e-68\t198\n",
            "NP_003530.1\tNP_502133.1\t99.029\t103\t1\t0\t1\t103\t1\t103\t6.15e-68\t198\n",
            "NP_003530.1\tNP_501406.1\t99.029\t103\t1\t0\t1\t103\t1\t103\t6.15e-68\t198\n",
            "NP_003530.1\tNP_501203.2\t99.029\t103\t1\t0\t1\t103\t1\t103\t6.15e-68\t198\n",
            "NP_003530.1\tNP_496896.1\t99.029\t103\t1\t0\t1\t103\t1\t103\t6.15e-68\t198\n",
            "NP_003530.1\tNP_496893.1\t99.029\t103\t1\t0\t1\t103\t1\t103\t6.15e-68\t198\n",
            "NP_003530.1\tNP_496889.1\t99.029\t103\t1\t0\t1\t103\t1\t103\t6.15e-68\t198\n",
            "NP_003530.1\tNP_492641.1\t99.029\t103\t1\t0\t1\t103\t1\t103\t6.15e-68\t198\n"
          ]
        }
      ]
    },
    {
      "cell_type": "code",
      "source": [
        "\n",
        "!cat gene_H4C4_ciliate.txt"
      ],
      "metadata": {
        "colab": {
          "base_uri": "https://localhost:8080/"
        },
        "id": "fBc_z3-aJco9",
        "outputId": "f70b53af-5e1a-451d-f1ea-2c2a54e96f12"
      },
      "execution_count": null,
      "outputs": [
        {
          "output_type": "stream",
          "name": "stdout",
          "text": [
            "NP_003530.1\tXP_001028007.1\t81.609\t87\t15\t1\t18\t103\t17\t103\t1.96e-45\t142\n",
            "NP_003530.1\tXP_001016593.1\t81.609\t87\t15\t1\t18\t103\t17\t103\t1.96e-45\t142\n",
            "NP_003530.1\tXP_001022175.1\t28.571\t70\t44\t1\t23\t92\t4\t67\t0.012\t33.9\n",
            "NP_003530.1\tXP_001032285.3\t31.250\t48\t33\t0\t44\t91\t139\t186\t0.75\t28.9\n",
            "NP_003530.1\tXP_001023030.2\t32.727\t55\t31\t2\t37\t91\t617\t665\t1.9\t27.7\n",
            "NP_003530.1\tXP_012653617.1\t24.051\t79\t42\t1\t22\t100\t73\t133\t2.1\t27.3\n",
            "NP_003530.1\tXP_001018283.1\t43.478\t23\t13\t0\t59\t81\t698\t720\t4.0\t26.6\n",
            "NP_003530.1\tXP_001027882.2\t26.829\t41\t29\t1\t50\t90\t1214\t1253\t5.7\t26.2\n",
            "NP_003530.1\tXP_001018841.1\t38.636\t44\t20\t2\t38\t75\t184\t226\t9.9\t25.8\n"
          ]
        }
      ]
    },
    {
      "cell_type": "code",
      "source": [
        "\n",
        "!cat gene_H4C4_drosophila.txt"
      ],
      "metadata": {
        "colab": {
          "base_uri": "https://localhost:8080/"
        },
        "id": "1ebqHQQmJfRr",
        "outputId": "8fe44638-7e36-4654-fc17-48498999d274"
      },
      "execution_count": null,
      "outputs": [
        {
          "output_type": "stream",
          "name": "stdout",
          "text": [
            "NP_003530.1\tNP_731928.1\t99.029\t103\t1\t0\t1\t103\t1\t103\t8.02e-68\t199\n",
            "NP_003530.1\tNP_731927.1\t99.029\t103\t1\t0\t1\t103\t1\t103\t8.02e-68\t199\n",
            "NP_003530.1\tNP_724344.1\t99.029\t103\t1\t0\t1\t103\t1\t103\t8.02e-68\t199\n",
            "NP_003530.1\tNP_524352.1\t99.029\t103\t1\t0\t1\t103\t1\t103\t8.02e-68\t199\n",
            "NP_003530.1\tNP_001262576.1\t99.029\t103\t1\t0\t1\t103\t1\t103\t8.02e-68\t199\n",
            "NP_003530.1\tNP_001027377.1\t99.029\t103\t1\t0\t1\t103\t1\t103\t8.02e-68\t199\n",
            "NP_003530.1\tNP_001027372.1\t99.029\t103\t1\t0\t1\t103\t1\t103\t8.02e-68\t199\n",
            "NP_003530.1\tNP_001027367.1\t99.029\t103\t1\t0\t1\t103\t1\t103\t8.02e-68\t199\n",
            "NP_003530.1\tNP_001027347.1\t99.029\t103\t1\t0\t1\t103\t1\t103\t8.02e-68\t199\n",
            "NP_003530.1\tNP_001027342.1\t99.029\t103\t1\t0\t1\t103\t1\t103\t8.02e-68\t199\n",
            "NP_003530.1\tNP_001027337.1\t99.029\t103\t1\t0\t1\t103\t1\t103\t8.02e-68\t199\n",
            "NP_003530.1\tNP_001027332.1\t99.029\t103\t1\t0\t1\t103\t1\t103\t8.02e-68\t199\n",
            "NP_003530.1\tNP_001027327.1\t99.029\t103\t1\t0\t1\t103\t1\t103\t8.02e-68\t199\n",
            "NP_003530.1\tNP_001027322.1\t99.029\t103\t1\t0\t1\t103\t1\t103\t8.02e-68\t199\n",
            "NP_003530.1\tNP_001027317.1\t99.029\t103\t1\t0\t1\t103\t1\t103\t8.02e-68\t199\n",
            "NP_003530.1\tNP_001027312.1\t99.029\t103\t1\t0\t1\t103\t1\t103\t8.02e-68\t199\n",
            "NP_003530.1\tNP_001027307.1\t99.029\t103\t1\t0\t1\t103\t1\t103\t8.02e-68\t199\n",
            "NP_003530.1\tNP_001027302.1\t99.029\t103\t1\t0\t1\t103\t1\t103\t8.02e-68\t199\n",
            "NP_003530.1\tNP_001027297.1\t99.029\t103\t1\t0\t1\t103\t1\t103\t8.02e-68\t199\n",
            "NP_003530.1\tNP_001027293.1\t99.029\t103\t1\t0\t1\t103\t1\t103\t8.02e-68\t199\n",
            "NP_003530.1\tNP_001027288.1\t99.029\t103\t1\t0\t1\t103\t1\t103\t8.02e-68\t199\n",
            "NP_003530.1\tNP_001027284.1\t99.029\t103\t1\t0\t1\t103\t1\t103\t8.02e-68\t199\n",
            "NP_003530.1\tNP_001027382.1\t98.058\t103\t2\t0\t1\t103\t1\t103\t2.84e-67\t197\n",
            "NP_003530.1\tNP_001027362.1\t98.058\t103\t2\t0\t1\t103\t1\t103\t2.84e-67\t197\n",
            "NP_003530.1\tNP_001027357.1\t98.058\t103\t2\t0\t1\t103\t1\t103\t2.84e-67\t197\n",
            "NP_003530.1\tNP_001027352.1\t98.058\t103\t2\t0\t1\t103\t1\t103\t2.84e-67\t197\n",
            "NP_003530.1\tNP_001262056.1\t27.397\t73\t52\t1\t30\t101\t21\t93\t0.007\t35.0\n",
            "NP_003530.1\tNP_524161.2\t27.397\t73\t52\t1\t30\t101\t21\t93\t0.007\t35.0\n",
            "NP_003530.1\tNP_731617.2\t21.250\t80\t61\t2\t25\t102\t51\t130\t1.4\t28.1\n",
            "NP_003530.1\tNP_001262479.1\t21.250\t80\t61\t2\t25\t102\t51\t130\t1.4\t28.1\n",
            "NP_003530.1\tNP_731616.1\t21.782\t101\t73\t3\t8\t102\t66\t166\t1.7\t27.7\n",
            "NP_003530.1\tNP_524320.1\t21.782\t101\t73\t3\t8\t102\t66\t166\t1.7\t27.7\n",
            "NP_003530.1\tNP_611669.1\t28.889\t45\t32\t0\t59\t103\t108\t152\t2.0\t27.3\n",
            "NP_003530.1\tNP_001163253.1\t28.889\t45\t32\t0\t59\t103\t108\t152\t2.0\t27.3\n",
            "NP_003530.1\tNP_611215.1\t30.000\t50\t28\t1\t20\t69\t280\t322\t2.7\t27.3\n",
            "NP_003530.1\tNP_610549.1\t27.143\t70\t49\t2\t20\t88\t73\t141\t3.6\t26.9\n",
            "NP_003530.1\tNP_609414.3\t38.710\t31\t19\t0\t36\t66\t48\t78\t5.2\t26.6\n",
            "NP_003530.1\tNP_001033895.1\t38.710\t31\t19\t0\t36\t66\t48\t78\t5.2\t26.6\n"
          ]
        }
      ]
    },
    {
      "cell_type": "code",
      "source": [
        "\n",
        "!cat gene_H4C4_e.coli.txt"
      ],
      "metadata": {
        "colab": {
          "base_uri": "https://localhost:8080/"
        },
        "id": "E1nXmN1QJgyR",
        "outputId": "a8b5f7ef-903a-41f8-a7c4-72f107a34e87"
      },
      "execution_count": null,
      "outputs": [
        {
          "output_type": "stream",
          "name": "stdout",
          "text": [
            "NP_003530.1\tNP_416395.1\t43.478\t23\t13\t0\t44\t66\t149\t171\t1.3\t24.6\n",
            "NP_003530.1\tNP_418347.1\t30.000\t40\t21\t1\t59\t98\t350\t382\t4.2\t23.5\n",
            "NP_003530.1\tNP_416923.1\t42.308\t26\t15\t0\t78\t103\t125\t150\t4.6\t23.1\n",
            "NP_003530.1\tNP_416492.1\t26.471\t68\t31\t2\t13\t61\t30\t97\t7.5\t22.7\n",
            "NP_003530.1\tNP_414807.1\t28.571\t70\t41\t2\t23\t90\t100\t162\t8.5\t22.3\n",
            "NP_003530.1\tNP_416110.4\t35.484\t31\t20\t0\t71\t101\t7\t37\t9.9\t22.3\n"
          ]
        }
      ]
    },
    {
      "cell_type": "code",
      "source": [
        "\n",
        "!cat gene_H4C4_human.txt"
      ],
      "metadata": {
        "colab": {
          "base_uri": "https://localhost:8080/"
        },
        "id": "oI6YuKGBJiwA",
        "outputId": "a9277117-a962-4cd4-ad72-0c602fd06758"
      },
      "execution_count": null,
      "outputs": [
        {
          "output_type": "stream",
          "name": "stdout",
          "text": [
            "NP_003530.1\tXP_047280398.1\t100.000\t103\t0\t0\t1\t103\t1\t103\t1.09e-67\t200\n",
            "NP_003530.1\tXP_047280395.1\t100.000\t103\t0\t0\t1\t103\t1\t103\t1.09e-67\t200\n",
            "NP_003530.1\tXP_047280392.1\t100.000\t103\t0\t0\t1\t103\t1\t103\t1.09e-67\t200\n",
            "NP_003530.1\tXP_047280390.1\t100.000\t103\t0\t0\t1\t103\t1\t103\t1.09e-67\t200\n",
            "NP_003530.1\tXP_024307476.2\t100.000\t103\t0\t0\t1\t103\t1\t103\t1.09e-67\t200\n",
            "NP_003530.1\tNP_778224.1\t100.000\t103\t0\t0\t1\t103\t1\t103\t1.09e-67\t200\n",
            "NP_003530.1\tNP_068803.1\t100.000\t103\t0\t0\t1\t103\t1\t103\t1.09e-67\t200\n",
            "NP_003530.1\tNP_003539.1\t100.000\t103\t0\t0\t1\t103\t1\t103\t1.09e-67\t200\n",
            "NP_003530.1\tNP_003537.1\t100.000\t103\t0\t0\t1\t103\t1\t103\t1.09e-67\t200\n",
            "NP_003530.1\tNP_003536.1\t100.000\t103\t0\t0\t1\t103\t1\t103\t1.09e-67\t200\n",
            "NP_003530.1\tNP_003535.1\t100.000\t103\t0\t0\t1\t103\t1\t103\t1.09e-67\t200\n",
            "NP_003530.1\tNP_003534.1\t100.000\t103\t0\t0\t1\t103\t1\t103\t1.09e-67\t200\n",
            "NP_003530.1\tNP_003533.1\t100.000\t103\t0\t0\t1\t103\t1\t103\t1.09e-67\t200\n",
            "NP_003530.1\tNP_003532.1\t100.000\t103\t0\t0\t1\t103\t1\t103\t1.09e-67\t200\n",
            "NP_003530.1\tNP_003531.1\t100.000\t103\t0\t0\t1\t103\t1\t103\t1.09e-67\t200\n",
            "NP_003530.1\tNP_003530.1\t100.000\t103\t0\t0\t1\t103\t1\t103\t1.09e-67\t200\n",
            "NP_003530.1\tNP_003529.1\t100.000\t103\t0\t0\t1\t103\t1\t103\t1.09e-67\t200\n",
            "NP_003530.1\tNP_003486.1\t100.000\t103\t0\t0\t1\t103\t1\t103\t1.09e-67\t200\n",
            "NP_003530.1\tNP_001029249.1\t100.000\t103\t0\t0\t1\t103\t1\t103\t1.09e-67\t200\n",
            "NP_003530.1\tNP_003538.1\t84.694\t98\t15\t0\t1\t98\t1\t98\t1.04e-39\t129\n",
            "NP_003530.1\tXP_016857675.2\t27.160\t81\t57\t2\t25\t103\t91\t171\t0.77\t30.8\n",
            "NP_003530.1\tXP_024305136.1\t27.160\t81\t57\t2\t25\t103\t53\t133\t0.81\t30.4\n",
            "NP_003530.1\tNP_005635.1\t27.160\t81\t57\t2\t25\t103\t53\t133\t0.81\t30.4\n",
            "NP_003530.1\tNP_001128690.1\t27.160\t81\t57\t2\t25\t103\t53\t133\t0.81\t30.4\n",
            "NP_003530.1\tNP_001397698.1\t27.160\t81\t57\t2\t25\t103\t105\t185\t0.83\t30.8\n",
            "NP_003530.1\tXP_047276735.1\t35.000\t40\t25\t1\t63\t101\t47\t86\t0.91\t30.8\n",
            "NP_003530.1\tXP_024302668.1\t35.000\t40\t25\t1\t63\t101\t47\t86\t0.91\t30.8\n",
            "NP_003530.1\tXP_024302664.1\t35.000\t40\t25\t1\t63\t101\t47\t86\t0.91\t30.8\n",
            "NP_003530.1\tNP_647476.1\t35.000\t40\t25\t1\t63\t101\t47\t86\t0.91\t30.8\n",
            "NP_003530.1\tNP_005632.1\t35.000\t40\t25\t1\t63\t101\t47\t86\t0.91\t30.8\n",
            "NP_003530.1\tNP_001351928.1\t35.000\t40\t25\t1\t63\t101\t47\t86\t0.91\t30.8\n",
            "NP_003530.1\tNP_001351927.1\t35.000\t40\t25\t1\t63\t101\t47\t86\t0.91\t30.8\n",
            "NP_003530.1\tNP_001177344.1\t35.000\t40\t25\t1\t63\t101\t84\t123\t0.92\t30.8\n",
            "NP_003530.1\tNP_001351933.1\t35.000\t40\t25\t1\t63\t101\t93\t132\t0.92\t30.8\n",
            "NP_003530.1\tXP_024302667.1\t35.000\t40\t25\t1\t63\t101\t96\t135\t0.92\t30.8\n",
            "NP_003530.1\tXP_047276737.1\t41.176\t34\t19\t1\t69\t101\t43\t76\t3.8\t28.9\n",
            "NP_003530.1\tXP_047276736.1\t41.176\t34\t19\t1\t69\t101\t43\t76\t3.8\t28.9\n",
            "NP_003530.1\tXP_011514845.1\t41.176\t34\t19\t1\t69\t101\t43\t76\t3.8\t28.9\n",
            "NP_003530.1\tNP_001351932.1\t41.176\t34\t19\t1\t69\t101\t43\t76\t3.8\t28.9\n",
            "NP_003530.1\tNP_001351931.1\t41.176\t34\t19\t1\t69\t101\t43\t76\t3.8\t28.9\n",
            "NP_003530.1\tNP_001351930.1\t41.176\t34\t19\t1\t69\t101\t43\t76\t3.8\t28.9\n",
            "NP_003530.1\tNP_001351929.1\t41.176\t34\t19\t1\t69\t101\t43\t76\t3.8\t28.9\n",
            "NP_003530.1\tXP_047288633.1\t24.324\t74\t52\t1\t25\t98\t1034\t1103\t6.3\t28.5\n",
            "NP_003530.1\tXP_047288632.1\t24.324\t74\t52\t1\t25\t98\t1038\t1107\t6.3\t28.5\n",
            "NP_003530.1\tXP_047288628.1\t24.324\t74\t52\t1\t25\t98\t1048\t1117\t6.3\t28.5\n",
            "NP_003530.1\tXP_047288627.1\t24.324\t74\t52\t1\t25\t98\t1051\t1120\t6.3\t28.5\n",
            "NP_003530.1\tXP_047288626.1\t24.324\t74\t52\t1\t25\t98\t1052\t1121\t6.3\t28.5\n",
            "NP_003530.1\tXP_047288625.1\t24.324\t74\t52\t1\t25\t98\t1053\t1122\t6.3\t28.5\n",
            "NP_003530.1\tXP_047288624.1\t24.324\t74\t52\t1\t25\t98\t1062\t1131\t6.3\t28.5\n",
            "NP_003530.1\tXP_047288623.1\t24.324\t74\t52\t1\t25\t98\t1065\t1134\t6.3\t28.5\n",
            "NP_003530.1\tXP_016877803.1\t24.324\t74\t52\t1\t25\t98\t1066\t1135\t6.3\t28.5\n",
            "NP_003530.1\tXP_024306224.1\t30.233\t43\t30\t0\t53\t95\t378\t420\t7.9\t28.1\n",
            "NP_003530.1\tXP_024306223.1\t30.233\t43\t30\t0\t53\t95\t378\t420\t7.9\t28.1\n",
            "NP_003530.1\tXP_016879206.1\t30.233\t43\t30\t0\t53\t95\t234\t276\t9.5\t27.7\n"
          ]
        }
      ]
    },
    {
      "cell_type": "code",
      "source": [
        "\n",
        "!cat gene_H4C4_mouse.txt"
      ],
      "metadata": {
        "colab": {
          "base_uri": "https://localhost:8080/"
        },
        "id": "RsmIXO5GJhdR",
        "outputId": "a5604703-96c4-4bd4-d287-5352373abe02"
      },
      "execution_count": null,
      "outputs": [
        {
          "output_type": "stream",
          "name": "stdout",
          "text": [
            "NP_003530.1\tNP_835583.1\t100.000\t103\t0\t0\t1\t103\t1\t103\t7.60e-68\t200\n",
            "NP_003530.1\tNP_835582.1\t100.000\t103\t0\t0\t1\t103\t1\t103\t7.60e-68\t200\n",
            "NP_003530.1\tNP_835515.1\t100.000\t103\t0\t0\t1\t103\t1\t103\t7.60e-68\t200\n",
            "NP_003530.1\tNP_835500.1\t100.000\t103\t0\t0\t1\t103\t1\t103\t7.60e-68\t200\n",
            "NP_003530.1\tNP_835499.1\t100.000\t103\t0\t0\t1\t103\t1\t103\t7.60e-68\t200\n",
            "NP_003530.1\tNP_783588.1\t100.000\t103\t0\t0\t1\t103\t1\t103\t7.60e-68\t200\n",
            "NP_003530.1\tNP_783587.1\t100.000\t103\t0\t0\t1\t103\t1\t103\t7.60e-68\t200\n",
            "NP_003530.1\tNP_783586.1\t100.000\t103\t0\t0\t1\t103\t1\t103\t7.60e-68\t200\n",
            "NP_003530.1\tNP_783585.1\t100.000\t103\t0\t0\t1\t103\t1\t103\t7.60e-68\t200\n",
            "NP_003530.1\tNP_783583.1\t100.000\t103\t0\t0\t1\t103\t1\t103\t7.60e-68\t200\n",
            "NP_003530.1\tNP_694813.1\t100.000\t103\t0\t0\t1\t103\t1\t103\t7.60e-68\t200\n",
            "NP_003530.1\tNP_291074.1\t100.000\t103\t0\t0\t1\t103\t1\t103\t7.60e-68\t200\n",
            "NP_003530.1\tNP_001182350.1\t100.000\t103\t0\t0\t1\t103\t1\t103\t7.60e-68\t200\n",
            "NP_003530.1\tXP_017175839.2\t27.160\t81\t57\t2\t25\t103\t87\t167\t0.49\t30.8\n",
            "NP_003530.1\tXP_006539173.1\t27.160\t81\t57\t2\t25\t103\t53\t133\t0.56\t30.4\n",
            "NP_003530.1\tXP_006539172.1\t27.160\t81\t57\t2\t25\t103\t53\t133\t0.56\t30.4\n",
            "NP_003530.1\tNP_079855.2\t27.160\t81\t57\t2\t25\t103\t53\t133\t0.56\t30.4\n",
            "NP_003530.1\tXP_036020207.1\t27.160\t81\t57\t2\t25\t103\t105\t185\t0.59\t30.4\n",
            "NP_003530.1\tXP_030110214.1\t35.000\t40\t25\t1\t63\t101\t47\t86\t0.64\t30.8\n",
            "NP_003530.1\tXP_030110213.1\t35.000\t40\t25\t1\t63\t101\t47\t86\t0.64\t30.8\n",
            "NP_003530.1\tNP_033341.1\t35.000\t40\t25\t1\t63\t101\t47\t86\t0.64\t30.8\n",
            "NP_003530.1\tNP_001343531.1\t35.000\t40\t25\t1\t63\t101\t47\t86\t0.64\t30.8\n",
            "NP_003530.1\tNP_001343530.1\t35.000\t40\t25\t1\t63\t101\t47\t86\t0.64\t30.8\n",
            "NP_003530.1\tNP_001343529.1\t35.000\t40\t25\t1\t63\t101\t47\t86\t0.64\t30.8\n",
            "NP_003530.1\tXP_036020877.1\t35.000\t40\t25\t1\t63\t101\t47\t86\t0.98\t30.0\n",
            "NP_003530.1\tXP_011239242.1\t35.000\t40\t25\t1\t63\t101\t47\t86\t0.98\t30.0\n",
            "NP_003530.1\tXP_011239241.1\t35.000\t40\t25\t1\t63\t101\t47\t86\t0.98\t30.0\n",
            "NP_003530.1\tXP_011239240.1\t35.000\t40\t25\t1\t63\t101\t47\t86\t0.98\t30.0\n",
            "NP_003530.1\tXP_011239239.1\t35.000\t40\t25\t1\t63\t101\t47\t86\t0.98\t30.0\n",
            "NP_003530.1\tXP_011239238.1\t35.000\t40\t25\t1\t63\t101\t47\t86\t0.98\t30.0\n",
            "NP_003530.1\tXP_030099479.1\t28.947\t38\t27\t0\t58\t95\t189\t226\t4.2\t28.1\n",
            "NP_003530.1\tNP_081539.1\t38.889\t36\t22\t0\t63\t98\t57\t92\t4.4\t27.7\n",
            "NP_003530.1\tXP_036009995.1\t29.730\t37\t26\t0\t59\t95\t337\t373\t6.3\t27.7\n",
            "NP_003530.1\tXP_030099478.1\t29.730\t37\t26\t0\t59\t95\t337\t373\t6.3\t27.7\n",
            "NP_003530.1\tXP_030099477.1\t29.730\t37\t26\t0\t59\t95\t337\t373\t6.3\t27.7\n",
            "NP_003530.1\tXP_036009993.1\t29.730\t37\t26\t0\t59\t95\t356\t392\t6.4\t27.7\n",
            "NP_003530.1\tXP_006531171.1\t29.730\t37\t26\t0\t59\t95\t356\t392\t6.4\t27.7\n",
            "NP_003530.1\tXP_006531170.1\t29.730\t37\t26\t0\t59\t95\t356\t392\t6.4\t27.7\n",
            "NP_003530.1\tXP_017168349.1\t29.730\t37\t26\t0\t59\t95\t435\t471\t6.5\t27.7\n",
            "NP_003530.1\tXP_006531167.1\t29.730\t37\t26\t0\t59\t95\t460\t496\t7.8\t27.7\n",
            "NP_003530.1\tXP_011246709.1\t29.730\t37\t26\t0\t59\t95\t441\t477\t8.5\t27.3\n",
            "NP_003530.1\tNP_796124.1\t29.730\t37\t26\t0\t59\t95\t441\t477\t8.5\t27.3\n",
            "NP_003530.1\tNP_001397116.1\t23.000\t100\t67\t2\t2\t95\t4\t99\t8.7\t27.3\n"
          ]
        }
      ]
    },
    {
      "cell_type": "code",
      "source": [
        "\n",
        "!cat gene_H4C4_yeast.txt"
      ],
      "metadata": {
        "colab": {
          "base_uri": "https://localhost:8080/"
        },
        "id": "Xdh6rwjEJkN1",
        "outputId": "68e005b0-3891-45c0-b0e1-776f4a00fa42"
      },
      "execution_count": null,
      "outputs": [
        {
          "output_type": "stream",
          "name": "stdout",
          "text": [
            "NP_003530.1\tNP_014368.1\t92.233\t103\t8\t0\t1\t103\t1\t103\t1.08e-52\t158\n",
            "NP_003530.1\tNP_009563.1\t92.233\t103\t8\t0\t1\t103\t1\t103\t1.08e-52\t158\n",
            "NP_003530.1\tNP_011734.3\t30.508\t59\t35\t2\t43\t98\t511\t566\t2.6\t25.0\n",
            "NP_003530.1\tNP_011614.1\t25.000\t68\t51\t0\t26\t93\t228\t295\t3.8\t24.6\n",
            "NP_003530.1\tNP_011609.2\t30.952\t42\t29\t0\t12\t53\t55\t96\t4.5\t24.3\n",
            "NP_003530.1\tNP_011987.1\t31.915\t47\t31\t1\t10\t55\t607\t653\t7.8\t23.9\n",
            "NP_003530.1\tNP_012100.1\t27.500\t40\t24\t1\t52\t91\t284\t318\t9.9\t23.5\n"
          ]
        }
      ]
    },
    {
      "cell_type": "code",
      "source": [
        "\n",
        "!cat gene_H4C4_zebrafish.txt"
      ],
      "metadata": {
        "colab": {
          "base_uri": "https://localhost:8080/"
        },
        "id": "uoPxldJCJjlY",
        "outputId": "1be8c115-4728-4d2b-9b4a-0eb5670fb415"
      },
      "execution_count": null,
      "outputs": [
        {
          "output_type": "stream",
          "name": "stdout",
          "text": [
            "NP_003530.1\tXP_021326436.1\t100.000\t103\t0\t0\t1\t103\t15\t117\t1.13e-68\t202\n",
            "NP_003530.1\tXP_688877.2\t100.000\t103\t0\t0\t1\t103\t1\t103\t4.43e-68\t200\n",
            "NP_003530.1\tXP_021333749.1\t100.000\t103\t0\t0\t1\t103\t1\t103\t4.43e-68\t200\n",
            "NP_003530.1\tXP_021326437.1\t100.000\t103\t0\t0\t1\t103\t1\t103\t4.43e-68\t200\n",
            "NP_003530.1\tXP_017209670.1\t100.000\t103\t0\t0\t1\t103\t1\t103\t4.43e-68\t200\n",
            "NP_003530.1\tXP_017209642.1\t100.000\t103\t0\t0\t1\t103\t1\t103\t4.43e-68\t200\n",
            "NP_003530.1\tXP_017209641.1\t100.000\t103\t0\t0\t1\t103\t1\t103\t4.43e-68\t200\n",
            "NP_003530.1\tXP_009301164.1\t100.000\t103\t0\t0\t1\t103\t1\t103\t4.43e-68\t200\n",
            "NP_003530.1\tXP_009296456.1\t100.000\t103\t0\t0\t1\t103\t1\t103\t4.43e-68\t200\n",
            "NP_003530.1\tXP_005172454.1\t100.000\t103\t0\t0\t1\t103\t1\t103\t4.43e-68\t200\n",
            "NP_003530.1\tXP_005172452.1\t100.000\t103\t0\t0\t1\t103\t1\t103\t4.43e-68\t200\n",
            "NP_003530.1\tXP_005170788.1\t100.000\t103\t0\t0\t1\t103\t1\t103\t4.43e-68\t200\n",
            "NP_003530.1\tXP_005163249.1\t100.000\t103\t0\t0\t1\t103\t1\t103\t4.43e-68\t200\n",
            "NP_003530.1\tXP_002666964.1\t100.000\t103\t0\t0\t1\t103\t1\t103\t4.43e-68\t200\n",
            "NP_003530.1\tXP_002662243.1\t100.000\t103\t0\t0\t1\t103\t1\t103\t4.43e-68\t200\n",
            "NP_003530.1\tXP_001332711.1\t100.000\t103\t0\t0\t1\t103\t1\t103\t4.43e-68\t200\n",
            "NP_003530.1\tNP_001092231.1\t100.000\t103\t0\t0\t1\t103\t1\t103\t4.43e-68\t200\n",
            "NP_003530.1\tXP_009301181.2\t100.000\t103\t0\t0\t1\t103\t148\t250\t6.11e-68\t205\n",
            "NP_003530.1\tNP_001070217.1\t99.029\t103\t1\t0\t1\t103\t1\t103\t1.27e-67\t199\n",
            "NP_003530.1\tNP_001070058.1\t99.029\t103\t1\t0\t1\t103\t1\t103\t4.44e-67\t197\n",
            "NP_003530.1\tXP_017212441.1\t100.000\t103\t0\t0\t1\t103\t238\t340\t6.14e-66\t202\n",
            "NP_003530.1\tXP_017212441.1\t100.000\t100\t0\t0\t1\t100\t1\t100\t2.50e-63\t196\n",
            "NP_003530.1\tXP_017212446.1\t100.000\t98\t0\t0\t1\t98\t1\t98\t8.58e-64\t194\n",
            "NP_003530.1\tXP_021333353.1\t85.870\t92\t13\t0\t12\t103\t3\t94\t1.45e-48\t150\n",
            "NP_003530.1\tXP_017208519.1\t32.000\t50\t34\t0\t46\t95\t812\t861\t0.002\t37.4\n",
            "NP_003530.1\tXP_005161062.1\t32.000\t50\t34\t0\t46\t95\t825\t874\t0.002\t37.4\n",
            "NP_003530.1\tXP_017208518.1\t32.000\t50\t34\t0\t46\t95\t830\t879\t0.002\t37.4\n",
            "NP_003530.1\tXP_021331769.1\t35.000\t40\t25\t1\t63\t101\t47\t86\t0.58\t30.0\n",
            "NP_003530.1\tNP_001004557.1\t35.000\t40\t25\t1\t63\t101\t47\t86\t0.58\t30.0\n",
            "NP_003530.1\tNP_001338727.1\t33.333\t33\t22\t0\t60\t92\t82\t114\t2.0\t28.1\n",
            "NP_003530.1\tXP_009290705.1\t34.884\t43\t27\t1\t62\t103\t92\t134\t3.1\t27.7\n",
            "NP_003530.1\tNP_938182.1\t34.884\t43\t27\t1\t62\t103\t92\t134\t3.1\t27.7\n",
            "NP_003530.1\tXP_017213760.1\t33.333\t33\t22\t0\t60\t92\t82\t114\t3.3\t27.7\n",
            "NP_003530.1\tXP_021323877.1\t37.931\t29\t18\t0\t14\t42\t682\t710\t4.0\t27.7\n",
            "NP_003530.1\tXP_021321973.1\t42.857\t35\t20\t0\t27\t61\t1823\t1857\t7.2\t26.9\n",
            "NP_003530.1\tXP_021321972.1\t42.857\t35\t20\t0\t27\t61\t1835\t1869\t7.2\t26.9\n",
            "NP_003530.1\tXP_001341048.5\t42.857\t35\t20\t0\t27\t61\t1851\t1885\t7.2\t26.9\n"
          ]
        }
      ]
    },
    {
      "cell_type": "code",
      "source": [
        "\n",
        "!cat gene_H4C4_methanocaldococcus.txt"
      ],
      "metadata": {
        "colab": {
          "base_uri": "https://localhost:8080/"
        },
        "id": "FasFSGgSJk4k",
        "outputId": "13f77ff1-be6c-4988-fc9d-1c3466e89525"
      },
      "execution_count": null,
      "outputs": [
        {
          "output_type": "stream",
          "name": "stdout",
          "text": [
            "NP_003530.1\tWP_015790767.1\t37.288\t59\t35\t2\t36\t93\t10\t67\t8.22e-05\t33.9\n",
            "NP_003530.1\tWP_015791414.1\t37.288\t59\t35\t2\t36\t93\t10\t67\t1.03e-04\t33.5\n",
            "NP_003530.1\tWP_012794897.1\t39.062\t64\t30\t3\t33\t92\t8\t66\t5.67e-04\t31.6\n",
            "NP_003530.1\tWP_048056359.1\t27.273\t66\t43\t2\t5\t70\t655\t715\t0.88\t24.3\n",
            "NP_003530.1\tWP_015791063.1\t42.857\t28\t16\t0\t58\t85\t154\t181\t2.4\t22.7\n",
            "NP_003530.1\tWP_015791135.1\t21.250\t80\t57\t2\t17\t91\t233\t311\t3.9\t22.3\n",
            "NP_003530.1\tWP_015791465.1\t25.000\t36\t27\t0\t13\t48\t189\t224\t4.1\t21.9\n",
            "NP_003530.1\tWP_015792102.1\t28.000\t50\t36\t0\t46\t95\t26\t75\t4.6\t21.6\n",
            "NP_003530.1\tWP_048056330.1\t27.500\t40\t29\t0\t63\t102\t330\t369\t5.1\t21.9\n",
            "NP_003530.1\tWP_015792016.1\t28.205\t39\t28\t0\t63\t101\t16\t54\t10.0\t20.8\n"
          ]
        }
      ]
    },
    {
      "cell_type": "code",
      "source": [
        "\n",
        "!cat gene_H4C4_tuberculosis.txt"
      ],
      "metadata": {
        "colab": {
          "base_uri": "https://localhost:8080/"
        },
        "id": "9YracFdkJmMI",
        "outputId": "0d205ce0-8102-444d-c8db-3ccac7ec1729"
      },
      "execution_count": null,
      "outputs": [
        {
          "output_type": "stream",
          "name": "stdout",
          "text": [
            "NP_003530.1\tNP_215876.1\t33.333\t48\t32\t0\t14\t61\t250\t297\t0.069\t28.5\n",
            "NP_003530.1\tNP_215277.1\t35.714\t42\t22\t1\t24\t60\t9\t50\t0.54\t25.0\n",
            "NP_003530.1\tYP_007410461.1\t41.667\t24\t14\t0\t33\t56\t1121\t1144\t2.6\t24.3\n",
            "NP_003530.1\tYP_177820.1\t37.500\t32\t20\t0\t43\t74\t533\t564\t2.8\t23.9\n",
            "NP_003530.1\tNP_215585.1\t45.455\t22\t12\t0\t25\t46\t297\t318\t3.0\t23.9\n",
            "NP_003530.1\tNP_218309.1\t34.615\t52\t31\t1\t36\t84\t92\t143\t3.0\t23.9\n",
            "NP_003530.1\tNP_215813.1\t55.556\t18\t8\t0\t33\t50\t43\t60\t6.5\t23.1\n",
            "NP_003530.1\tYP_178003.1\t32.353\t34\t23\t0\t24\t57\t206\t239\t6.6\t22.7\n",
            "NP_003530.1\tNP_216895.1\t35.135\t37\t21\t1\t7\t40\t608\t644\t7.8\t22.7\n",
            "NP_003530.1\tNP_216042.1\t72.727\t11\t3\t0\t33\t43\t190\t200\t9.5\t22.3\n"
          ]
        }
      ]
    },
    {
      "cell_type": "code",
      "source": [
        "\n",
        "!cat gene_H4C4_thermococcus.txt"
      ],
      "metadata": {
        "colab": {
          "base_uri": "https://localhost:8080/"
        },
        "id": "DBKtlO83JlmM",
        "outputId": "bcb1c0a1-4a48-4c02-ed4b-32ff63ed7f4e"
      },
      "execution_count": null,
      "outputs": [
        {
          "output_type": "stream",
          "name": "stdout",
          "text": [
            "NP_003530.1\tWP_011251239.1\t38.710\t62\t30\t2\t35\t92\t9\t66\t3.31e-05\t35.0\n",
            "NP_003530.1\tWP_011250364.1\t37.097\t62\t31\t2\t35\t92\t9\t66\t6.54e-05\t34.3\n",
            "NP_003530.1\tWP_011249959.1\t34.848\t66\t33\t2\t34\t99\t316\t371\t0.20\t26.2\n",
            "NP_003530.1\tWP_011251149.1\t39.286\t28\t17\t0\t23\t50\t205\t232\t3.1\t22.7\n",
            "NP_003530.1\tWP_011248999.1\t30.000\t40\t28\t0\t40\t79\t32\t71\t3.4\t22.7\n",
            "NP_003530.1\tWP_011249698.1\t32.000\t25\t17\t0\t79\t103\t81\t105\t4.3\t22.3\n",
            "NP_003530.1\tWP_011249638.1\t26.829\t41\t30\t0\t25\t65\t102\t142\t6.0\t21.9\n",
            "NP_003530.1\tWP_011250788.1\t29.630\t54\t28\t3\t29\t74\t7\t58\t7.1\t21.6\n",
            "NP_003530.1\tWP_011249209.1\t25.926\t81\t56\t1\t24\t100\t289\t369\t8.0\t21.6\n"
          ]
        }
      ]
    },
    {
      "cell_type": "markdown",
      "source": [
        "# Heatmap\n"
      ],
      "metadata": {
        "id": "yFLDYEbxMgbJ"
      }
    },
    {
      "cell_type": "code",
      "source": [
        "import pandas as pd\n",
        "import matplotlib.pyplot as plt\n",
        "import seaborn as sns"
      ],
      "metadata": {
        "id": "wxHMBx7KNnPV"
      },
      "execution_count": null,
      "outputs": []
    },
    {
      "cell_type": "code",
      "source": [
        "df=pd.read_excel(\"-LogEvalue.xlsx\", index_col='Sbj')\n",
        "print(df)"
      ],
      "metadata": {
        "colab": {
          "base_uri": "https://localhost:8080/"
        },
        "id": "VKURRE5NMeut",
        "outputId": "1b3d6e19-e967-4856-fba5-3b4bd1b0245f"
      },
      "execution_count": null,
      "outputs": [
        {
          "output_type": "stream",
          "name": "stdout",
          "text": [
            "                           human       mouse   zebrafish  drosophila  \\\n",
            "Sbj                                                                    \n",
            "KMT2A_NP_001399526_1  300.000000  300.000000  300.000000   90.586700   \n",
            "H2A                    90.306273   83.340084   80.974694   68.630784   \n",
            "H2B                    87.598599   87.754487   82.043832   59.549751   \n",
            "H3                     95.659556   95.812479   94.752027   95.027334   \n",
            "H4                     66.962574   67.119186   67.946922   67.095826   \n",
            "\n",
            "                      c.elegans    ciliate      yeast  methanocaldococcus  \\\n",
            "Sbj                                                                         \n",
            "KMT2A_NP_001399526_1  43.563837  29.211125  36.217527            0.376751   \n",
            "H2A                   66.185087  56.610834  62.051587            3.000000   \n",
            "H2B                   65.185087  50.340084  59.267606           -0.255273   \n",
            "H3                    93.350665  85.075204  86.480172            1.468521   \n",
            "H4                    67.211125  44.707744  51.966576            4.085128   \n",
            "\n",
            "                      thermococcus    e.coli  tuberculosis  \n",
            "Sbj                                                         \n",
            "KMT2A_NP_001399526_1      0.795880  0.065502      0.795880  \n",
            "H2A                       0.823909 -0.079181      0.397940  \n",
            "H2B                      -0.079181 -0.204120     -0.342423  \n",
            "H3                        1.244125  0.045757     -0.662758  \n",
            "H4                        4.480172 -0.113943      1.161151  \n"
          ]
        }
      ]
    },
    {
      "cell_type": "code",
      "source": [
        "desired_order = ['human', 'mouse', 'zebrafish', 'drosophila', 'c.elegans', 'ciliate', 'yeast', 'methanocaldococcus', 'thermococcus', 'e.coli', 'tuberculosis']\n",
        "df = df.reindex(columns=desired_order)\n",
        "sns.heatmap(df, fmt=list)\n",
        "\n",
        "plt.show()"
      ],
      "metadata": {
        "colab": {
          "base_uri": "https://localhost:8080/",
          "height": 568
        },
        "id": "QSXij456NxMI",
        "outputId": "3b537988-a5e1-4cd1-de92-4e4974ff64de"
      },
      "execution_count": null,
      "outputs": [
        {
          "output_type": "display_data",
          "data": {
            "text/plain": [
              "<Figure size 640x480 with 2 Axes>"
            ],
            "image/png": "[encoded data removed]"
          },
          "metadata": {}
        }
      ]
    }
  ]
}